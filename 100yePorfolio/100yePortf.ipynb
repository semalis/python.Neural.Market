{
 "cells": [
  {
   "cell_type": "code",
   "execution_count": 1,
   "metadata": {
    "collapsed": true,
    "pycharm": {
     "name": "#%%\n"
    }
   },
   "outputs": [],
   "source": [
    "import sys\n",
    "from yahoo_fin import stock_info as si\n",
    "import numpy as np\n",
    "import pandas as pd\n",
    "import time\n",
    "import os\n",
    "from termcolor import colored\n",
    "\n",
    "cache_dir = 'cache_dir'\n",
    "if not os.path.isdir(cache_dir):\n",
    "    os.mkdir(cache_dir)"
   ]
  },
  {
   "cell_type": "code",
   "execution_count": 2,
   "outputs": [],
   "source": [
    "def get_new_ticker(ticker_, interval):\n",
    "    new_ticker = pd.DataFrame\n",
    "    file_ticker = os.path.join(cache_dir,ticker_ + '_' + time.strftime(\"%Y-%m-%d\") + '_' + interval + \".csv\")\n",
    "    if not os.path.isfile(file_ticker):\n",
    "        new_ticker = si.get_data(ticker_, interval=interval)\n",
    "        if \"date\" not in new_ticker.columns:\n",
    "            new_ticker[\"date\"] = new_ticker.index\n",
    "        new_ticker.to_csv(file_ticker, index=False)\n",
    "    if os.path.isfile(file_ticker):\n",
    "        new_ticker = pd.read_csv(file_ticker,index_col='date')\n",
    "        new_ticker.rename(columns={'close':ticker_}, inplace=True)\n",
    "        new_ticker.drop(['open', 'high','low','volume','ticker','adjclose'], axis='columns', inplace=True)\n",
    "    return new_ticker\n",
    "\n",
    "def portfolio(tickers_list, interval):\n",
    "    df_ticker = pd.DataFrame\n",
    "    for ticker in tickers_list:\n",
    "        if not df_ticker.empty:\n",
    "            df_ticker = pd.concat([df_ticker, get_new_ticker(ticker, interval) ], axis=1)\n",
    "        else:\n",
    "            df_ticker = pd.concat([get_new_ticker(ticker, interval) ], axis=1)\n",
    "    return df_ticker"
   ],
   "metadata": {
    "collapsed": false,
    "pycharm": {
     "name": "#%%\n"
    }
   }
  },
  {
   "cell_type": "code",
   "execution_count": 3,
   "outputs": [],
   "source": [
    "tickers = [\n",
    "    'BTC-USD',\n",
    "    'VIXY',\n",
    "    # '^VIX',\n",
    "    'VOO', #Vanguard S&P 500 ETF\n",
    "    'QQQ',\n",
    "    'KWEB',\n",
    "    'VNQ',\n",
    "    'TLT', #iShares 20+ Year Treasury Bond ETF (TLT)\n",
    "    'BAR',\n",
    "    'GLD',\n",
    "    'COMT', # iShares GSCI Commodity Dynamic Roll Strategy ETF (COMT)\n",
    "    # # 'DBC', # Invesco DB Commodity Index Tracking Fund (DBC)\n",
    "]\n",
    "# 14%\t14%\t5%      22% 13% 10% 10%     5%      7%\n",
    "# VOO   QQQ KWEB    VNQ TLT BAR COMT    VIXY    BTC-USD\n",
    "df = portfolio(tickers,'1mo') #“1d”, “1wk”, “1mo”\n",
    "df.tail(5)\n",
    "df.to_csv(\"df.csv\")"
   ],
   "metadata": {
    "collapsed": false,
    "pycharm": {
     "name": "#%%\n"
    }
   }
  },
  {
   "cell_type": "code",
   "execution_count": 4,
   "outputs": [],
   "source": [
    "# df = df.loc['2019-01-01':]\n",
    "# df.head()"
   ],
   "metadata": {
    "collapsed": false,
    "pycharm": {
     "name": "#%%\n"
    }
   }
  },
  {
   "cell_type": "code",
   "execution_count": 5,
   "outputs": [],
   "source": [
    "df.replace('', np.nan, inplace=True)\n",
    "df = df.dropna()"
   ],
   "metadata": {
    "collapsed": false,
    "pycharm": {
     "name": "#%%\n"
    }
   }
  },
  {
   "cell_type": "code",
   "execution_count": 6,
   "outputs": [],
   "source": [
    "percent = {0:3,\n",
    "           1:9,\n",
    "           2:14,\n",
    "           3:14,\n",
    "           4:5,\n",
    "           5:22,\n",
    "           6:13,\n",
    "           7:10,\n",
    "           8:10\n",
    "           }\n",
    "start_summ , begin = 1000000 , 1000000\n",
    "sum_per = 0\n",
    "for j in range(len(percent)):\n",
    "    sum_per += percent[j]\n",
    "if sum_per != 100:\n",
    "    print(colored(str(sum_per) + \"%\",\"red\"))\n",
    "    print(colored(\"Сумма долей не ровна 100%\",\"yellow\"))\n",
    "    sys.exit()\n"
   ],
   "metadata": {
    "collapsed": false,
    "pycharm": {
     "name": "#%%\n"
    }
   }
  },
  {
   "cell_type": "code",
   "execution_count": 7,
   "outputs": [],
   "source": [
    "rows = len(df.index)\n",
    "columns = len(df.columns)"
   ],
   "metadata": {
    "collapsed": false,
    "pycharm": {
     "name": "#%%\n"
    }
   }
  },
  {
   "cell_type": "code",
   "execution_count": 8,
   "outputs": [
    {
     "ename": "KeyError",
     "evalue": "9",
     "output_type": "error",
     "traceback": [
      "\u001B[1;31m---------------------------------------------------------------------------\u001B[0m",
      "\u001B[1;31mKeyError\u001B[0m                                  Traceback (most recent call last)",
      "\u001B[1;32m~\\AppData\\Local\\Temp/ipykernel_24012/304785262.py\u001B[0m in \u001B[0;36m<module>\u001B[1;34m\u001B[0m\n\u001B[0;32m     13\u001B[0m     \u001B[1;32mfor\u001B[0m \u001B[0mj\u001B[0m \u001B[1;32min\u001B[0m \u001B[0mrange\u001B[0m\u001B[1;33m(\u001B[0m\u001B[0mcolumns\u001B[0m\u001B[1;33m)\u001B[0m\u001B[1;33m:\u001B[0m\u001B[1;33m\u001B[0m\u001B[1;33m\u001B[0m\u001B[0m\n\u001B[0;32m     14\u001B[0m         \u001B[1;32mif\u001B[0m \u001B[0mi\u001B[0m \u001B[1;33m>\u001B[0m \u001B[1;36m0\u001B[0m \u001B[1;32mand\u001B[0m \u001B[0mj\u001B[0m \u001B[1;33m<\u001B[0m \u001B[0mcolumns\u001B[0m\u001B[1;33m:\u001B[0m\u001B[1;33m\u001B[0m\u001B[1;33m\u001B[0m\u001B[0m\n\u001B[1;32m---> 15\u001B[1;33m             \u001B[0mpre_count\u001B[0m \u001B[1;33m=\u001B[0m \u001B[0mstart_summ\u001B[0m \u001B[1;33m*\u001B[0m \u001B[0mpercent\u001B[0m\u001B[1;33m[\u001B[0m\u001B[0mj\u001B[0m\u001B[1;33m]\u001B[0m\u001B[1;33m/\u001B[0m\u001B[1;36m100\u001B[0m\u001B[1;33m/\u001B[0m\u001B[0mdf\u001B[0m\u001B[1;33m.\u001B[0m\u001B[0miloc\u001B[0m\u001B[1;33m[\u001B[0m\u001B[0mi\u001B[0m\u001B[1;33m-\u001B[0m\u001B[1;36m1\u001B[0m\u001B[1;33m:\u001B[0m\u001B[0mi\u001B[0m\u001B[1;33m,\u001B[0m\u001B[0mj\u001B[0m\u001B[1;33m:\u001B[0m\u001B[0mj\u001B[0m\u001B[1;33m+\u001B[0m\u001B[1;36m1\u001B[0m\u001B[1;33m]\u001B[0m\u001B[1;33m.\u001B[0m\u001B[0mvalues\u001B[0m\u001B[1;33m\u001B[0m\u001B[1;33m\u001B[0m\u001B[0m\n\u001B[0m\u001B[0;32m     16\u001B[0m             \u001B[0mpre_summ\u001B[0m \u001B[1;33m=\u001B[0m \u001B[0mpre_count\u001B[0m \u001B[1;33m*\u001B[0m \u001B[0mdf\u001B[0m\u001B[1;33m.\u001B[0m\u001B[0miloc\u001B[0m\u001B[1;33m[\u001B[0m\u001B[0mi\u001B[0m\u001B[1;33m:\u001B[0m\u001B[0mi\u001B[0m\u001B[1;33m+\u001B[0m\u001B[1;36m1\u001B[0m\u001B[1;33m,\u001B[0m\u001B[0mj\u001B[0m\u001B[1;33m:\u001B[0m\u001B[0mj\u001B[0m\u001B[1;33m+\u001B[0m\u001B[1;36m1\u001B[0m\u001B[1;33m]\u001B[0m\u001B[1;33m.\u001B[0m\u001B[0mvalues\u001B[0m\u001B[1;33m\u001B[0m\u001B[1;33m\u001B[0m\u001B[0m\n\u001B[0;32m     17\u001B[0m             \u001B[0mrow_summ\u001B[0m \u001B[1;33m=\u001B[0m \u001B[0mrow_summ\u001B[0m \u001B[1;33m+\u001B[0m \u001B[0mpre_summ\u001B[0m\u001B[1;33m\u001B[0m\u001B[1;33m\u001B[0m\u001B[0m\n",
      "\u001B[1;31mKeyError\u001B[0m: 9"
     ]
    }
   ],
   "source": [
    "import datetime as dt\n",
    "df['summ'] = 1000000\n",
    "row_summ = 0\n",
    "year = {}\n",
    "for i in range(rows):\n",
    "    row_summ = 0\n",
    "    year_ = pd.to_datetime(df.index[i]).strftime('%Y')\n",
    "    if i > 0:\n",
    "        start_summ = df.iloc[i-1:i,columns:columns+1].values\n",
    "        # year_ = pd.to_datetime(df.index[i]).strftime('%Y')\n",
    "        # print(pd.to_datetime(df.index[i]).strftime('%Y')) # pd.to_datetime(df['ArrivalDate']).dt.strftime('%Y-%m')\n",
    "        # year[year_] = start_summ\n",
    "    for j in range(columns):\n",
    "        if i > 0 and j < columns:\n",
    "            pre_count = start_summ * percent[j]/100/df.iloc[i-1:i,j:j+1].values\n",
    "            pre_summ = pre_count * df.iloc[i:i+1,j:j+1].values\n",
    "            row_summ = row_summ + pre_summ\n",
    "            df.iloc[i:i+1,columns:columns+1] = row_summ\n",
    "            year[year_] = row_summ\n",
    "i = 0\n",
    "a = 0\n",
    "for y in year:\n",
    "    if i==0:\n",
    "        a = (year[y]/begin - 1) * 100\n",
    "    else:\n",
    "        a = (year[y]/year[str(int(y)-1)] - 1) * 100\n",
    "    print('year: ' + str(y) + \" \" + str(year[y]) + ' ' + str(a))\n",
    "    i += 1\n",
    "\n",
    "# print(year)\n",
    "\n",
    "# print(\"year 2021:\" + str(year['2021']))\n",
    "print((row_summ/begin-1)*100)"
   ],
   "metadata": {
    "collapsed": false,
    "pycharm": {
     "name": "#%%\n"
    }
   }
  }
 ],
 "metadata": {
  "kernelspec": {
   "display_name": "Python 3",
   "language": "python",
   "name": "python3"
  },
  "language_info": {
   "codemirror_mode": {
    "name": "ipython",
    "version": 2
   },
   "file_extension": ".py",
   "mimetype": "text/x-python",
   "name": "python",
   "nbconvert_exporter": "python",
   "pygments_lexer": "ipython2",
   "version": "2.7.6"
  }
 },
 "nbformat": 4,
 "nbformat_minor": 0
}