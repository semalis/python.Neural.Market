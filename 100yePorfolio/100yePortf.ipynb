{
 "cells": [
  {
   "cell_type": "code",
   "execution_count": 266,
   "metadata": {
    "collapsed": true
   },
   "outputs": [],
   "source": [
    "import sys\n",
    "from yahoo_fin import stock_info as si\n",
    "import numpy as np\n",
    "import pandas as pd\n",
    "import time\n",
    "import os\n",
    "from termcolor import colored\n",
    "\n",
    "cache_dir = 'cache_dir'\n",
    "if not os.path.isdir(cache_dir):\n",
    "    os.mkdir(cache_dir)"
   ]
  },
  {
   "cell_type": "code",
   "execution_count": 267,
   "outputs": [],
   "source": [
    "def get_new_ticker(ticker_, interval):\n",
    "    new_ticker = pd.DataFrame\n",
    "    file_ticker = os.path.join(cache_dir,ticker_ + '_' + time.strftime(\"%Y-%m-%d\") + '_' + interval + \".csv\")\n",
    "    if not os.path.isfile(file_ticker):\n",
    "        new_ticker = si.get_data(ticker_, interval=interval)\n",
    "        if \"date\" not in new_ticker.columns:\n",
    "            new_ticker[\"date\"] = new_ticker.index\n",
    "        new_ticker.to_csv(file_ticker, index=False)\n",
    "    if os.path.isfile(file_ticker):\n",
    "        new_ticker = pd.read_csv(file_ticker,index_col='date')\n",
    "        new_ticker.rename(columns={'close':ticker_}, inplace=True)\n",
    "        new_ticker.drop(['open', 'high','low','volume','ticker','adjclose'], axis='columns', inplace=True)\n",
    "    return new_ticker\n",
    "\n",
    "def portfolio(tickers_list, interval):\n",
    "    df_ticker = pd.DataFrame\n",
    "    for ticker in tickers_list:\n",
    "        if not df_ticker.empty:\n",
    "            df_ticker = pd.concat([df_ticker, get_new_ticker(ticker, interval) ], axis=1)\n",
    "        else:\n",
    "            df_ticker = pd.concat([get_new_ticker(ticker, interval) ], axis=1)\n",
    "    return df_ticker"
   ],
   "metadata": {
    "collapsed": false,
    "pycharm": {
     "name": "#%%\n"
    }
   }
  },
  {
   "cell_type": "code",
   "execution_count": 268,
   "outputs": [],
   "source": [
    "tickers = [\n",
    "    'BTC-USD',\n",
    "    # 'VIXY',\n",
    "    '^VIX',\n",
    "    'VOO', #Vanguard S&P 500 ETF\n",
    "    'QQQ',\n",
    "    'KWEB',\n",
    "    'VNQ',\n",
    "    'TLT', #iShares 20+ Year Treasury Bond ETF (TLT)\n",
    "    'BAR',\n",
    "    # # 'GLD',\n",
    "    'COMT', # iShares GSCI Commodity Dynamic Roll Strategy ETF (COMT)\n",
    "    # # 'DBC', # Invesco DB Commodity Index Tracking Fund (DBC)\n",
    "]\n",
    "# 14%\t14%\t5%      22% 13% 10% 10%     5%      7%\n",
    "# VOO   QQQ KWEB    VNQ TLT BAR COMT    VIXY    BTC-USD\n",
    "df = portfolio(tickers,'1mo') #“1d”, “1wk”, “1mo”\n",
    "df.tail(5)\n",
    "df.to_csv(\"df.csv\")"
   ],
   "metadata": {
    "collapsed": false,
    "pycharm": {
     "name": "#%%\n"
    }
   }
  },
  {
   "cell_type": "code",
   "execution_count": 269,
   "outputs": [
    {
     "data": {
      "text/plain": "                 BTC-USD       ^VIX         VOO         QQQ       KWEB  \\\ndate                                                                     \n2021-01-01  33114.359375  33.090000  340.179993  314.559998  86.790001   \n2021-02-01  45137.769531  27.950001  349.589996  314.140015  89.790001   \n2021-03-01  58918.832031  19.400000  364.299988  319.130005  76.349998   \n2021-04-01  57750.175781  18.610001  383.570007  337.989990  75.139999   \n2021-05-01  37332.855469  16.760000  386.130005  333.929993  70.400002   \n\n                  VNQ         TLT        BAR       COMT  \ndate                                                     \n2021-01-01  84.959999  152.000000  18.309999  27.540001  \n2021-02-01  87.870003  143.119995  17.170000  30.299999  \n2021-03-01  91.860001  135.449997  16.980000  29.920000  \n2021-04-01  99.080002  138.639999  17.580000  32.130001  \n2021-05-01  99.879997  138.440002  18.920000  33.189999  ",
      "text/html": "<div>\n<style scoped>\n    .dataframe tbody tr th:only-of-type {\n        vertical-align: middle;\n    }\n\n    .dataframe tbody tr th {\n        vertical-align: top;\n    }\n\n    .dataframe thead th {\n        text-align: right;\n    }\n</style>\n<table border=\"1\" class=\"dataframe\">\n  <thead>\n    <tr style=\"text-align: right;\">\n      <th></th>\n      <th>BTC-USD</th>\n      <th>^VIX</th>\n      <th>VOO</th>\n      <th>QQQ</th>\n      <th>KWEB</th>\n      <th>VNQ</th>\n      <th>TLT</th>\n      <th>BAR</th>\n      <th>COMT</th>\n    </tr>\n    <tr>\n      <th>date</th>\n      <th></th>\n      <th></th>\n      <th></th>\n      <th></th>\n      <th></th>\n      <th></th>\n      <th></th>\n      <th></th>\n      <th></th>\n    </tr>\n  </thead>\n  <tbody>\n    <tr>\n      <th>2021-01-01</th>\n      <td>33114.359375</td>\n      <td>33.090000</td>\n      <td>340.179993</td>\n      <td>314.559998</td>\n      <td>86.790001</td>\n      <td>84.959999</td>\n      <td>152.000000</td>\n      <td>18.309999</td>\n      <td>27.540001</td>\n    </tr>\n    <tr>\n      <th>2021-02-01</th>\n      <td>45137.769531</td>\n      <td>27.950001</td>\n      <td>349.589996</td>\n      <td>314.140015</td>\n      <td>89.790001</td>\n      <td>87.870003</td>\n      <td>143.119995</td>\n      <td>17.170000</td>\n      <td>30.299999</td>\n    </tr>\n    <tr>\n      <th>2021-03-01</th>\n      <td>58918.832031</td>\n      <td>19.400000</td>\n      <td>364.299988</td>\n      <td>319.130005</td>\n      <td>76.349998</td>\n      <td>91.860001</td>\n      <td>135.449997</td>\n      <td>16.980000</td>\n      <td>29.920000</td>\n    </tr>\n    <tr>\n      <th>2021-04-01</th>\n      <td>57750.175781</td>\n      <td>18.610001</td>\n      <td>383.570007</td>\n      <td>337.989990</td>\n      <td>75.139999</td>\n      <td>99.080002</td>\n      <td>138.639999</td>\n      <td>17.580000</td>\n      <td>32.130001</td>\n    </tr>\n    <tr>\n      <th>2021-05-01</th>\n      <td>37332.855469</td>\n      <td>16.760000</td>\n      <td>386.130005</td>\n      <td>333.929993</td>\n      <td>70.400002</td>\n      <td>99.879997</td>\n      <td>138.440002</td>\n      <td>18.920000</td>\n      <td>33.189999</td>\n    </tr>\n  </tbody>\n</table>\n</div>"
     },
     "execution_count": 269,
     "metadata": {},
     "output_type": "execute_result"
    }
   ],
   "source": [
    "df = df.loc['2021-01-01':]\n",
    "df.head()"
   ],
   "metadata": {
    "collapsed": false,
    "pycharm": {
     "name": "#%%\n"
    }
   }
  },
  {
   "cell_type": "code",
   "execution_count": 270,
   "outputs": [],
   "source": [
    "df.replace('', np.nan, inplace=True)\n",
    "df = df.dropna()"
   ],
   "metadata": {
    "collapsed": false,
    "pycharm": {
     "name": "#%%\n"
    }
   }
  },
  {
   "cell_type": "code",
   "execution_count": 271,
   "outputs": [],
   "source": [
    "percent = {0:7,\n",
    "           1:5,\n",
    "           2:14,\n",
    "           3:14,\n",
    "           4:5,\n",
    "           5:22,\n",
    "           6:13,\n",
    "           7:10,\n",
    "           8:10\n",
    "           }\n",
    "start_summ , begin = 1000000 , 1000000\n",
    "sum_per = 0\n",
    "for j in range(len(percent)):\n",
    "    sum_per += percent[j]\n",
    "if sum_per != 100:\n",
    "    print(colored(str(sum_per) + \"%\",\"red\"))\n",
    "    print(colored(\"Сумма долей не ровна 100%\",\"yellow\"))\n",
    "    sys.exit()\n"
   ],
   "metadata": {
    "collapsed": false,
    "pycharm": {
     "name": "#%%\n"
    }
   }
  },
  {
   "cell_type": "code",
   "execution_count": 272,
   "outputs": [],
   "source": [
    "rows = len(df.index)\n",
    "columns = len(df.columns)"
   ],
   "metadata": {
    "collapsed": false,
    "pycharm": {
     "name": "#%%\n"
    }
   }
  },
  {
   "cell_type": "code",
   "execution_count": 290,
   "outputs": [
    {
     "name": "stdout",
     "output_type": "stream",
     "text": [
      "2021\n",
      "2021\n",
      "2021\n",
      "2021\n",
      "2021\n",
      "2021\n",
      "2021\n",
      "2021\n",
      "2021\n",
      "2021\n",
      "2021\n"
     ]
    }
   ],
   "source": [
    "import datetime as dt\n",
    "df['summ'] = 1000000\n",
    "row_summ = 0\n",
    "for i in range(rows):\n",
    "    row_summ = 0\n",
    "    if i > 0:\n",
    "        start_summ = df.iloc[i-1:i,columns:columns+1].values\n",
    "        print(pd.to_datetime(df.index[i]).strftime('%Y')) # pd.to_datetime(df['ArrivalDate']).dt.strftime('%Y-%m')"
   ],
   "metadata": {
    "collapsed": false,
    "pycharm": {
     "name": "#%%\n"
    }
   }
  },
  {
   "cell_type": "code",
   "execution_count": null,
   "outputs": [],
   "source": [],
   "metadata": {
    "collapsed": false,
    "pycharm": {
     "name": "#%%\n"
    }
   }
  }
 ],
 "metadata": {
  "kernelspec": {
   "display_name": "Python 3",
   "language": "python",
   "name": "python3"
  },
  "language_info": {
   "codemirror_mode": {
    "name": "ipython",
    "version": 2
   },
   "file_extension": ".py",
   "mimetype": "text/x-python",
   "name": "python",
   "nbconvert_exporter": "python",
   "pygments_lexer": "ipython2",
   "version": "2.7.6"
  }
 },
 "nbformat": 4,
 "nbformat_minor": 0
}