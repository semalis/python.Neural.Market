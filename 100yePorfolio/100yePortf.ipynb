{
 "cells": [
  {
   "cell_type": "code",
   "execution_count": 1854,
   "metadata": {
    "collapsed": true
   },
   "outputs": [],
   "source": [
    "import datetime\n",
    "\n",
    "from yahoo_fin import stock_info as si\n",
    "import numpy as np\n",
    "import pandas as pd\n",
    "import time\n",
    "import os\n",
    "\n",
    "cache_dir = 'cache_dir'\n",
    "if not os.path.isdir(cache_dir):\n",
    "    os.mkdir(cache_dir)"
   ]
  },
  {
   "cell_type": "code",
   "execution_count": 1855,
   "outputs": [],
   "source": [
    "def get_new_ticker(ticker_, interval):\n",
    "    new_ticker = pd.DataFrame\n",
    "    file_ticker = os.path.join(cache_dir,ticker_ + '_' + time.strftime(\"%Y-%m-%d\") + '_' + interval + \".csv\")\n",
    "    if not os.path.isfile(file_ticker):\n",
    "        new_ticker = si.get_data(ticker_, interval=interval)\n",
    "        if \"date\" not in new_ticker.columns:\n",
    "            new_ticker[\"date\"] = new_ticker.index\n",
    "        new_ticker.to_csv(file_ticker, index=False)\n",
    "\n",
    "    if os.path.isfile(file_ticker):\n",
    "        new_ticker = pd.read_csv(file_ticker,index_col='date')\n",
    "        new_ticker.rename(columns={'close':ticker_}, inplace=True)\n",
    "        new_ticker.drop(['open', 'high','low','volume','ticker','adjclose'], axis='columns', inplace=True)\n",
    "\n",
    "    return new_ticker\n",
    "\n",
    "def portfolio(tickers_list, interval):\n",
    "    df_ticker = pd.DataFrame\n",
    "    for ticker in tickers_list:\n",
    "        if not df_ticker.empty:\n",
    "            df_ticker = pd.concat([df_ticker, get_new_ticker(ticker, interval) ], axis=1)\n",
    "        else:\n",
    "            df_ticker = pd.concat([get_new_ticker(ticker, interval) ], axis=1)\n",
    "\n",
    "    return df_ticker\n",
    "\n",
    "# VOO\tQQQ\tKWEB\tVNQ\tTLT\tBAR\tCOMT\tVIXY\tBTC-USD\n",
    "# "
   ],
   "metadata": {
    "collapsed": false,
    "pycharm": {
     "name": "#%%\n"
    }
   }
  },
  {
   "cell_type": "code",
   "execution_count": 1856,
   "outputs": [],
   "source": [
    "tickers = [\n",
    "    'BTC-USD',\n",
    "    'VOO', #Vanguard S&P 500 ETF\n",
    "    'QQQ',\n",
    "    'KWEB',\n",
    "    'VNQ',\n",
    "    'TLT', #iShares 20+ Year Treasury Bond ETF (TLT)\n",
    "    'BAR',\n",
    "    # # 'GLD',\n",
    "    'COMT', # iShares GSCI Commodity Dynamic Roll Strategy ETF (COMT)\n",
    "    # # 'DBC', # Invesco DB Commodity Index Tracking Fund (DBC)\n",
    "    # 'VIXY',\n",
    "    '^VIX',\n",
    "\n",
    "    ]\n",
    "\n",
    "# 14%\t14%\t5%\t22%\t13%\t10%\t10%\t5%\t7%\n",
    "# VOO\tQQQ\tKWEB\tVNQ\tTLT\tBAR\tCOMT\tVIXY\tBTC-USD\n",
    "\n",
    "df = portfolio(tickers,'1d') #“1d”, “1wk”, “1mo”\n",
    "df.tail(5)\n",
    "df.to_csv(\"df.csv\")"
   ],
   "metadata": {
    "collapsed": false,
    "pycharm": {
     "name": "#%%\n"
    }
   }
  },
  {
   "cell_type": "code",
   "execution_count": 1857,
   "outputs": [
    {
     "data": {
      "text/plain": "                 BTC-USD         VOO         QQQ       KWEB         VNQ  \\\ndate                                                                      \n2021-11-01  61004.406250  423.049988  387.429993  50.299999  109.580002   \n2021-11-02  63226.402344  424.690002  389.049988  48.400002  110.099998   \n2021-11-03  62970.046875  427.250000  393.179993  49.049999  110.470001   \n2021-11-04  61452.230469  429.250000  398.220001  47.840000  109.419998   \n2021-11-05  61125.675781  430.709991  398.600006  46.840000  109.980003   \n\n                   TLT        BAR       COMT       ^VIX  \ndate                                                     \n2021-11-01  146.440002  17.790001  37.630001  16.410000  \n2021-11-02  147.089996  17.740000  37.700001  16.030001  \n2021-11-03  145.570007  17.600000  36.959999  15.100000  \n2021-11-04  147.100006  17.809999  36.740002  15.440000  \n2021-11-05  149.300003  18.040001  37.220001  16.480000  ",
      "text/html": "<div>\n<style scoped>\n    .dataframe tbody tr th:only-of-type {\n        vertical-align: middle;\n    }\n\n    .dataframe tbody tr th {\n        vertical-align: top;\n    }\n\n    .dataframe thead th {\n        text-align: right;\n    }\n</style>\n<table border=\"1\" class=\"dataframe\">\n  <thead>\n    <tr style=\"text-align: right;\">\n      <th></th>\n      <th>BTC-USD</th>\n      <th>VOO</th>\n      <th>QQQ</th>\n      <th>KWEB</th>\n      <th>VNQ</th>\n      <th>TLT</th>\n      <th>BAR</th>\n      <th>COMT</th>\n      <th>^VIX</th>\n    </tr>\n    <tr>\n      <th>date</th>\n      <th></th>\n      <th></th>\n      <th></th>\n      <th></th>\n      <th></th>\n      <th></th>\n      <th></th>\n      <th></th>\n      <th></th>\n    </tr>\n  </thead>\n  <tbody>\n    <tr>\n      <th>2021-11-01</th>\n      <td>61004.406250</td>\n      <td>423.049988</td>\n      <td>387.429993</td>\n      <td>50.299999</td>\n      <td>109.580002</td>\n      <td>146.440002</td>\n      <td>17.790001</td>\n      <td>37.630001</td>\n      <td>16.410000</td>\n    </tr>\n    <tr>\n      <th>2021-11-02</th>\n      <td>63226.402344</td>\n      <td>424.690002</td>\n      <td>389.049988</td>\n      <td>48.400002</td>\n      <td>110.099998</td>\n      <td>147.089996</td>\n      <td>17.740000</td>\n      <td>37.700001</td>\n      <td>16.030001</td>\n    </tr>\n    <tr>\n      <th>2021-11-03</th>\n      <td>62970.046875</td>\n      <td>427.250000</td>\n      <td>393.179993</td>\n      <td>49.049999</td>\n      <td>110.470001</td>\n      <td>145.570007</td>\n      <td>17.600000</td>\n      <td>36.959999</td>\n      <td>15.100000</td>\n    </tr>\n    <tr>\n      <th>2021-11-04</th>\n      <td>61452.230469</td>\n      <td>429.250000</td>\n      <td>398.220001</td>\n      <td>47.840000</td>\n      <td>109.419998</td>\n      <td>147.100006</td>\n      <td>17.809999</td>\n      <td>36.740002</td>\n      <td>15.440000</td>\n    </tr>\n    <tr>\n      <th>2021-11-05</th>\n      <td>61125.675781</td>\n      <td>430.709991</td>\n      <td>398.600006</td>\n      <td>46.840000</td>\n      <td>109.980003</td>\n      <td>149.300003</td>\n      <td>18.040001</td>\n      <td>37.220001</td>\n      <td>16.480000</td>\n    </tr>\n  </tbody>\n</table>\n</div>"
     },
     "execution_count": 1857,
     "metadata": {},
     "output_type": "execute_result"
    }
   ],
   "source": [
    "df = df.loc['2021-11-01':]\n",
    "df.head()"
   ],
   "metadata": {
    "collapsed": false,
    "pycharm": {
     "name": "#%%\n"
    }
   }
  },
  {
   "cell_type": "code",
   "execution_count": 1858,
   "outputs": [],
   "source": [
    "df.replace('', np.nan, inplace=True)\n",
    "df = df.dropna()"
   ],
   "metadata": {
    "collapsed": false,
    "pycharm": {
     "name": "#%%\n"
    }
   }
  },
  {
   "cell_type": "code",
   "execution_count": 1859,
   "outputs": [
    {
     "name": "stdout",
     "output_type": "stream",
     "text": [
      "100\n"
     ]
    }
   ],
   "source": [
    "# percent = {'QQQ': 25,'TLT':25,'GLD':25,'^VIX':25}\n",
    "percent = {0:60,\n",
    "           1:0,\n",
    "           2:0,\n",
    "           3:0,\n",
    "           4:0,\n",
    "           5:0,\n",
    "           6:0,\n",
    "           7:0,\n",
    "           8:40\n",
    "           }\n",
    "start_summ , begin = 1000000 , 1000000\n",
    "sum_per = 0\n",
    "for j in range(len(percent)):\n",
    "    sum_per += percent[j]\n",
    "print(sum_per)"
   ],
   "metadata": {
    "collapsed": false,
    "pycharm": {
     "name": "#%%\n"
    }
   }
  },
  {
   "cell_type": "code",
   "execution_count": 1859,
   "outputs": [],
   "source": [],
   "metadata": {
    "collapsed": false,
    "pycharm": {
     "name": "#%%\n"
    }
   }
  },
  {
   "cell_type": "code",
   "execution_count": 1860,
   "outputs": [],
   "source": [
    "rows = len(df.index)\n",
    "columns = len(df.columns)"
   ],
   "metadata": {
    "collapsed": false,
    "pycharm": {
     "name": "#%%\n"
    }
   }
  },
  {
   "cell_type": "code",
   "execution_count": 1861,
   "outputs": [
    {
     "name": "stdout",
     "output_type": "stream",
     "text": [
      "[[-3.8263262]]\n"
     ]
    }
   ],
   "source": [
    "# print(\"rows: \" + str(rows) + \" columns: \" + str(columns))\n",
    "df['summ'] = 1000000\n",
    "for i in range(rows):\n",
    "    row_summ = 0\n",
    "    if i > 0:\n",
    "        start_summ = df.iloc[i-1:i,columns:columns+1].values\n",
    "    for j in range(columns):\n",
    "        if i > 0 and j < columns:\n",
    "            # start_summ = df.iloc[i-1:i,columns:columns+1].values\n",
    "            # print(df.iloc[i-1:i,j:j+1].values)\n",
    "            # print(\"summ:\" + str(start_summ) + \"---\")\n",
    "            # start_summ = df.iloc[i-1:i,columns:columns+1].values\n",
    "            pre_count = start_summ * percent[j]/100/df.iloc[i-1:i,j:j+1].values\n",
    "            pre_summ = pre_count * df.iloc[i:i+1,j:j+1].values\n",
    "            row_summ = row_summ + pre_summ\n",
    "            df.iloc[i:i+1,columns:columns+1] = row_summ\n",
    "\n",
    "# df.head(10)\n",
    "print((row_summ/begin-1)*100)"
   ],
   "metadata": {
    "collapsed": false,
    "pycharm": {
     "name": "#%%\n"
    }
   }
  },
  {
   "cell_type": "code",
   "execution_count": 1862,
   "outputs": [
    {
     "data": {
      "text/plain": "                 BTC-USD         VOO         QQQ       KWEB         VNQ  \\\ndate                                                                      \n2021-11-01  61004.406250  423.049988  387.429993  50.299999  109.580002   \n2021-11-02  63226.402344  424.690002  389.049988  48.400002  110.099998   \n2021-11-03  62970.046875  427.250000  393.179993  49.049999  110.470001   \n2021-11-04  61452.230469  429.250000  398.220001  47.840000  109.419998   \n2021-11-05  61125.675781  430.709991  398.600006  46.840000  109.980003   \n2021-11-08  67566.828125  431.230011  398.059998  48.040001  109.889999   \n2021-11-09  66971.828125  429.720001  395.320007  47.880001  110.080002   \n2021-11-10  64995.230469  426.260010  389.510010  48.980000  109.570000   \n2021-11-11  64949.960938  426.399994  390.589996  51.529999  109.750000   \n2021-11-12  64155.941406  429.570007  394.700012  51.919998  109.669998   \n2021-11-15  63557.871094  429.769989  394.609985  51.139999  110.440002   \n2021-11-16  60161.246094  431.410004  397.420013  51.799999  109.709999   \n2021-11-17  60368.011719  430.369995  397.630005  50.169998  110.050003   \n2021-11-18  56942.136719  431.859985  401.750000  48.450001  110.070000   \n2021-11-19  58119.578125  431.049988  403.989990  48.459999  109.419998   \n2021-11-22  56289.289062  429.910004  399.299988  47.080002  108.879997   \n2021-11-23  57569.074219  430.470001  397.480011  46.660000  109.760002   \n2021-11-24  56280.425781  431.529999  398.760010  47.560001  111.089996   \n2021-11-26  53569.765625  422.140015  391.200012  45.529999  108.000000   \n2021-11-29  57806.566406  427.239990  399.690002  44.919998  108.800003   \n2021-11-30  57005.425781  419.059998  393.820007  44.049999  106.739998   \n2021-12-01  57229.828125  414.239990  387.119995  43.400002  104.980003   \n2021-12-02  56477.816406  420.559998  389.910004  42.830002  108.129997   \n2021-12-03  53598.246094  416.839996  383.130005  39.849998  107.769997   \n2021-12-06  50582.625000  421.820007  386.200012  41.410000  109.660004   \n2021-12-07  50700.085938  430.489990  397.829987  43.220001  111.239998   \n2021-12-08  50504.796875  431.700012  399.609985  43.340000  112.040001   \n2021-12-10  47243.304688  432.850006  398.010010  43.220001  110.760002   \n\n                   TLT        BAR       COMT       ^VIX          summ  \ndate                                                                   \n2021-11-01  146.440002  17.790001  37.630001  16.410000  1.000000e+06  \n2021-11-02  147.089996  17.740000  37.700001  16.030001  1.012591e+06  \n2021-11-03  145.570007  17.600000  36.959999  15.100000  9.866294e+05  \n2021-11-04  147.100006  17.809999  36.740002  15.440000  9.812467e+05  \n2021-11-05  149.300003  18.040001  37.220001  16.480000  1.004556e+06  \n2021-11-08  149.020004  18.110001  37.480000  17.219999  1.086112e+06  \n2021-11-09  150.960007  18.180000  37.770000  17.780001  1.094502e+06  \n2021-11-10  148.199997  18.379999  37.310001  18.730000  1.098512e+06  \n2021-11-11  147.979996  18.480000  37.459999  17.660000  1.072951e+06  \n2021-11-12  147.330002  18.530001  37.419998  16.290001  1.031787e+06  \n2021-11-15  145.479996  18.500000  37.450001  16.490000  1.031082e+06  \n2021-11-16  145.110001  18.360001  37.369999  16.370001  9.950197e+05  \n2021-11-17  146.259995  18.530001  37.090000  17.110001  1.015063e+06  \n2021-11-18  146.809998  18.469999  37.220001  17.590000  9.918910e+05  \n2021-11-19  148.360001  18.340000  36.660000  17.910000  1.011415e+06  \n2021-11-22  146.619995  17.910000  36.889999  19.170000  1.020766e+06  \n2021-11-23  144.500000  17.770000  37.680000  19.379999  1.039164e+06  \n2021-11-24  146.820007  17.750000  37.680000  18.580000  1.008049e+06  \n2021-11-26  150.529999  17.730000  35.169998  28.620001  1.196804e+06  \n2021-11-29  149.320007  17.700001  35.209999  22.959999  1.158923e+06  \n2021-11-30  151.589996  17.570000  34.110001  27.190001  1.234691e+06  \n2021-12-01  152.339996  17.650000  33.759998  31.120001  1.308991e+06  \n2021-12-02  152.529999  17.549999  34.220001  27.950001  1.245336e+06  \n2021-12-03  154.350006  17.700001  34.180000  30.670000  1.255716e+06  \n2021-12-06  152.229996  17.650000  35.029999  27.180000  1.156169e+06  \n2021-12-07  151.000000  17.730000  35.430000  21.889999  1.067771e+06  \n2021-12-08  148.389999  17.730000  35.889999  19.900000  1.026475e+06  \n2021-12-10  148.860001  17.700001  35.650002  18.690001  9.617367e+05  ",
      "text/html": "<div>\n<style scoped>\n    .dataframe tbody tr th:only-of-type {\n        vertical-align: middle;\n    }\n\n    .dataframe tbody tr th {\n        vertical-align: top;\n    }\n\n    .dataframe thead th {\n        text-align: right;\n    }\n</style>\n<table border=\"1\" class=\"dataframe\">\n  <thead>\n    <tr style=\"text-align: right;\">\n      <th></th>\n      <th>BTC-USD</th>\n      <th>VOO</th>\n      <th>QQQ</th>\n      <th>KWEB</th>\n      <th>VNQ</th>\n      <th>TLT</th>\n      <th>BAR</th>\n      <th>COMT</th>\n      <th>^VIX</th>\n      <th>summ</th>\n    </tr>\n    <tr>\n      <th>date</th>\n      <th></th>\n      <th></th>\n      <th></th>\n      <th></th>\n      <th></th>\n      <th></th>\n      <th></th>\n      <th></th>\n      <th></th>\n      <th></th>\n    </tr>\n  </thead>\n  <tbody>\n    <tr>\n      <th>2021-11-01</th>\n      <td>61004.406250</td>\n      <td>423.049988</td>\n      <td>387.429993</td>\n      <td>50.299999</td>\n      <td>109.580002</td>\n      <td>146.440002</td>\n      <td>17.790001</td>\n      <td>37.630001</td>\n      <td>16.410000</td>\n      <td>1.000000e+06</td>\n    </tr>\n    <tr>\n      <th>2021-11-02</th>\n      <td>63226.402344</td>\n      <td>424.690002</td>\n      <td>389.049988</td>\n      <td>48.400002</td>\n      <td>110.099998</td>\n      <td>147.089996</td>\n      <td>17.740000</td>\n      <td>37.700001</td>\n      <td>16.030001</td>\n      <td>1.012591e+06</td>\n    </tr>\n    <tr>\n      <th>2021-11-03</th>\n      <td>62970.046875</td>\n      <td>427.250000</td>\n      <td>393.179993</td>\n      <td>49.049999</td>\n      <td>110.470001</td>\n      <td>145.570007</td>\n      <td>17.600000</td>\n      <td>36.959999</td>\n      <td>15.100000</td>\n      <td>9.866294e+05</td>\n    </tr>\n    <tr>\n      <th>2021-11-04</th>\n      <td>61452.230469</td>\n      <td>429.250000</td>\n      <td>398.220001</td>\n      <td>47.840000</td>\n      <td>109.419998</td>\n      <td>147.100006</td>\n      <td>17.809999</td>\n      <td>36.740002</td>\n      <td>15.440000</td>\n      <td>9.812467e+05</td>\n    </tr>\n    <tr>\n      <th>2021-11-05</th>\n      <td>61125.675781</td>\n      <td>430.709991</td>\n      <td>398.600006</td>\n      <td>46.840000</td>\n      <td>109.980003</td>\n      <td>149.300003</td>\n      <td>18.040001</td>\n      <td>37.220001</td>\n      <td>16.480000</td>\n      <td>1.004556e+06</td>\n    </tr>\n    <tr>\n      <th>2021-11-08</th>\n      <td>67566.828125</td>\n      <td>431.230011</td>\n      <td>398.059998</td>\n      <td>48.040001</td>\n      <td>109.889999</td>\n      <td>149.020004</td>\n      <td>18.110001</td>\n      <td>37.480000</td>\n      <td>17.219999</td>\n      <td>1.086112e+06</td>\n    </tr>\n    <tr>\n      <th>2021-11-09</th>\n      <td>66971.828125</td>\n      <td>429.720001</td>\n      <td>395.320007</td>\n      <td>47.880001</td>\n      <td>110.080002</td>\n      <td>150.960007</td>\n      <td>18.180000</td>\n      <td>37.770000</td>\n      <td>17.780001</td>\n      <td>1.094502e+06</td>\n    </tr>\n    <tr>\n      <th>2021-11-10</th>\n      <td>64995.230469</td>\n      <td>426.260010</td>\n      <td>389.510010</td>\n      <td>48.980000</td>\n      <td>109.570000</td>\n      <td>148.199997</td>\n      <td>18.379999</td>\n      <td>37.310001</td>\n      <td>18.730000</td>\n      <td>1.098512e+06</td>\n    </tr>\n    <tr>\n      <th>2021-11-11</th>\n      <td>64949.960938</td>\n      <td>426.399994</td>\n      <td>390.589996</td>\n      <td>51.529999</td>\n      <td>109.750000</td>\n      <td>147.979996</td>\n      <td>18.480000</td>\n      <td>37.459999</td>\n      <td>17.660000</td>\n      <td>1.072951e+06</td>\n    </tr>\n    <tr>\n      <th>2021-11-12</th>\n      <td>64155.941406</td>\n      <td>429.570007</td>\n      <td>394.700012</td>\n      <td>51.919998</td>\n      <td>109.669998</td>\n      <td>147.330002</td>\n      <td>18.530001</td>\n      <td>37.419998</td>\n      <td>16.290001</td>\n      <td>1.031787e+06</td>\n    </tr>\n    <tr>\n      <th>2021-11-15</th>\n      <td>63557.871094</td>\n      <td>429.769989</td>\n      <td>394.609985</td>\n      <td>51.139999</td>\n      <td>110.440002</td>\n      <td>145.479996</td>\n      <td>18.500000</td>\n      <td>37.450001</td>\n      <td>16.490000</td>\n      <td>1.031082e+06</td>\n    </tr>\n    <tr>\n      <th>2021-11-16</th>\n      <td>60161.246094</td>\n      <td>431.410004</td>\n      <td>397.420013</td>\n      <td>51.799999</td>\n      <td>109.709999</td>\n      <td>145.110001</td>\n      <td>18.360001</td>\n      <td>37.369999</td>\n      <td>16.370001</td>\n      <td>9.950197e+05</td>\n    </tr>\n    <tr>\n      <th>2021-11-17</th>\n      <td>60368.011719</td>\n      <td>430.369995</td>\n      <td>397.630005</td>\n      <td>50.169998</td>\n      <td>110.050003</td>\n      <td>146.259995</td>\n      <td>18.530001</td>\n      <td>37.090000</td>\n      <td>17.110001</td>\n      <td>1.015063e+06</td>\n    </tr>\n    <tr>\n      <th>2021-11-18</th>\n      <td>56942.136719</td>\n      <td>431.859985</td>\n      <td>401.750000</td>\n      <td>48.450001</td>\n      <td>110.070000</td>\n      <td>146.809998</td>\n      <td>18.469999</td>\n      <td>37.220001</td>\n      <td>17.590000</td>\n      <td>9.918910e+05</td>\n    </tr>\n    <tr>\n      <th>2021-11-19</th>\n      <td>58119.578125</td>\n      <td>431.049988</td>\n      <td>403.989990</td>\n      <td>48.459999</td>\n      <td>109.419998</td>\n      <td>148.360001</td>\n      <td>18.340000</td>\n      <td>36.660000</td>\n      <td>17.910000</td>\n      <td>1.011415e+06</td>\n    </tr>\n    <tr>\n      <th>2021-11-22</th>\n      <td>56289.289062</td>\n      <td>429.910004</td>\n      <td>399.299988</td>\n      <td>47.080002</td>\n      <td>108.879997</td>\n      <td>146.619995</td>\n      <td>17.910000</td>\n      <td>36.889999</td>\n      <td>19.170000</td>\n      <td>1.020766e+06</td>\n    </tr>\n    <tr>\n      <th>2021-11-23</th>\n      <td>57569.074219</td>\n      <td>430.470001</td>\n      <td>397.480011</td>\n      <td>46.660000</td>\n      <td>109.760002</td>\n      <td>144.500000</td>\n      <td>17.770000</td>\n      <td>37.680000</td>\n      <td>19.379999</td>\n      <td>1.039164e+06</td>\n    </tr>\n    <tr>\n      <th>2021-11-24</th>\n      <td>56280.425781</td>\n      <td>431.529999</td>\n      <td>398.760010</td>\n      <td>47.560001</td>\n      <td>111.089996</td>\n      <td>146.820007</td>\n      <td>17.750000</td>\n      <td>37.680000</td>\n      <td>18.580000</td>\n      <td>1.008049e+06</td>\n    </tr>\n    <tr>\n      <th>2021-11-26</th>\n      <td>53569.765625</td>\n      <td>422.140015</td>\n      <td>391.200012</td>\n      <td>45.529999</td>\n      <td>108.000000</td>\n      <td>150.529999</td>\n      <td>17.730000</td>\n      <td>35.169998</td>\n      <td>28.620001</td>\n      <td>1.196804e+06</td>\n    </tr>\n    <tr>\n      <th>2021-11-29</th>\n      <td>57806.566406</td>\n      <td>427.239990</td>\n      <td>399.690002</td>\n      <td>44.919998</td>\n      <td>108.800003</td>\n      <td>149.320007</td>\n      <td>17.700001</td>\n      <td>35.209999</td>\n      <td>22.959999</td>\n      <td>1.158923e+06</td>\n    </tr>\n    <tr>\n      <th>2021-11-30</th>\n      <td>57005.425781</td>\n      <td>419.059998</td>\n      <td>393.820007</td>\n      <td>44.049999</td>\n      <td>106.739998</td>\n      <td>151.589996</td>\n      <td>17.570000</td>\n      <td>34.110001</td>\n      <td>27.190001</td>\n      <td>1.234691e+06</td>\n    </tr>\n    <tr>\n      <th>2021-12-01</th>\n      <td>57229.828125</td>\n      <td>414.239990</td>\n      <td>387.119995</td>\n      <td>43.400002</td>\n      <td>104.980003</td>\n      <td>152.339996</td>\n      <td>17.650000</td>\n      <td>33.759998</td>\n      <td>31.120001</td>\n      <td>1.308991e+06</td>\n    </tr>\n    <tr>\n      <th>2021-12-02</th>\n      <td>56477.816406</td>\n      <td>420.559998</td>\n      <td>389.910004</td>\n      <td>42.830002</td>\n      <td>108.129997</td>\n      <td>152.529999</td>\n      <td>17.549999</td>\n      <td>34.220001</td>\n      <td>27.950001</td>\n      <td>1.245336e+06</td>\n    </tr>\n    <tr>\n      <th>2021-12-03</th>\n      <td>53598.246094</td>\n      <td>416.839996</td>\n      <td>383.130005</td>\n      <td>39.849998</td>\n      <td>107.769997</td>\n      <td>154.350006</td>\n      <td>17.700001</td>\n      <td>34.180000</td>\n      <td>30.670000</td>\n      <td>1.255716e+06</td>\n    </tr>\n    <tr>\n      <th>2021-12-06</th>\n      <td>50582.625000</td>\n      <td>421.820007</td>\n      <td>386.200012</td>\n      <td>41.410000</td>\n      <td>109.660004</td>\n      <td>152.229996</td>\n      <td>17.650000</td>\n      <td>35.029999</td>\n      <td>27.180000</td>\n      <td>1.156169e+06</td>\n    </tr>\n    <tr>\n      <th>2021-12-07</th>\n      <td>50700.085938</td>\n      <td>430.489990</td>\n      <td>397.829987</td>\n      <td>43.220001</td>\n      <td>111.239998</td>\n      <td>151.000000</td>\n      <td>17.730000</td>\n      <td>35.430000</td>\n      <td>21.889999</td>\n      <td>1.067771e+06</td>\n    </tr>\n    <tr>\n      <th>2021-12-08</th>\n      <td>50504.796875</td>\n      <td>431.700012</td>\n      <td>399.609985</td>\n      <td>43.340000</td>\n      <td>112.040001</td>\n      <td>148.389999</td>\n      <td>17.730000</td>\n      <td>35.889999</td>\n      <td>19.900000</td>\n      <td>1.026475e+06</td>\n    </tr>\n    <tr>\n      <th>2021-12-10</th>\n      <td>47243.304688</td>\n      <td>432.850006</td>\n      <td>398.010010</td>\n      <td>43.220001</td>\n      <td>110.760002</td>\n      <td>148.860001</td>\n      <td>17.700001</td>\n      <td>35.650002</td>\n      <td>18.690001</td>\n      <td>9.617367e+05</td>\n    </tr>\n  </tbody>\n</table>\n</div>"
     },
     "execution_count": 1862,
     "metadata": {},
     "output_type": "execute_result"
    }
   ],
   "source": [
    "df.to_excel(\"portfolio.xlsx\")\n",
    "df"
   ],
   "metadata": {
    "collapsed": false,
    "pycharm": {
     "name": "#%%\n"
    }
   }
  },
  {
   "cell_type": "code",
   "execution_count": 1862,
   "outputs": [],
   "source": [],
   "metadata": {
    "collapsed": false,
    "pycharm": {
     "name": "#%%\n"
    }
   }
  }
 ],
 "metadata": {
  "kernelspec": {
   "display_name": "Python 3",
   "language": "python",
   "name": "python3"
  },
  "language_info": {
   "codemirror_mode": {
    "name": "ipython",
    "version": 2
   },
   "file_extension": ".py",
   "mimetype": "text/x-python",
   "name": "python",
   "nbconvert_exporter": "python",
   "pygments_lexer": "ipython2",
   "version": "2.7.6"
  }
 },
 "nbformat": 4,
 "nbformat_minor": 0
}