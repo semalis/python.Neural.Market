{
 "cells": [
  {
   "cell_type": "code",
   "execution_count": 74,
   "outputs": [],
   "source": [
    "# !pip3 install tensorflow pandas numpy matplotlib yahoo_fin sklearn fredapi openpyxl"
   ],
   "metadata": {
    "collapsed": false,
    "pycharm": {
     "name": "#%%\n"
    }
   }
  },
  {
   "cell_type": "code",
   "execution_count": 75,
   "outputs": [],
   "source": [
    "import sys\n",
    "\n",
    "import tensorflow as tf\n",
    "from tensorflow.keras.models import Sequential\n",
    "from tensorflow.keras.layers import LSTM, Dense, Dropout, Bidirectional\n",
    "from tensorflow.keras.callbacks import ModelCheckpoint, TensorBoard\n",
    "from sklearn import preprocessing\n",
    "from sklearn.model_selection import train_test_split\n",
    "from yahoo_fin import stock_info as si\n",
    "from collections import deque\n",
    "\n",
    "import os\n",
    "import numpy as np\n",
    "import pandas as pd\n",
    "import random\n",
    "from fredapi import Fred\n",
    "\n",
    "import torch\n"
   ],
   "metadata": {
    "collapsed": false,
    "pycharm": {
     "name": "#%%\n"
    }
   }
  },
  {
   "cell_type": "code",
   "execution_count": 76,
   "outputs": [],
   "source": [
    "# gpu_info = !nvidia-smi\n",
    "# gpu_info = '\\n'.join(gpu_info)\n",
    "# if gpu_info.find('failed') >= 0:\n",
    "#   print('Select the Runtime → \"Change runtime type\" menu to enable a GPU accelerator, ')\n",
    "#   print('and then re-execute this cell.')\n",
    "# else:\n",
    "#   print(gpu_info)"
   ],
   "metadata": {
    "collapsed": false,
    "pycharm": {
     "name": "#%%\n"
    }
   }
  },
  {
   "cell_type": "code",
   "execution_count": 77,
   "outputs": [
    {
     "name": "stdout",
     "output_type": "stream",
     "text": [
      "Using device: cuda\n",
      "\n",
      "NVIDIA GeForce GT 730\n",
      "Memory Usage:\n",
      "Allocated: 0.0 GB\n",
      "Cached:    0.0 GB\n"
     ]
    }
   ],
   "source": [
    "#setting device on GPU if available, else CPU\n",
    "device = torch.device('cuda' if torch.cuda.is_available() else 'cpu')\n",
    "print('Using device:', device)\n",
    "print()\n",
    "\n",
    "#Additional Info when using cuda\n",
    "if device.type == 'cuda':\n",
    "    print(torch.cuda.get_device_name(0))\n",
    "    print('Memory Usage:')\n",
    "    print('Allocated:', round(torch.cuda.memory_allocated(0)/1024**3,1), 'GB')\n",
    "    print('Cached:   ', round(torch.cuda.memory_reserved(0)/1024**3,1), 'GB')"
   ],
   "metadata": {
    "collapsed": false,
    "pycharm": {
     "name": "#%%\n"
    }
   }
  },
  {
   "cell_type": "code",
   "execution_count": 78,
   "outputs": [],
   "source": [
    "# tf.test.is_built_with_cuda ()"
   ],
   "metadata": {
    "collapsed": false,
    "pycharm": {
     "name": "#%%\n"
    }
   }
  },
  {
   "cell_type": "code",
   "execution_count": 79,
   "outputs": [],
   "source": [
    "# tf.test.is_gpu_available (cuda_only = False, min_cuda_compute_capability = None)"
   ],
   "metadata": {
    "collapsed": false,
    "pycharm": {
     "name": "#%%\n"
    }
   }
  },
  {
   "cell_type": "code",
   "execution_count": 80,
   "outputs": [
    {
     "name": "stdout",
     "output_type": "stream",
     "text": [
      "GPU работает\n",
      "[PhysicalDevice(name='/physical_device:GPU:0', device_type='GPU')]\n"
     ]
    }
   ],
   "source": [
    "if tf.config.list_physical_devices('GPU'):\n",
    "    print(\"GPU работает\")\n",
    "    print(tf.config.list_physical_devices('GPU'))\n",
    "else:\n",
    "    print(\"GPU не работает\")\n",
    "    sys.exit()"
   ],
   "metadata": {
    "collapsed": false,
    "pycharm": {
     "name": "#%%\n"
    }
   }
  },
  {
   "cell_type": "code",
   "execution_count": 81,
   "outputs": [],
   "source": [
    "fred = Fred(api_key='39fa3bd07f8f55540a93e075a5f97cc1')"
   ],
   "metadata": {
    "collapsed": false,
    "pycharm": {
     "name": "#%%\n"
    }
   }
  },
  {
   "cell_type": "code",
   "execution_count": 82,
   "outputs": [],
   "source": [
    "series_ids = [\n",
    "    'CHNCPIALLMINMEI','USACPIALLMINMEI','BRACPIALLMINMEI','INDCPIALLMINMEI','BRAPROINDMISMEI'\n",
    "    ,'USAPROINDMISMEI','PCUOMFGOMFG','RUSCPIALLMINMEI','PIEATI02RUM661N','RUSPROMANMISMEI'\n",
    "    ,'UNRATENSA','GS10','M2NS','INTDSRUSM193N','TOTALNSA','MABMM301USM189S','ALTSALES','RSXFSN'\n",
    "    ,'HTRUCKSSA','M2REAL','M1NS','BUSLOANS','MCOILWTICO','DAUPNSA','FRGSHPUSM649NCIS','PCU33443344'\n",
    "    ,'AISRSA' ,'M1REAL','TRUCKD11','RAILFRTCARLOADS','MNFCTRIRNSA','DAUTOSAAR'\n",
    "    ,'LTOTALNSA','MVMTD027MNFRBDAL','USEPUINDXM','CEU4348400001','CEU1021100001'\n",
    "    ,'IPG3361T3S','TRESEGUSM052N','LAUTONSA','WPU114','RSGASSN','CMRMT','NATURALGAS'\n",
    "    ,'EMVOVERALLEMV','PCU483111483111','WPU101706','GASREGCOVM','WPU11','PCU48214821'\n",
    "    ,'WPU1413','MRTSIR441USN','U36SNO','PCU21112111','IPB53122N','IPB54100N','EXUSEU'\n",
    "    ,'PCU4841214841212','GASDESM','EXCHUS','IPN213111N','PCU21212121','WPU012'\n",
    "    # ,'M1109BUSM293NNBR','PCU484484','IC131','JTU2300JOL','WPU801104','WPU3011','PCU33613361'\n",
    "]"
   ],
   "metadata": {
    "collapsed": false,
    "pycharm": {
     "name": "#%%\n"
    }
   }
  },
  {
   "cell_type": "code",
   "execution_count": 83,
   "metadata": {
    "pycharm": {
     "name": "#%%\n"
    }
   },
   "outputs": [],
   "source": [
    "# set seed, so we can get the same results after rerunning several times\n",
    "np.random.seed(314)\n",
    "tf.random.set_seed(314)\n",
    "random.seed(314)"
   ]
  },
  {
   "cell_type": "code",
   "execution_count": 84,
   "metadata": {
    "pycharm": {
     "name": "#%%\n"
    }
   },
   "outputs": [],
   "source": [
    "import os\n",
    "import time\n",
    "from tensorflow.keras.layers import LSTM\n",
    "\n",
    "# Window size or the sequence length\n",
    "N_STEPS = 50\n",
    "# Lookup step, 1 is the next day\n",
    "LOOKUP_STEP = 15\n",
    "\n",
    "# whether to scale feature columns & output price as well\n",
    "SCALE = True\n",
    "scale_str = f\"sc-{int(SCALE)}\"\n",
    "# whether to shuffle the dataset\n",
    "SHUFFLE = True\n",
    "shuffle_str = f\"sh-{int(SHUFFLE)}\"\n",
    "# whether to split the training/testing set by date\n",
    "SPLIT_BY_DATE = True\n",
    "split_by_date_str = f\"sbd-{int(SPLIT_BY_DATE)}\"\n",
    "# test ratio size, 0.2 is 20%\n",
    "TEST_SIZE = 0.1\n",
    "# features to use\n",
    "# FEATURE_COLUMNS = [\"close\", \"volume\", \"open\", \"high\", \"low\",\"ema100\"]\n",
    "FEATURE_COLUMNS = [\"close\", \"volume\", \"open\", \"high\", \"low\"\n",
    "                    ,\"ma7\",\"ma21\"\n",
    "                      ,\"ma100\",\"ma50\"\n",
    "                      ,\"26ema\",\"12ema\",\"MACD\",\"ema\",\"momentum\"\n",
    "                   ] \\\n",
    "                  # + series_ids\n",
    "\n",
    "# date now\n",
    "date_now = time.strftime(\"%Y-%m-%d\")\n",
    "\n",
    "### model parameters\n",
    "\n",
    "N_LAYERS = 2\n",
    "# LSTM cell\n",
    "CELL = LSTM\n",
    "# 256 LSTM neurons\n",
    "UNITS = 256\n",
    "# 40% dropout\n",
    "DROPOUT = 0.4\n",
    "# whether to use bidirectional RNNs\n",
    "BIDIRECTIONAL = False\n",
    "\n",
    "### training parameters\n",
    "\n",
    "# mean absolute error loss\n",
    "# LOSS = \"mae\"\n",
    "# huber loss\n",
    "LOSS = \"huber_loss\"\n",
    "OPTIMIZER = \"adam\"\n",
    "BATCH_SIZE = 64\n",
    "EPOCHS = 700\n",
    "\n",
    "# Amazon stock market\n",
    "ticker = \"^GSPC\"\n",
    "ticker_data_filename = os.path.join(\"data\", f\"{ticker}_{date_now}\")\n",
    "# model name to save, making it as unique as possible based on parameters\n",
    "model_name = f\"{date_now}_{ticker}-{shuffle_str}-{scale_str}-{split_by_date_str}-\\\n",
    "{LOSS}-{OPTIMIZER}-{CELL.__name__}-seq-{N_STEPS}-step-{LOOKUP_STEP}-layers-{N_LAYERS}-units-{UNITS}\"\n",
    "if BIDIRECTIONAL:\n",
    "    model_name += \"-b\""
   ]
  },
  {
   "cell_type": "code",
   "execution_count": 85,
   "metadata": {
    "pycharm": {
     "name": "#%%\n"
    }
   },
   "outputs": [],
   "source": [
    "def get_technical_indicators(dataset):\n",
    "    # Create 7 and 21 days Moving Average\n",
    "    dataset['ma7'] = dataset['close'].rolling(window=7).mean()\n",
    "    dataset['ma21'] = dataset['close'].rolling(window=21).mean()\n",
    "    dataset['ma100'] = dataset['close'].rolling(window=100).mean()\n",
    "    dataset['ma50'] = dataset['close'].rolling(window=50).mean()\n",
    "\n",
    "    # Create MACD\n",
    "\t# candles['ema20'] = pd.Series.ewm(candles['<CLOSE>'], span=20).mean()\n",
    "    dataset['26ema'] = pd.Series.ewm(dataset['close'], span=26).mean()\n",
    "    dataset['12ema'] = pd.Series.ewm(dataset['close'], span=12).mean()\n",
    "    dataset['MACD'] = (dataset['12ema']-dataset['26ema'])\n",
    "\n",
    "    # Create Bollinger Bands\n",
    "    # dataset['20sd'] = pd.stats.moments.rolling_std(dataset['GS'],20)\n",
    "    # dataset['upper_band'] = dataset['ma21'] + (dataset['20sd']*2)\n",
    "    # dataset['lower_band'] = dataset['ma21'] - (dataset['20sd']*2)\n",
    "\n",
    "    # Create Exponential moving average\n",
    "    dataset['ema'] = dataset['close'].ewm(com=0.5).mean()\n",
    "\n",
    "    # Create Momentum\n",
    "    dataset['momentum'] = dataset['close']-1\n",
    "\n",
    "    dataset.replace('', np.nan, inplace=True)\n",
    "    dataset = dataset.dropna()\n",
    "\n",
    "    return dataset"
   ]
  },
  {
   "cell_type": "code",
   "execution_count": 86,
   "outputs": [],
   "source": [
    "def shuffle_in_unison(a, b):\n",
    "    # shuffle two arrays in the same way\n",
    "    state = np.random.get_state()\n",
    "    np.random.shuffle(a)\n",
    "    np.random.set_state(state)\n",
    "    np.random.shuffle(b)\n",
    "\n",
    "\n",
    "def load_data(ticker, n_steps=50, scale=True, shuffle=True, lookup_step=1, split_by_date=True,\n",
    "                test_size=0.2, feature_columns=['close', 'volume', 'open', 'high', 'low']):\n",
    "    \"\"\"\n",
    "    Loads data from Yahoo Finance source, as well as scaling, shuffling, normalizing and splitting.\n",
    "    Params:\n",
    "        ticker (str/pd.DataFrame): the ticker you want to load, examples include AAPL, TESL, etc.\n",
    "        n_steps (int): the historical sequence length (i.e window size) used to predict, default is 50\n",
    "        scale (bool): whether to scale prices from 0 to 1, default is True\n",
    "        shuffle (bool): whether to shuffle the dataset (both training & testing), default is True\n",
    "        lookup_step (int): the future lookup step to predict, default is 1 (e.g next day)\n",
    "        split_by_date (bool): whether we split the dataset into training/testing by date, setting it \n",
    "            to False will split datasets in a random way\n",
    "        test_size (float): ratio for test data, default is 0.2 (20% testing data)\n",
    "        feature_columns (list): the list of features to use to feed into the model, default is everything grabbed from yahoo_fin\n",
    "    \"\"\"\n",
    "    # see if ticker is already a loaded stock from yahoo finance\n",
    "    if isinstance(ticker, str):\n",
    "        # load it from yahoo_fin library\n",
    "        # df = si.get_data(ticker)\n",
    "        # df = si.get_data(ticker,start_date = '2000-01-01', end_date = None, index_as_date = True, interval= \"1mo\")\n",
    "        df = si.get_data(ticker,start_date = '2000-01-01')\n",
    "        # get_data(ticker, start_date = None, end_date = None, index_as_date = True, interval = “1d”)\n",
    "    elif isinstance(ticker, pd.DataFrame):\n",
    "        # already loaded, use it directly\n",
    "        df = ticker\n",
    "    else:\n",
    "        raise TypeError(\"ticker can be either a str or a `pd.DataFrame` instances\")\n",
    "\n",
    "\n",
    "    df = get_technical_indicators(df)\n",
    "    # df_fred = get_fred()\n",
    "    # df = pd.concat([df_fred , df], axis=1)\n",
    "\n",
    "    df.replace('', np.nan, inplace=True)\n",
    "    df = df.dropna()\n",
    "\n",
    "    # print(df.tail)\n",
    "    # this will contain all the elements we want to return from this function\n",
    "    result = {}\n",
    "    # we will also return the original dataframe itself\n",
    "    result['df'] = df.copy()\n",
    "\n",
    "    # make sure that the passed feature_columns exist in the dataframe\n",
    "    for col in feature_columns:\n",
    "        assert col in df.columns, f\"'{col}' does not exist in the dataframe.\"\n",
    "\n",
    "    # add date as a column\n",
    "    if \"date\" not in df.columns:\n",
    "        df[\"date\"] = df.index\n",
    "\n",
    "    if scale:\n",
    "        column_scaler = {}\n",
    "        # scale the data (prices) from 0 to 1\n",
    "        for column in feature_columns:\n",
    "            scaler = preprocessing.MinMaxScaler()\n",
    "            df[column] = scaler.fit_transform(np.expand_dims(df[column].values, axis=1))\n",
    "            column_scaler[column] = scaler\n",
    "\n",
    "        # add the MinMaxScaler instances to the result returned\n",
    "        result[\"column_scaler\"] = column_scaler\n",
    "\n",
    "    # add the target column (label) by shifting by `lookup_step`\n",
    "    df['future'] = df['close'].shift(-lookup_step)\n",
    "\n",
    "    # last `lookup_step` columns contains NaN in future column\n",
    "    # get them before droping NaNs\n",
    "    last_sequence = np.array(df[feature_columns].tail(lookup_step))\n",
    "    \n",
    "    # drop NaNs\n",
    "    df.dropna(inplace=True)\n",
    "\n",
    "    sequence_data = []\n",
    "    sequences = deque(maxlen=n_steps)\n",
    "\n",
    "    for entry, target in zip(df[feature_columns + [\"date\"]].values, df['future'].values):\n",
    "        sequences.append(entry)\n",
    "        if len(sequences) == n_steps:\n",
    "            sequence_data.append([np.array(sequences), target])\n",
    "\n",
    "    # get the last sequence by appending the last `n_step` sequence with `lookup_step` sequence\n",
    "    # for instance, if n_steps=50 and lookup_step=10, last_sequence should be of 60 (that is 50+10) length\n",
    "    # this last_sequence will be used to predict future stock prices that are not available in the dataset\n",
    "    last_sequence = list([s[:len(feature_columns)] for s in sequences]) + list(last_sequence)\n",
    "    last_sequence = np.array(last_sequence).astype(np.float32)\n",
    "    # add to result\n",
    "    result['last_sequence'] = last_sequence\n",
    "    \n",
    "    # construct the X's and y's\n",
    "    X, y = [], []\n",
    "    for seq, target in sequence_data:\n",
    "        X.append(seq)\n",
    "        y.append(target)\n",
    "\n",
    "    # convert to numpy arrays\n",
    "    X = np.array(X)\n",
    "    y = np.array(y)\n",
    "\n",
    "    if split_by_date:\n",
    "        # split the dataset into training & testing sets by date (not randomly splitting)\n",
    "        train_samples = int((1 - test_size) * len(X))\n",
    "        result[\"X_train\"] = X[:train_samples]\n",
    "        result[\"y_train\"] = y[:train_samples]\n",
    "        result[\"X_test\"]  = X[train_samples:]\n",
    "        result[\"y_test\"]  = y[train_samples:]\n",
    "        if shuffle:\n",
    "            # shuffle the datasets for training (if shuffle parameter is set)\n",
    "            shuffle_in_unison(result[\"X_train\"], result[\"y_train\"])\n",
    "            shuffle_in_unison(result[\"X_test\"], result[\"y_test\"])\n",
    "    else:    \n",
    "        # split the dataset randomly\n",
    "        result[\"X_train\"], result[\"X_test\"], result[\"y_train\"], result[\"y_test\"] = train_test_split(X, y, \n",
    "                                                                                test_size=test_size, shuffle=shuffle)\n",
    "\n",
    "    # get the list of test set dates\n",
    "    dates = result[\"X_test\"][:, -1, -1]\n",
    "    # retrieve test features from the original dataframe\n",
    "    result[\"test_df\"] = result[\"df\"].loc[dates]\n",
    "    # remove duplicated dates in the testing dataframe\n",
    "    result[\"test_df\"] = result[\"test_df\"][~result[\"test_df\"].index.duplicated(keep='first')]\n",
    "    # remove dates from the training/testing sets & convert to float32\n",
    "    result[\"X_train\"] = result[\"X_train\"][:, :, :len(feature_columns)].astype(np.float32)\n",
    "    result[\"X_test\"] = result[\"X_test\"][:, :, :len(feature_columns)].astype(np.float32)\n",
    "\n",
    "    return result"
   ],
   "metadata": {
    "collapsed": false,
    "pycharm": {
     "name": "#%%\n"
    }
   }
  },
  {
   "cell_type": "code",
   "execution_count": 86,
   "outputs": [],
   "source": [],
   "metadata": {
    "collapsed": false,
    "pycharm": {
     "name": "#%%\n"
    }
   }
  },
  {
   "cell_type": "code",
   "execution_count": 87,
   "outputs": [],
   "source": [
    "def get_fred():\n",
    "    # series_ids = ['PCPI06037', 'PCPI06075', 'PCPI24510']\n",
    "    # ticker_fred = 'SP500'\n",
    "    # dataset_fred = fred.get_series(ticker_fred, observation_start=\"1/1/2000\")\n",
    "    # print(dataset_fred)\n",
    "    # dataset_fred = pd.DataFrame({'date':dataset_fred.index.tolist(),ticker_fred:dataset_fred.tolist()})\n",
    "    # dataset_fred.set_index('date', inplace=True)\n",
    "    #\n",
    "    # dataset = pd.concat([dataset, dataset_fred],axis=1)\n",
    "    data_ = {}\n",
    "    for series_id in series_ids:\n",
    "        data_[series_id] = fred.get_series(series_id, observation_start='1/1/2000')\n",
    "    dataset_ = pd.concat(data_, axis=1)\n",
    "    dataset_.replace('', np.nan, inplace=True)\n",
    "    dataset_=dataset_.fillna(dataset_[-10:].mean())\n",
    "    # dataset = pd.concat([dataset , df], axis=1)\n",
    "    # print(df)\n",
    "\n",
    "    return dataset_"
   ],
   "metadata": {
    "collapsed": false,
    "pycharm": {
     "name": "#%%\n"
    }
   }
  },
  {
   "cell_type": "code",
   "execution_count": 88,
   "metadata": {
    "pycharm": {
     "name": "#%%\n"
    }
   },
   "outputs": [],
   "source": [
    "# data_s = []\n",
    "# data_s = pd.DataFrame\n",
    "# data_s = get_fred('SP500')\n",
    "# ticker_fred = 'SP500'\n",
    "# dataset_fred_ = fred.get_series(ticker_fred)\n",
    "# print(dataset_fred_)\n",
    "# ddf = get_fred()\n",
    "# ddf"
   ]
  },
  {
   "cell_type": "code",
   "execution_count": 89,
   "outputs": [],
   "source": [
    "# ddf.to_excel(\"fred.xlsx\")"
   ],
   "metadata": {
    "collapsed": false,
    "pycharm": {
     "name": "#%%\n"
    }
   }
  },
  {
   "cell_type": "code",
   "execution_count": 90,
   "outputs": [],
   "source": [
    "# df_yaho = si.get_data(ticker,start_date = '2000-01-01', end_date = None, index_as_date = True, interval= \"1mo\")"
   ],
   "metadata": {
    "collapsed": false,
    "pycharm": {
     "name": "#%%\n"
    }
   }
  },
  {
   "cell_type": "code",
   "execution_count": 91,
   "outputs": [],
   "source": [
    "# df_yaho"
   ],
   "metadata": {
    "collapsed": false,
    "pycharm": {
     "name": "#%%\n"
    }
   }
  },
  {
   "cell_type": "code",
   "execution_count": 92,
   "outputs": [],
   "source": [
    "# df_sum = pd.concat([df_yaho,ddf],axis=1)"
   ],
   "metadata": {
    "collapsed": false,
    "pycharm": {
     "name": "#%%\n"
    }
   }
  },
  {
   "cell_type": "code",
   "execution_count": 93,
   "outputs": [],
   "source": [
    "# df_sum\n",
    "# df_sum.to_excel(\"view.xlsx\")"
   ],
   "metadata": {
    "collapsed": false,
    "pycharm": {
     "name": "#%%\n"
    }
   }
  },
  {
   "cell_type": "code",
   "execution_count": 94,
   "outputs": [],
   "source": [
    "# df_sum.replace('', np.nan, inplace=True)"
   ],
   "metadata": {
    "collapsed": false,
    "pycharm": {
     "name": "#%%\n"
    }
   }
  },
  {
   "cell_type": "code",
   "execution_count": 95,
   "outputs": [],
   "source": [
    "# df_sum.fillna(method='ffill')\n",
    "# df_sum_out=df_sum.fillna(df_sum[-10:].mean())\n",
    "# df_sum = df_sum.dropna()\n",
    "# data_s.to_excel(\"test.xlsx\")\n",
    "# data_s.to_excel(\"test.xlsx\")"
   ],
   "metadata": {
    "collapsed": false,
    "pycharm": {
     "name": "#%%\n"
    }
   }
  },
  {
   "cell_type": "code",
   "execution_count": 96,
   "outputs": [],
   "source": [
    "# df_sum_out"
   ],
   "metadata": {
    "collapsed": false,
    "pycharm": {
     "name": "#%%\n"
    }
   }
  },
  {
   "cell_type": "code",
   "execution_count": 97,
   "outputs": [],
   "source": [
    "# df_sum_out.to_excel(\"view2.xlsx\")"
   ],
   "metadata": {
    "collapsed": false,
    "pycharm": {
     "name": "#%%\n"
    }
   }
  },
  {
   "cell_type": "code",
   "execution_count": 98,
   "outputs": [],
   "source": [
    "def create_model(sequence_length, n_features, units=256, cell=LSTM, n_layers=2, dropout=0.3,\n",
    "                loss=\"mean_absolute_error\", optimizer=\"rmsprop\", bidirectional=False):\n",
    "    model = Sequential()\n",
    "    for i in range(n_layers):\n",
    "        if i == 0:\n",
    "            # first layer\n",
    "            if bidirectional:\n",
    "                model.add(Bidirectional(cell(units, return_sequences=True), batch_input_shape=(None, sequence_length, n_features)))\n",
    "            else:\n",
    "                model.add(cell(units, return_sequences=True, batch_input_shape=(None, sequence_length, n_features)))\n",
    "        elif i == n_layers - 1:\n",
    "            # last layer\n",
    "            if bidirectional:\n",
    "                model.add(Bidirectional(cell(units, return_sequences=False)))\n",
    "            else:\n",
    "                model.add(cell(units, return_sequences=False))\n",
    "        else:\n",
    "            # hidden layers\n",
    "            if bidirectional:\n",
    "                model.add(Bidirectional(cell(units, return_sequences=True)))\n",
    "            else:\n",
    "                model.add(cell(units, return_sequences=True))\n",
    "        # add dropout after each layer\n",
    "        model.add(Dropout(dropout))\n",
    "    model.add(Dense(1, activation=\"linear\"))\n",
    "    model.compile(loss=loss, metrics=[\"mean_absolute_error\"], optimizer=optimizer)\n",
    "    return model"
   ],
   "metadata": {
    "collapsed": false,
    "pycharm": {
     "name": "#%%\n"
    }
   }
  },
  {
   "cell_type": "code",
   "execution_count": 99,
   "metadata": {
    "tags": [
     "outputPrepend"
    ],
    "pycharm": {
     "name": "#%%\n"
    }
   },
   "outputs": [],
   "source": [
    "# create these folders if they does not exist\n",
    "if not os.path.isdir(\"results\"):\n",
    "    os.mkdir(\"results\")\n",
    "\n",
    "if not os.path.isdir(\"logs\"):\n",
    "    os.mkdir(\"logs\")\n",
    "\n",
    "if not os.path.isdir(\"data\"):\n",
    "    os.mkdir(\"data\")\n",
    "\n",
    "# load the data\n",
    "data = load_data(ticker, N_STEPS, scale=SCALE, split_by_date=SPLIT_BY_DATE, \n",
    "                shuffle=SHUFFLE, lookup_step=LOOKUP_STEP, test_size=TEST_SIZE, \n",
    "                feature_columns=FEATURE_COLUMNS)\n",
    "\n",
    "# save the dataframe\n",
    "# data[\"df\"].to_csv(ticker_data_filename + \".csv\")\n",
    "# data[\"df\"].to_excel(\"view.xlsx\")\n",
    "# data.to_csv(ticker_data_filename + \"_2.csv\")\n",
    "\n",
    "# construct the model\n",
    "model = create_model(N_STEPS, len(FEATURE_COLUMNS), loss=LOSS, units=UNITS, cell=CELL, n_layers=N_LAYERS,\n",
    "                    dropout=DROPOUT, optimizer=OPTIMIZER, bidirectional=BIDIRECTIONAL)"
   ]
  },
  {
   "cell_type": "code",
   "execution_count": 100,
   "outputs": [],
   "source": [
    "# data[\"df\"]"
   ],
   "metadata": {
    "collapsed": false,
    "pycharm": {
     "name": "#%%\n"
    }
   }
  },
  {
   "cell_type": "code",
   "execution_count": 101,
   "outputs": [],
   "source": [
    "data[\"df\"].to_excel(\"view_start.xlsx\")"
   ],
   "metadata": {
    "collapsed": false,
    "pycharm": {
     "name": "#%%\n"
    }
   }
  },
  {
   "cell_type": "code",
   "execution_count": 102,
   "metadata": {
    "pycharm": {
     "name": "#%%\n"
    }
   },
   "outputs": [
    {
     "name": "stdout",
     "output_type": "stream",
     "text": [
      "Модель уже просчитана, загружаем модель\n"
     ]
    }
   ],
   "source": [
    "\n",
    "if os.path.exists(os.path.join(\"results\", model_name + \".h5\")):\n",
    "\tprint(\"Модель уже просчитана, загружаем модель\")\n",
    "\t# model = keras.models.load_model(path_best_model)\n",
    "\n",
    "else:\n",
    "    # some tensorflow callbacks\n",
    "    checkpointer = ModelCheckpoint(os.path.join(\"results\", model_name + \".h5\"), save_weights_only=True, save_best_only=True, verbose=1)\n",
    "    tensorboard = TensorBoard(log_dir=os.path.join(\"logs\", model_name))\n",
    "    # train the model and save the weights whenever we see\n",
    "    # a new optimal model using ModelCheckpoint\n",
    "    history = model.fit(data[\"X_train\"], data[\"y_train\"],\n",
    "                        batch_size=BATCH_SIZE,\n",
    "                        epochs=EPOCHS,\n",
    "                        validation_data=(data[\"X_test\"], data[\"y_test\"]),\n",
    "                        callbacks=[checkpointer, tensorboard],\n",
    "                        verbose=1)"
   ]
  },
  {
   "cell_type": "code",
   "execution_count": 103,
   "metadata": {
    "pycharm": {
     "name": "#%%\n"
    }
   },
   "outputs": [],
   "source": [
    "import matplotlib.pyplot as plt\n",
    "\n",
    "def plot_graph(test_df):\n",
    "    \"\"\"\n",
    "    This function plots true close price along with predicted close price\n",
    "    with blue and red colors respectively\n",
    "    \"\"\"\n",
    "    plt.plot(test_df[f'true_close_{LOOKUP_STEP}'], c='b')\n",
    "    plt.plot(test_df[f'close_{LOOKUP_STEP}'], c='r')\n",
    "    plt.xlabel(\"Days\")\n",
    "    plt.ylabel(\"Price\")\n",
    "    plt.legend([\"Actual Price\", \"Predicted Price\"])\n",
    "    plt.show()"
   ]
  },
  {
   "cell_type": "code",
   "execution_count": 104,
   "metadata": {
    "pycharm": {
     "name": "#%%\n"
    }
   },
   "outputs": [],
   "source": [
    "def get_final_df(model, data):\n",
    "    \"\"\"\n",
    "    This function takes the `model` and `data` dict to \n",
    "    construct a final dataframe that includes the features along \n",
    "    with true and predicted prices of the testing dataset\n",
    "    \"\"\"\n",
    "    # if predicted future price is higher than the current, \n",
    "    # then calculate the true future price minus the current price, to get the buy profit\n",
    "    buy_profit  = lambda current, pred_future, true_future: true_future - current if pred_future > current else 0\n",
    "    # if the predicted future price is lower than the current price,\n",
    "    # then subtract the true future price from the current price\n",
    "    sell_profit = lambda current, pred_future, true_future: current - true_future if pred_future < current else 0\n",
    "    X_test = data[\"X_test\"]\n",
    "    y_test = data[\"y_test\"]\n",
    "    # perform prediction and get prices\n",
    "    y_pred = model.predict(X_test)\n",
    "    if SCALE:\n",
    "        y_test = np.squeeze(data[\"column_scaler\"][\"close\"].inverse_transform(np.expand_dims(y_test, axis=0)))\n",
    "        y_pred = np.squeeze(data[\"column_scaler\"][\"close\"].inverse_transform(y_pred))\n",
    "    test_df = data[\"test_df\"]\n",
    "    # add predicted future prices to the dataframe\n",
    "    test_df[f\"close_{LOOKUP_STEP}\"] = y_pred\n",
    "    # add true future prices to the dataframe\n",
    "    test_df[f\"true_close_{LOOKUP_STEP}\"] = y_test\n",
    "    # sort the dataframe by date\n",
    "    test_df.sort_index(inplace=True)\n",
    "    final_df = test_df\n",
    "    # add the buy profit column\n",
    "    final_df[\"buy_profit\"] = list(map(buy_profit, \n",
    "                                    final_df[\"close\"],\n",
    "                                    final_df[f\"close_{LOOKUP_STEP}\"],\n",
    "                                    final_df[f\"true_close_{LOOKUP_STEP}\"])\n",
    "                                    # since we don't have profit for last sequence, add 0's\n",
    "                                    )\n",
    "    # add the sell profit column\n",
    "    final_df[\"sell_profit\"] = list(map(sell_profit, \n",
    "                                    final_df[\"close\"],\n",
    "                                    final_df[f\"close_{LOOKUP_STEP}\"],\n",
    "                                    final_df[f\"true_close_{LOOKUP_STEP}\"])\n",
    "                                    # since we don't have profit for last sequence, add 0's\n",
    "                                    )\n",
    "    return final_df"
   ]
  },
  {
   "cell_type": "code",
   "execution_count": 105,
   "metadata": {
    "pycharm": {
     "name": "#%%\n"
    }
   },
   "outputs": [],
   "source": [
    "def predict(model, data):\n",
    "    # retrieve the last sequence from data\n",
    "    last_sequence = data[\"last_sequence\"][-N_STEPS:]\n",
    "    # expand dimension\n",
    "    last_sequence = np.expand_dims(last_sequence, axis=0)\n",
    "    # get the prediction (scaled from 0 to 1)\n",
    "    prediction = model.predict(last_sequence)\n",
    "    # get the price (by inverting the scaling)\n",
    "    if SCALE:\n",
    "        predicted_price = data[\"column_scaler\"][\"close\"].inverse_transform(prediction)[0][0]\n",
    "    else:\n",
    "        predicted_price = prediction[0][0]\n",
    "    return predicted_price"
   ]
  },
  {
   "cell_type": "code",
   "execution_count": 106,
   "metadata": {
    "pycharm": {
     "name": "#%%\n"
    }
   },
   "outputs": [],
   "source": [
    "# load optimal model weights from results folder\n",
    "model_path = os.path.join(\"results\", model_name) + \".h5\"\n",
    "model.load_weights(model_path)"
   ]
  },
  {
   "cell_type": "code",
   "execution_count": 107,
   "metadata": {
    "pycharm": {
     "name": "#%%\n"
    }
   },
   "outputs": [],
   "source": [
    "# evaluate the model\n",
    "loss, mae = model.evaluate(data[\"X_test\"], data[\"y_test\"], verbose=0)\n",
    "# calculate the mean absolute error (inverse scaling)\n",
    "if SCALE:\n",
    "    mean_absolute_error = data[\"column_scaler\"][\"close\"].inverse_transform([[mae]])[0][0]\n",
    "else:\n",
    "    mean_absolute_error = mae"
   ]
  },
  {
   "cell_type": "code",
   "execution_count": 108,
   "metadata": {
    "pycharm": {
     "name": "#%%\n"
    }
   },
   "outputs": [],
   "source": [
    "# get the final dataframe for the testing set\n",
    "final_df = get_final_df(model, data)"
   ]
  },
  {
   "cell_type": "code",
   "execution_count": 109,
   "metadata": {
    "pycharm": {
     "name": "#%%\n"
    }
   },
   "outputs": [],
   "source": [
    "# predict the future price\n",
    "future_price = predict(model, data)"
   ]
  },
  {
   "cell_type": "code",
   "execution_count": 110,
   "outputs": [
    {
     "data": {
      "text/plain": "4667.185"
     },
     "execution_count": 110,
     "metadata": {},
     "output_type": "execute_result"
    }
   ],
   "source": [
    "future_price"
   ],
   "metadata": {
    "collapsed": false,
    "pycharm": {
     "name": "#%%\n"
    }
   }
  },
  {
   "cell_type": "code",
   "execution_count": 111,
   "metadata": {
    "pycharm": {
     "name": "#%%\n"
    }
   },
   "outputs": [],
   "source": [
    "# we calculate the accuracy by counting the number of positive profits\n",
    "accuracy_score = (len(final_df[final_df['sell_profit'] > 0]) + len(final_df[final_df['buy_profit'] > 0])) / len(final_df)\n",
    "# calculating total buy & sell profit\n",
    "total_buy_profit  = final_df[\"buy_profit\"].sum()\n",
    "total_sell_profit = final_df[\"sell_profit\"].sum()\n",
    "# total profit by adding sell & buy together\n",
    "total_profit = total_buy_profit + total_sell_profit\n",
    "# dividing total profit by number of testing samples (number of trades)\n",
    "profit_per_trade = total_profit / len(final_df)"
   ]
  },
  {
   "cell_type": "code",
   "execution_count": 112,
   "metadata": {
    "pycharm": {
     "name": "#%%\n"
    }
   },
   "outputs": [
    {
     "name": "stdout",
     "output_type": "stream",
     "text": [
      "Future price after 15 days is 4667.19$\n",
      "huber_loss loss: 0.0009572773124091327\n",
      "Mean Absolute Error: 780.3272975621245\n",
      "Accuracy score: 0.719626168224299\n",
      "Total buy profit: 23661.907470703125\n",
      "Total sell profit: -2362.072265625\n",
      "Total profit: 21299.835205078125\n",
      "Profit per trade: 39.812776084258175\n"
     ]
    }
   ],
   "source": [
    "# printing metrics\n",
    "print(f\"Future price after {LOOKUP_STEP} days is {future_price:.2f}$\")\n",
    "print(f\"{LOSS} loss:\", loss)\n",
    "print(\"Mean Absolute Error:\", mean_absolute_error)\n",
    "print(\"Accuracy score:\", accuracy_score)\n",
    "print(\"Total buy profit:\", total_buy_profit)\n",
    "print(\"Total sell profit:\", total_sell_profit)\n",
    "print(\"Total profit:\", total_profit)\n",
    "print(\"Profit per trade:\", profit_per_trade)"
   ]
  },
  {
   "cell_type": "code",
   "execution_count": 113,
   "metadata": {
    "pycharm": {
     "name": "#%%\n"
    }
   },
   "outputs": [
    {
     "data": {
      "text/plain": "<Figure size 432x288 with 1 Axes>",
      "image/png": "[encoded data removed]"
     },
     "metadata": {},
     "output_type": "display_data"
    }
   ],
   "source": [
    "# plot true/pred prices graph\n",
    "plot_graph(final_df)"
   ]
  },
  {
   "cell_type": "code",
   "execution_count": 114,
   "metadata": {
    "pycharm": {
     "name": "#%%\n"
    }
   },
   "outputs": [
    {
     "data": {
      "text/plain": "                   open         high          low        close     adjclose  \\\n2019-09-24  3002.429932  3007.979980  2957.729980  2966.600098  2966.600098   \n2019-09-25  2968.350098  2989.820068  2952.860107  2984.870117  2984.870117   \n2019-09-26  2985.729980  2987.280029  2963.709961  2977.620117  2977.620117   \n2019-09-27  2985.469971  2987.310059  2945.530029  2961.790039  2961.790039   \n2019-09-30  2967.070068  2983.850098  2967.070068  2976.739990  2976.739990   \n2019-10-01  2983.689941  2992.530029  2938.699951  2940.250000  2940.250000   \n2019-10-02  2924.780029  2924.780029  2874.929932  2887.610107  2887.610107   \n2019-10-03  2885.379883  2911.129883  2855.939941  2910.629883  2910.629883   \n2019-10-04  2918.560059  2953.739990  2918.560059  2952.010010  2952.010010   \n2019-10-07  2944.229980  2959.750000  2935.679932  2938.790039  2938.790039   \n2019-10-08  2920.399902  2925.469971  2892.659912  2893.060059  2893.060059   \n2019-10-09  2911.100098  2929.320068  2907.409912  2919.399902  2919.399902   \n2019-10-10  2918.550049  2948.459961  2917.120117  2938.129883  2938.129883   \n2019-10-11  2963.070068  2993.280029  2963.070068  2970.270020  2970.270020   \n2019-10-14  2965.810059  2972.840088  2962.939941  2966.149902  2966.149902   \n2019-10-15  2973.610107  3003.280029  2973.610107  2995.679932  2995.679932   \n2019-10-16  2989.679932  2997.540039  2985.199951  2989.689941  2989.689941   \n2019-10-17  3000.770020  3008.290039  2991.790039  2997.949951  2997.949951   \n2019-10-18  2996.840088  3000.000000  2976.310059  2986.199951  2986.199951   \n2019-10-21  2996.479980  3007.330078  2995.350098  3006.719971  3006.719971   \n\n                volume ticker          ma7         ma21        ma100  \\\n2019-09-24  3868160000  ^GSPC  2995.375732  2963.267601  2921.661094   \n2019-09-25  3318870000  ^GSPC  2993.505755  2968.338565  2922.053396   \n2019-09-26  3077240000  ^GSPC  2989.494350  2973.503337  2922.504897   \n2019-09-27  3243650000  ^GSPC  2983.074358  2977.020008  2923.282297   \n2019-09-30  3247610000  ^GSPC  2978.781494  2979.503813  2924.255498   \n2019-10-01  3558040000  ^GSPC  2971.378627  2980.160482  2924.950798   \n2019-10-02  3912520000  ^GSPC  2956.497210  2979.271915  2925.012900   \n2019-10-03  3503640000  ^GSPC  2948.501465  2977.979050  2926.000498   \n2019-10-04  2990830000  ^GSPC  2943.807164  2976.836670  2927.176499   \n2019-10-07  2940140000  ^GSPC  2938.260010  2974.935721  2928.054800   \n2019-10-08  3356450000  ^GSPC  2928.441441  2970.870489  2928.222200   \n2019-10-09  2726820000  ^GSPC  2920.250000  2968.013823  2928.820898   \n2019-10-10  3217250000  ^GSPC  2919.947126  2965.023344  2929.799897   \n2019-10-11  3580460000  ^GSPC  2931.755685  2963.151914  2930.858997   \n2019-10-14  2557020000  ^GSPC  2939.687116  2961.188105  2931.957795   \n2019-10-15  3340740000  ^GSPC  2945.925677  2961.079532  2933.692195   \n2019-10-16  3222570000  ^GSPC  2953.197091  2960.317150  2935.328494   \n2019-10-17  3115960000  ^GSPC  2968.181362  2959.899054  2937.284094   \n2019-10-18  3264290000  ^GSPC  2977.724226  2958.918573  2939.315894   \n2019-10-21  3271620000  ^GSPC  2987.522810  2959.616188  2941.494492   \n\n                   ma50        26ema        12ema       MACD          ema  \\\n2019-09-24  2950.006196  2966.182195  2984.227104  18.044909  2975.559045   \n2019-09-25  2949.622798  2967.566485  2984.326029  16.759543  2981.766427   \n2019-09-26  2949.486802  2968.311199  2983.294350  14.983151  2979.002220   \n2019-09-27  2948.820400  2967.828150  2979.985995  12.157845  2967.527433   \n2019-09-30  2948.822998  2968.488286  2979.486609  10.998323  2973.669138   \n2019-10-01  2947.927397  2966.396561  2973.450208   7.053646  2951.389713   \n2019-10-02  2945.570200  2960.560528  2960.244039  -0.316489  2908.869976   \n2019-10-03  2943.391597  2956.861961  2952.611092  -4.250870  2910.043247   \n2019-10-04  2942.358398  2956.502558  2952.518617  -3.983940  2938.021089   \n2019-10-07  2940.616997  2955.190519  2950.406528  -4.783991  2938.533722   \n2019-10-08  2938.058799  2950.588263  2941.583995  -9.004268  2908.217947   \n2019-10-09  2936.183198  2948.278014  2938.171057 -10.106957  2915.672584   \n2019-10-10  2935.338198  2947.526301  2938.164723  -9.361578  2930.644116   \n2019-10-11  2935.672397  2949.211020  2943.103999  -6.107021  2957.061385   \n2019-10-14  2936.354395  2950.465752  2946.649523  -3.816230  2963.120397   \n2019-10-15  2939.373193  2953.814951  2954.192663   0.377712  2984.826753   \n2019-10-16  2941.531592  2956.472358  2959.653782   3.181425  2988.068879   \n2019-10-17  2943.810991  2959.544772  2965.545501   6.000729  2994.656260   \n2019-10-18  2944.773188  2961.519230  2968.723108   7.203879  2989.018721   \n2019-10-21  2946.534590  2964.867433  2974.568780   9.701347  3000.819554   \n\n               momentum     close_15  true_close_15  buy_profit  sell_profit  \n2019-09-24  2965.600098  3043.966309    2995.679932   29.079834          0.0  \n2019-09-25  2983.870117  3041.571533    2989.689941    4.819824          0.0  \n2019-09-26  2976.620117  3039.717285    2997.949951   20.329834          0.0  \n2019-09-27  2960.790039  3036.750000    2986.199951   24.409912          0.0  \n2019-09-30  2975.739990  3034.179688    3006.719971   29.979980          0.0  \n2019-10-01  2939.250000  3029.907471    2995.989990   55.739990          0.0  \n2019-10-02  2886.610107  3019.895752    3004.520020  116.909912          0.0  \n2019-10-03  2909.629883  3008.841797    3010.290039   99.660156          0.0  \n2019-10-04  2951.010010  3003.168457    3022.550049   70.540039          0.0  \n2019-10-07  2937.790039  3001.251709    3039.419922  100.629883          0.0  \n2019-10-08  2892.060059  2997.336670    3036.889893  143.829834          0.0  \n2019-10-09  2918.399902  2995.218018    3046.770020  127.370117          0.0  \n2019-10-10  2937.129883  2994.640625    3037.560059   99.430176          0.0  \n2019-10-11  2969.270020  2998.090820    3066.909912   96.639893          0.0  \n2019-10-14  2965.149902  3005.427734    3078.270020  112.120117          0.0  \n2019-10-15  2994.679932  3013.990967    3074.620117   78.940186          0.0  \n2019-10-16  2988.689941  3022.950439    3076.780029   87.090088          0.0  \n2019-10-17  2996.949951  3031.971924    3085.179932   87.229980          0.0  \n2019-10-18  2985.199951  3038.748291    3093.080078  106.880127          0.0  \n2019-10-21  3005.719971  3044.739502    3087.010010   80.290039          0.0  ",
      "text/html": "<div>\n<style scoped>\n    .dataframe tbody tr th:only-of-type {\n        vertical-align: middle;\n    }\n\n    .dataframe tbody tr th {\n        vertical-align: top;\n    }\n\n    .dataframe thead th {\n        text-align: right;\n    }\n</style>\n<table border=\"1\" class=\"dataframe\">\n  <thead>\n    <tr style=\"text-align: right;\">\n      <th></th>\n      <th>open</th>\n      <th>high</th>\n      <th>low</th>\n      <th>close</th>\n      <th>adjclose</th>\n      <th>volume</th>\n      <th>ticker</th>\n      <th>ma7</th>\n      <th>ma21</th>\n      <th>ma100</th>\n      <th>ma50</th>\n      <th>26ema</th>\n      <th>12ema</th>\n      <th>MACD</th>\n      <th>ema</th>\n      <th>momentum</th>\n      <th>close_15</th>\n      <th>true_close_15</th>\n      <th>buy_profit</th>\n      <th>sell_profit</th>\n    </tr>\n  </thead>\n  <tbody>\n    <tr>\n      <th>2019-09-24</th>\n      <td>3002.429932</td>\n      <td>3007.979980</td>\n      <td>2957.729980</td>\n      <td>2966.600098</td>\n      <td>2966.600098</td>\n      <td>3868160000</td>\n      <td>^GSPC</td>\n      <td>2995.375732</td>\n      <td>2963.267601</td>\n      <td>2921.661094</td>\n      <td>2950.006196</td>\n      <td>2966.182195</td>\n      <td>2984.227104</td>\n      <td>18.044909</td>\n      <td>2975.559045</td>\n      <td>2965.600098</td>\n      <td>3043.966309</td>\n      <td>2995.679932</td>\n      <td>29.079834</td>\n      <td>0.0</td>\n    </tr>\n    <tr>\n      <th>2019-09-25</th>\n      <td>2968.350098</td>\n      <td>2989.820068</td>\n      <td>2952.860107</td>\n      <td>2984.870117</td>\n      <td>2984.870117</td>\n      <td>3318870000</td>\n      <td>^GSPC</td>\n      <td>2993.505755</td>\n      <td>2968.338565</td>\n      <td>2922.053396</td>\n      <td>2949.622798</td>\n      <td>2967.566485</td>\n      <td>2984.326029</td>\n      <td>16.759543</td>\n      <td>2981.766427</td>\n      <td>2983.870117</td>\n      <td>3041.571533</td>\n      <td>2989.689941</td>\n      <td>4.819824</td>\n      <td>0.0</td>\n    </tr>\n    <tr>\n      <th>2019-09-26</th>\n      <td>2985.729980</td>\n      <td>2987.280029</td>\n      <td>2963.709961</td>\n      <td>2977.620117</td>\n      <td>2977.620117</td>\n      <td>3077240000</td>\n      <td>^GSPC</td>\n      <td>2989.494350</td>\n      <td>2973.503337</td>\n      <td>2922.504897</td>\n      <td>2949.486802</td>\n      <td>2968.311199</td>\n      <td>2983.294350</td>\n      <td>14.983151</td>\n      <td>2979.002220</td>\n      <td>2976.620117</td>\n      <td>3039.717285</td>\n      <td>2997.949951</td>\n      <td>20.329834</td>\n      <td>0.0</td>\n    </tr>\n    <tr>\n      <th>2019-09-27</th>\n      <td>2985.469971</td>\n      <td>2987.310059</td>\n      <td>2945.530029</td>\n      <td>2961.790039</td>\n      <td>2961.790039</td>\n      <td>3243650000</td>\n      <td>^GSPC</td>\n      <td>2983.074358</td>\n      <td>2977.020008</td>\n      <td>2923.282297</td>\n      <td>2948.820400</td>\n      <td>2967.828150</td>\n      <td>2979.985995</td>\n      <td>12.157845</td>\n      <td>2967.527433</td>\n      <td>2960.790039</td>\n      <td>3036.750000</td>\n      <td>2986.199951</td>\n      <td>24.409912</td>\n      <td>0.0</td>\n    </tr>\n    <tr>\n      <th>2019-09-30</th>\n      <td>2967.070068</td>\n      <td>2983.850098</td>\n      <td>2967.070068</td>\n      <td>2976.739990</td>\n      <td>2976.739990</td>\n      <td>3247610000</td>\n      <td>^GSPC</td>\n      <td>2978.781494</td>\n      <td>2979.503813</td>\n      <td>2924.255498</td>\n      <td>2948.822998</td>\n      <td>2968.488286</td>\n      <td>2979.486609</td>\n      <td>10.998323</td>\n      <td>2973.669138</td>\n      <td>2975.739990</td>\n      <td>3034.179688</td>\n      <td>3006.719971</td>\n      <td>29.979980</td>\n      <td>0.0</td>\n    </tr>\n    <tr>\n      <th>2019-10-01</th>\n      <td>2983.689941</td>\n      <td>2992.530029</td>\n      <td>2938.699951</td>\n      <td>2940.250000</td>\n      <td>2940.250000</td>\n      <td>3558040000</td>\n      <td>^GSPC</td>\n      <td>2971.378627</td>\n      <td>2980.160482</td>\n      <td>2924.950798</td>\n      <td>2947.927397</td>\n      <td>2966.396561</td>\n      <td>2973.450208</td>\n      <td>7.053646</td>\n      <td>2951.389713</td>\n      <td>2939.250000</td>\n      <td>3029.907471</td>\n      <td>2995.989990</td>\n      <td>55.739990</td>\n      <td>0.0</td>\n    </tr>\n    <tr>\n      <th>2019-10-02</th>\n      <td>2924.780029</td>\n      <td>2924.780029</td>\n      <td>2874.929932</td>\n      <td>2887.610107</td>\n      <td>2887.610107</td>\n      <td>3912520000</td>\n      <td>^GSPC</td>\n      <td>2956.497210</td>\n      <td>2979.271915</td>\n      <td>2925.012900</td>\n      <td>2945.570200</td>\n      <td>2960.560528</td>\n      <td>2960.244039</td>\n      <td>-0.316489</td>\n      <td>2908.869976</td>\n      <td>2886.610107</td>\n      <td>3019.895752</td>\n      <td>3004.520020</td>\n      <td>116.909912</td>\n      <td>0.0</td>\n    </tr>\n    <tr>\n      <th>2019-10-03</th>\n      <td>2885.379883</td>\n      <td>2911.129883</td>\n      <td>2855.939941</td>\n      <td>2910.629883</td>\n      <td>2910.629883</td>\n      <td>3503640000</td>\n      <td>^GSPC</td>\n      <td>2948.501465</td>\n      <td>2977.979050</td>\n      <td>2926.000498</td>\n      <td>2943.391597</td>\n      <td>2956.861961</td>\n      <td>2952.611092</td>\n      <td>-4.250870</td>\n      <td>2910.043247</td>\n      <td>2909.629883</td>\n      <td>3008.841797</td>\n      <td>3010.290039</td>\n      <td>99.660156</td>\n      <td>0.0</td>\n    </tr>\n    <tr>\n      <th>2019-10-04</th>\n      <td>2918.560059</td>\n      <td>2953.739990</td>\n      <td>2918.560059</td>\n      <td>2952.010010</td>\n      <td>2952.010010</td>\n      <td>2990830000</td>\n      <td>^GSPC</td>\n      <td>2943.807164</td>\n      <td>2976.836670</td>\n      <td>2927.176499</td>\n      <td>2942.358398</td>\n      <td>2956.502558</td>\n      <td>2952.518617</td>\n      <td>-3.983940</td>\n      <td>2938.021089</td>\n      <td>2951.010010</td>\n      <td>3003.168457</td>\n      <td>3022.550049</td>\n      <td>70.540039</td>\n      <td>0.0</td>\n    </tr>\n    <tr>\n      <th>2019-10-07</th>\n      <td>2944.229980</td>\n      <td>2959.750000</td>\n      <td>2935.679932</td>\n      <td>2938.790039</td>\n      <td>2938.790039</td>\n      <td>2940140000</td>\n      <td>^GSPC</td>\n      <td>2938.260010</td>\n      <td>2974.935721</td>\n      <td>2928.054800</td>\n      <td>2940.616997</td>\n      <td>2955.190519</td>\n      <td>2950.406528</td>\n      <td>-4.783991</td>\n      <td>2938.533722</td>\n      <td>2937.790039</td>\n      <td>3001.251709</td>\n      <td>3039.419922</td>\n      <td>100.629883</td>\n      <td>0.0</td>\n    </tr>\n    <tr>\n      <th>2019-10-08</th>\n      <td>2920.399902</td>\n      <td>2925.469971</td>\n      <td>2892.659912</td>\n      <td>2893.060059</td>\n      <td>2893.060059</td>\n      <td>3356450000</td>\n      <td>^GSPC</td>\n      <td>2928.441441</td>\n      <td>2970.870489</td>\n      <td>2928.222200</td>\n      <td>2938.058799</td>\n      <td>2950.588263</td>\n      <td>2941.583995</td>\n      <td>-9.004268</td>\n      <td>2908.217947</td>\n      <td>2892.060059</td>\n      <td>2997.336670</td>\n      <td>3036.889893</td>\n      <td>143.829834</td>\n      <td>0.0</td>\n    </tr>\n    <tr>\n      <th>2019-10-09</th>\n      <td>2911.100098</td>\n      <td>2929.320068</td>\n      <td>2907.409912</td>\n      <td>2919.399902</td>\n      <td>2919.399902</td>\n      <td>2726820000</td>\n      <td>^GSPC</td>\n      <td>2920.250000</td>\n      <td>2968.013823</td>\n      <td>2928.820898</td>\n      <td>2936.183198</td>\n      <td>2948.278014</td>\n      <td>2938.171057</td>\n      <td>-10.106957</td>\n      <td>2915.672584</td>\n      <td>2918.399902</td>\n      <td>2995.218018</td>\n      <td>3046.770020</td>\n      <td>127.370117</td>\n      <td>0.0</td>\n    </tr>\n    <tr>\n      <th>2019-10-10</th>\n      <td>2918.550049</td>\n      <td>2948.459961</td>\n      <td>2917.120117</td>\n      <td>2938.129883</td>\n      <td>2938.129883</td>\n      <td>3217250000</td>\n      <td>^GSPC</td>\n      <td>2919.947126</td>\n      <td>2965.023344</td>\n      <td>2929.799897</td>\n      <td>2935.338198</td>\n      <td>2947.526301</td>\n      <td>2938.164723</td>\n      <td>-9.361578</td>\n      <td>2930.644116</td>\n      <td>2937.129883</td>\n      <td>2994.640625</td>\n      <td>3037.560059</td>\n      <td>99.430176</td>\n      <td>0.0</td>\n    </tr>\n    <tr>\n      <th>2019-10-11</th>\n      <td>2963.070068</td>\n      <td>2993.280029</td>\n      <td>2963.070068</td>\n      <td>2970.270020</td>\n      <td>2970.270020</td>\n      <td>3580460000</td>\n      <td>^GSPC</td>\n      <td>2931.755685</td>\n      <td>2963.151914</td>\n      <td>2930.858997</td>\n      <td>2935.672397</td>\n      <td>2949.211020</td>\n      <td>2943.103999</td>\n      <td>-6.107021</td>\n      <td>2957.061385</td>\n      <td>2969.270020</td>\n      <td>2998.090820</td>\n      <td>3066.909912</td>\n      <td>96.639893</td>\n      <td>0.0</td>\n    </tr>\n    <tr>\n      <th>2019-10-14</th>\n      <td>2965.810059</td>\n      <td>2972.840088</td>\n      <td>2962.939941</td>\n      <td>2966.149902</td>\n      <td>2966.149902</td>\n      <td>2557020000</td>\n      <td>^GSPC</td>\n      <td>2939.687116</td>\n      <td>2961.188105</td>\n      <td>2931.957795</td>\n      <td>2936.354395</td>\n      <td>2950.465752</td>\n      <td>2946.649523</td>\n      <td>-3.816230</td>\n      <td>2963.120397</td>\n      <td>2965.149902</td>\n      <td>3005.427734</td>\n      <td>3078.270020</td>\n      <td>112.120117</td>\n      <td>0.0</td>\n    </tr>\n    <tr>\n      <th>2019-10-15</th>\n      <td>2973.610107</td>\n      <td>3003.280029</td>\n      <td>2973.610107</td>\n      <td>2995.679932</td>\n      <td>2995.679932</td>\n      <td>3340740000</td>\n      <td>^GSPC</td>\n      <td>2945.925677</td>\n      <td>2961.079532</td>\n      <td>2933.692195</td>\n      <td>2939.373193</td>\n      <td>2953.814951</td>\n      <td>2954.192663</td>\n      <td>0.377712</td>\n      <td>2984.826753</td>\n      <td>2994.679932</td>\n      <td>3013.990967</td>\n      <td>3074.620117</td>\n      <td>78.940186</td>\n      <td>0.0</td>\n    </tr>\n    <tr>\n      <th>2019-10-16</th>\n      <td>2989.679932</td>\n      <td>2997.540039</td>\n      <td>2985.199951</td>\n      <td>2989.689941</td>\n      <td>2989.689941</td>\n      <td>3222570000</td>\n      <td>^GSPC</td>\n      <td>2953.197091</td>\n      <td>2960.317150</td>\n      <td>2935.328494</td>\n      <td>2941.531592</td>\n      <td>2956.472358</td>\n      <td>2959.653782</td>\n      <td>3.181425</td>\n      <td>2988.068879</td>\n      <td>2988.689941</td>\n      <td>3022.950439</td>\n      <td>3076.780029</td>\n      <td>87.090088</td>\n      <td>0.0</td>\n    </tr>\n    <tr>\n      <th>2019-10-17</th>\n      <td>3000.770020</td>\n      <td>3008.290039</td>\n      <td>2991.790039</td>\n      <td>2997.949951</td>\n      <td>2997.949951</td>\n      <td>3115960000</td>\n      <td>^GSPC</td>\n      <td>2968.181362</td>\n      <td>2959.899054</td>\n      <td>2937.284094</td>\n      <td>2943.810991</td>\n      <td>2959.544772</td>\n      <td>2965.545501</td>\n      <td>6.000729</td>\n      <td>2994.656260</td>\n      <td>2996.949951</td>\n      <td>3031.971924</td>\n      <td>3085.179932</td>\n      <td>87.229980</td>\n      <td>0.0</td>\n    </tr>\n    <tr>\n      <th>2019-10-18</th>\n      <td>2996.840088</td>\n      <td>3000.000000</td>\n      <td>2976.310059</td>\n      <td>2986.199951</td>\n      <td>2986.199951</td>\n      <td>3264290000</td>\n      <td>^GSPC</td>\n      <td>2977.724226</td>\n      <td>2958.918573</td>\n      <td>2939.315894</td>\n      <td>2944.773188</td>\n      <td>2961.519230</td>\n      <td>2968.723108</td>\n      <td>7.203879</td>\n      <td>2989.018721</td>\n      <td>2985.199951</td>\n      <td>3038.748291</td>\n      <td>3093.080078</td>\n      <td>106.880127</td>\n      <td>0.0</td>\n    </tr>\n    <tr>\n      <th>2019-10-21</th>\n      <td>2996.479980</td>\n      <td>3007.330078</td>\n      <td>2995.350098</td>\n      <td>3006.719971</td>\n      <td>3006.719971</td>\n      <td>3271620000</td>\n      <td>^GSPC</td>\n      <td>2987.522810</td>\n      <td>2959.616188</td>\n      <td>2941.494492</td>\n      <td>2946.534590</td>\n      <td>2964.867433</td>\n      <td>2974.568780</td>\n      <td>9.701347</td>\n      <td>3000.819554</td>\n      <td>3005.719971</td>\n      <td>3044.739502</td>\n      <td>3087.010010</td>\n      <td>80.290039</td>\n      <td>0.0</td>\n    </tr>\n  </tbody>\n</table>\n</div>"
     },
     "execution_count": 114,
     "metadata": {},
     "output_type": "execute_result"
    }
   ],
   "source": [
    "final_df.head(20)"
   ]
  },
  {
   "cell_type": "code",
   "execution_count": 115,
   "metadata": {
    "pycharm": {
     "name": "#%%\n"
    }
   },
   "outputs": [
    {
     "data": {
      "text/plain": "                   open         high          low        close     adjclose  \\\n2021-10-08  4406.509766  4412.020020  4386.220215  4391.339844  4391.339844   \n2021-10-11  4385.439941  4415.879883  4360.589844  4361.189941  4361.189941   \n2021-10-12  4368.310059  4374.890137  4342.089844  4350.649902  4350.649902   \n2021-10-13  4358.009766  4372.870117  4329.919922  4363.799805  4363.799805   \n2021-10-14  4386.750000  4439.729980  4386.750000  4438.259766  4438.259766   \n2021-10-15  4447.689941  4475.819824  4447.689941  4471.370117  4471.370117   \n2021-10-18  4463.720215  4488.750000  4447.470215  4486.459961  4486.459961   \n2021-10-19  4497.339844  4520.399902  4496.410156  4519.629883  4519.629883   \n2021-10-20  4524.419922  4540.870117  4524.399902  4536.189941  4536.189941   \n2021-10-21  4532.240234  4551.439941  4526.890137  4549.779785  4549.779785   \n2021-10-22  4546.120117  4559.669922  4524.000000  4544.899902  4544.899902   \n2021-10-25  4553.689941  4572.620117  4537.359863  4566.479980  4566.479980   \n2021-10-26  4578.689941  4598.529785  4569.169922  4574.790039  4574.790039   \n2021-10-27  4580.220215  4584.569824  4551.660156  4551.680176  4551.680176   \n2021-10-28  4562.839844  4597.549805  4562.839844  4596.419922  4596.419922   \n2021-10-29  4572.870117  4608.080078  4567.589844  4605.379883  4605.379883   \n2021-11-01  4610.620117  4620.339844  4595.060059  4613.669922  4613.669922   \n2021-11-02  4613.339844  4635.149902  4613.339844  4630.649902  4630.649902   \n2021-11-03  4630.649902  4663.459961  4621.189941  4660.569824  4660.569824   \n2021-11-04  4662.930176  4683.000000  4662.589844  4680.060059  4680.060059   \n\n                volume ticker          ma7         ma21        ma100  \\\n2021-10-08  2401890000  ^GSPC  4352.201381  4399.544271  4358.030884   \n2021-10-11  2580000000  ^GSPC  4359.865653  4394.906645  4360.485981   \n2021-10-12  2608150000  ^GSPC  4358.952776  4389.283784  4362.401279   \n2021-10-13  2926460000  ^GSPC  4368.001325  4385.509975  4364.480679   \n2021-10-14  2642920000  ^GSPC  4381.221261  4383.489002  4366.892778   \n2021-10-15  3000560000  ^GSPC  4396.624163  4383.375674  4369.725181   \n2021-10-18  2683540000  ^GSPC  4409.009905  4385.921852  4372.629878   \n2021-10-19  2531210000  ^GSPC  4427.337054  4393.631371  4375.817378   \n2021-10-20  2671560000  ^GSPC  4452.337054  4402.298038  4379.138179   \n2021-10-21  3016950000  ^GSPC  4480.784180  4409.638021  4382.615576   \n2021-10-22  3062810000  ^GSPC  4506.655622  4414.205636  4385.983374   \n2021-10-25  3250210000  ^GSPC  4524.972796  4419.491350  4389.719673   \n2021-10-26  2866500000  ^GSPC  4539.747070  4425.761835  4393.168672   \n2021-10-27  3259510000  ^GSPC  4549.064244  4435.240420  4396.420273   \n2021-10-28  3197560000  ^GSPC  4560.034249  4446.524228  4400.111875   \n2021-10-29  3632260000  ^GSPC  4569.918527  4460.707078  4403.970176   \n2021-11-01  2924000000  ^GSPC  4579.045689  4472.927548  4407.715073   \n2021-11-02  3309690000  ^GSPC  4591.295689  4488.650879  4411.547173   \n2021-11-03  3339440000  ^GSPC  4604.737095  4503.643717  4415.601372   \n2021-11-04  3332940000  ^GSPC  4619.775670  4518.715634  4419.936074   \n\n                   ma50        26ema        12ema       MACD          ema  \\\n2021-10-08  4437.935791  4402.339449  4378.662144 -23.677305  4389.096320   \n2021-10-11  4437.254395  4399.291337  4375.974113 -23.317225  4370.492067   \n2021-10-12  4436.524189  4395.688268  4372.078080 -23.610188  4357.263957   \n2021-10-13  4435.337188  4393.326160  4370.804499 -22.521660  4361.621189   \n2021-10-14  4436.049180  4396.654575  4381.182233 -15.472342  4412.713573   \n2021-10-15  4436.894580  4402.189059  4395.057292  -7.131768  4451.817936   \n2021-10-18  4437.893379  4408.431348  4409.119241   0.687892  4474.912619   \n2021-10-19  4439.638975  4416.668277  4426.120878   9.452601  4504.724128   \n2021-10-20  4441.627773  4425.521734  4443.054580  17.532847  4525.701337   \n2021-10-21  4443.775166  4434.726034  4459.473843  24.747809  4541.753636   \n2021-10-22  4445.456562  4442.887061  4472.616313  29.729252  4543.851147   \n2021-10-25  4447.426162  4452.042092  4487.056877  35.014785  4558.937036   \n2021-10-26  4449.327764  4461.134533  4500.554287  39.419754  4569.505705   \n2021-10-27  4451.399766  4467.841617  4508.419808  40.578191  4557.622019   \n2021-10-28  4455.322764  4477.365936  4521.958287  44.592351  4583.487287   \n2021-10-29  4459.314365  4486.848451  4534.792379  47.943928  4598.082351   \n2021-11-01  4462.754365  4496.242634  4546.927386  50.684752  4608.474065   \n2021-11-02  4465.776768  4506.198728  4559.807773  53.609045  4623.257957   \n2021-11-03  4469.263564  4517.633624  4575.309627  57.676003  4648.132535   \n2021-11-04  4472.940967  4529.665212  4591.425078  61.759866  4669.417551   \n\n               momentum     close_15  true_close_15  buy_profit  sell_profit  \n2021-10-08  4390.339844  4495.953125    4605.379883  214.040039     0.000000  \n2021-10-11  4360.189941  4500.843750    4613.669922  252.479980     0.000000  \n2021-10-12  4349.649902  4503.136230    4630.649902  280.000000     0.000000  \n2021-10-13  4362.799805  4503.130371    4660.569824  296.770020     0.000000  \n2021-10-14  4437.259766  4506.242676    4680.060059  241.800293     0.000000  \n2021-10-15  4470.370117  4512.994141    4697.529785  226.159668     0.000000  \n2021-10-18  4485.459961  4522.338867    4701.700195  215.240234     0.000000  \n2021-10-19  4518.629883  4533.880371    4685.250000  165.620117     0.000000  \n2021-10-20  4535.189941  4545.970215    4646.709961  110.520020     0.000000  \n2021-10-21  4548.779785  4556.785645    4649.270020   99.490234     0.000000  \n2021-10-22  4543.899902  4565.500000    4682.850098  137.950195     0.000000  \n2021-10-25  4565.479980  4572.509277    4682.799805  116.319824     0.000000  \n2021-10-26  4573.790039  4579.353516    4700.899902  126.109863     0.000000  \n2021-10-27  4550.680176  4583.376953    4688.669922  136.989746     0.000000  \n2021-10-28  4595.419922  4586.712402    4704.540039    0.000000  -108.120117  \n2021-10-29  4604.379883  4589.180664    4697.959961    0.000000   -92.580078  \n2021-11-01  4612.669922  4593.116699    4682.939941    0.000000   -69.270020  \n2021-11-02  4629.649902  4597.285645    4690.700195    0.000000   -60.050293  \n2021-11-03  4659.569824  4602.542969    4701.459961    0.000000   -40.890137  \n2021-11-04  4679.060059  4609.453125    4594.620117    0.000000    85.439941  ",
      "text/html": "<div>\n<style scoped>\n    .dataframe tbody tr th:only-of-type {\n        vertical-align: middle;\n    }\n\n    .dataframe tbody tr th {\n        vertical-align: top;\n    }\n\n    .dataframe thead th {\n        text-align: right;\n    }\n</style>\n<table border=\"1\" class=\"dataframe\">\n  <thead>\n    <tr style=\"text-align: right;\">\n      <th></th>\n      <th>open</th>\n      <th>high</th>\n      <th>low</th>\n      <th>close</th>\n      <th>adjclose</th>\n      <th>volume</th>\n      <th>ticker</th>\n      <th>ma7</th>\n      <th>ma21</th>\n      <th>ma100</th>\n      <th>ma50</th>\n      <th>26ema</th>\n      <th>12ema</th>\n      <th>MACD</th>\n      <th>ema</th>\n      <th>momentum</th>\n      <th>close_15</th>\n      <th>true_close_15</th>\n      <th>buy_profit</th>\n      <th>sell_profit</th>\n    </tr>\n  </thead>\n  <tbody>\n    <tr>\n      <th>2021-10-08</th>\n      <td>4406.509766</td>\n      <td>4412.020020</td>\n      <td>4386.220215</td>\n      <td>4391.339844</td>\n      <td>4391.339844</td>\n      <td>2401890000</td>\n      <td>^GSPC</td>\n      <td>4352.201381</td>\n      <td>4399.544271</td>\n      <td>4358.030884</td>\n      <td>4437.935791</td>\n      <td>4402.339449</td>\n      <td>4378.662144</td>\n      <td>-23.677305</td>\n      <td>4389.096320</td>\n      <td>4390.339844</td>\n      <td>4495.953125</td>\n      <td>4605.379883</td>\n      <td>214.040039</td>\n      <td>0.000000</td>\n    </tr>\n    <tr>\n      <th>2021-10-11</th>\n      <td>4385.439941</td>\n      <td>4415.879883</td>\n      <td>4360.589844</td>\n      <td>4361.189941</td>\n      <td>4361.189941</td>\n      <td>2580000000</td>\n      <td>^GSPC</td>\n      <td>4359.865653</td>\n      <td>4394.906645</td>\n      <td>4360.485981</td>\n      <td>4437.254395</td>\n      <td>4399.291337</td>\n      <td>4375.974113</td>\n      <td>-23.317225</td>\n      <td>4370.492067</td>\n      <td>4360.189941</td>\n      <td>4500.843750</td>\n      <td>4613.669922</td>\n      <td>252.479980</td>\n      <td>0.000000</td>\n    </tr>\n    <tr>\n      <th>2021-10-12</th>\n      <td>4368.310059</td>\n      <td>4374.890137</td>\n      <td>4342.089844</td>\n      <td>4350.649902</td>\n      <td>4350.649902</td>\n      <td>2608150000</td>\n      <td>^GSPC</td>\n      <td>4358.952776</td>\n      <td>4389.283784</td>\n      <td>4362.401279</td>\n      <td>4436.524189</td>\n      <td>4395.688268</td>\n      <td>4372.078080</td>\n      <td>-23.610188</td>\n      <td>4357.263957</td>\n      <td>4349.649902</td>\n      <td>4503.136230</td>\n      <td>4630.649902</td>\n      <td>280.000000</td>\n      <td>0.000000</td>\n    </tr>\n    <tr>\n      <th>2021-10-13</th>\n      <td>4358.009766</td>\n      <td>4372.870117</td>\n      <td>4329.919922</td>\n      <td>4363.799805</td>\n      <td>4363.799805</td>\n      <td>2926460000</td>\n      <td>^GSPC</td>\n      <td>4368.001325</td>\n      <td>4385.509975</td>\n      <td>4364.480679</td>\n      <td>4435.337188</td>\n      <td>4393.326160</td>\n      <td>4370.804499</td>\n      <td>-22.521660</td>\n      <td>4361.621189</td>\n      <td>4362.799805</td>\n      <td>4503.130371</td>\n      <td>4660.569824</td>\n      <td>296.770020</td>\n      <td>0.000000</td>\n    </tr>\n    <tr>\n      <th>2021-10-14</th>\n      <td>4386.750000</td>\n      <td>4439.729980</td>\n      <td>4386.750000</td>\n      <td>4438.259766</td>\n      <td>4438.259766</td>\n      <td>2642920000</td>\n      <td>^GSPC</td>\n      <td>4381.221261</td>\n      <td>4383.489002</td>\n      <td>4366.892778</td>\n      <td>4436.049180</td>\n      <td>4396.654575</td>\n      <td>4381.182233</td>\n      <td>-15.472342</td>\n      <td>4412.713573</td>\n      <td>4437.259766</td>\n      <td>4506.242676</td>\n      <td>4680.060059</td>\n      <td>241.800293</td>\n      <td>0.000000</td>\n    </tr>\n    <tr>\n      <th>2021-10-15</th>\n      <td>4447.689941</td>\n      <td>4475.819824</td>\n      <td>4447.689941</td>\n      <td>4471.370117</td>\n      <td>4471.370117</td>\n      <td>3000560000</td>\n      <td>^GSPC</td>\n      <td>4396.624163</td>\n      <td>4383.375674</td>\n      <td>4369.725181</td>\n      <td>4436.894580</td>\n      <td>4402.189059</td>\n      <td>4395.057292</td>\n      <td>-7.131768</td>\n      <td>4451.817936</td>\n      <td>4470.370117</td>\n      <td>4512.994141</td>\n      <td>4697.529785</td>\n      <td>226.159668</td>\n      <td>0.000000</td>\n    </tr>\n    <tr>\n      <th>2021-10-18</th>\n      <td>4463.720215</td>\n      <td>4488.750000</td>\n      <td>4447.470215</td>\n      <td>4486.459961</td>\n      <td>4486.459961</td>\n      <td>2683540000</td>\n      <td>^GSPC</td>\n      <td>4409.009905</td>\n      <td>4385.921852</td>\n      <td>4372.629878</td>\n      <td>4437.893379</td>\n      <td>4408.431348</td>\n      <td>4409.119241</td>\n      <td>0.687892</td>\n      <td>4474.912619</td>\n      <td>4485.459961</td>\n      <td>4522.338867</td>\n      <td>4701.700195</td>\n      <td>215.240234</td>\n      <td>0.000000</td>\n    </tr>\n    <tr>\n      <th>2021-10-19</th>\n      <td>4497.339844</td>\n      <td>4520.399902</td>\n      <td>4496.410156</td>\n      <td>4519.629883</td>\n      <td>4519.629883</td>\n      <td>2531210000</td>\n      <td>^GSPC</td>\n      <td>4427.337054</td>\n      <td>4393.631371</td>\n      <td>4375.817378</td>\n      <td>4439.638975</td>\n      <td>4416.668277</td>\n      <td>4426.120878</td>\n      <td>9.452601</td>\n      <td>4504.724128</td>\n      <td>4518.629883</td>\n      <td>4533.880371</td>\n      <td>4685.250000</td>\n      <td>165.620117</td>\n      <td>0.000000</td>\n    </tr>\n    <tr>\n      <th>2021-10-20</th>\n      <td>4524.419922</td>\n      <td>4540.870117</td>\n      <td>4524.399902</td>\n      <td>4536.189941</td>\n      <td>4536.189941</td>\n      <td>2671560000</td>\n      <td>^GSPC</td>\n      <td>4452.337054</td>\n      <td>4402.298038</td>\n      <td>4379.138179</td>\n      <td>4441.627773</td>\n      <td>4425.521734</td>\n      <td>4443.054580</td>\n      <td>17.532847</td>\n      <td>4525.701337</td>\n      <td>4535.189941</td>\n      <td>4545.970215</td>\n      <td>4646.709961</td>\n      <td>110.520020</td>\n      <td>0.000000</td>\n    </tr>\n    <tr>\n      <th>2021-10-21</th>\n      <td>4532.240234</td>\n      <td>4551.439941</td>\n      <td>4526.890137</td>\n      <td>4549.779785</td>\n      <td>4549.779785</td>\n      <td>3016950000</td>\n      <td>^GSPC</td>\n      <td>4480.784180</td>\n      <td>4409.638021</td>\n      <td>4382.615576</td>\n      <td>4443.775166</td>\n      <td>4434.726034</td>\n      <td>4459.473843</td>\n      <td>24.747809</td>\n      <td>4541.753636</td>\n      <td>4548.779785</td>\n      <td>4556.785645</td>\n      <td>4649.270020</td>\n      <td>99.490234</td>\n      <td>0.000000</td>\n    </tr>\n    <tr>\n      <th>2021-10-22</th>\n      <td>4546.120117</td>\n      <td>4559.669922</td>\n      <td>4524.000000</td>\n      <td>4544.899902</td>\n      <td>4544.899902</td>\n      <td>3062810000</td>\n      <td>^GSPC</td>\n      <td>4506.655622</td>\n      <td>4414.205636</td>\n      <td>4385.983374</td>\n      <td>4445.456562</td>\n      <td>4442.887061</td>\n      <td>4472.616313</td>\n      <td>29.729252</td>\n      <td>4543.851147</td>\n      <td>4543.899902</td>\n      <td>4565.500000</td>\n      <td>4682.850098</td>\n      <td>137.950195</td>\n      <td>0.000000</td>\n    </tr>\n    <tr>\n      <th>2021-10-25</th>\n      <td>4553.689941</td>\n      <td>4572.620117</td>\n      <td>4537.359863</td>\n      <td>4566.479980</td>\n      <td>4566.479980</td>\n      <td>3250210000</td>\n      <td>^GSPC</td>\n      <td>4524.972796</td>\n      <td>4419.491350</td>\n      <td>4389.719673</td>\n      <td>4447.426162</td>\n      <td>4452.042092</td>\n      <td>4487.056877</td>\n      <td>35.014785</td>\n      <td>4558.937036</td>\n      <td>4565.479980</td>\n      <td>4572.509277</td>\n      <td>4682.799805</td>\n      <td>116.319824</td>\n      <td>0.000000</td>\n    </tr>\n    <tr>\n      <th>2021-10-26</th>\n      <td>4578.689941</td>\n      <td>4598.529785</td>\n      <td>4569.169922</td>\n      <td>4574.790039</td>\n      <td>4574.790039</td>\n      <td>2866500000</td>\n      <td>^GSPC</td>\n      <td>4539.747070</td>\n      <td>4425.761835</td>\n      <td>4393.168672</td>\n      <td>4449.327764</td>\n      <td>4461.134533</td>\n      <td>4500.554287</td>\n      <td>39.419754</td>\n      <td>4569.505705</td>\n      <td>4573.790039</td>\n      <td>4579.353516</td>\n      <td>4700.899902</td>\n      <td>126.109863</td>\n      <td>0.000000</td>\n    </tr>\n    <tr>\n      <th>2021-10-27</th>\n      <td>4580.220215</td>\n      <td>4584.569824</td>\n      <td>4551.660156</td>\n      <td>4551.680176</td>\n      <td>4551.680176</td>\n      <td>3259510000</td>\n      <td>^GSPC</td>\n      <td>4549.064244</td>\n      <td>4435.240420</td>\n      <td>4396.420273</td>\n      <td>4451.399766</td>\n      <td>4467.841617</td>\n      <td>4508.419808</td>\n      <td>40.578191</td>\n      <td>4557.622019</td>\n      <td>4550.680176</td>\n      <td>4583.376953</td>\n      <td>4688.669922</td>\n      <td>136.989746</td>\n      <td>0.000000</td>\n    </tr>\n    <tr>\n      <th>2021-10-28</th>\n      <td>4562.839844</td>\n      <td>4597.549805</td>\n      <td>4562.839844</td>\n      <td>4596.419922</td>\n      <td>4596.419922</td>\n      <td>3197560000</td>\n      <td>^GSPC</td>\n      <td>4560.034249</td>\n      <td>4446.524228</td>\n      <td>4400.111875</td>\n      <td>4455.322764</td>\n      <td>4477.365936</td>\n      <td>4521.958287</td>\n      <td>44.592351</td>\n      <td>4583.487287</td>\n      <td>4595.419922</td>\n      <td>4586.712402</td>\n      <td>4704.540039</td>\n      <td>0.000000</td>\n      <td>-108.120117</td>\n    </tr>\n    <tr>\n      <th>2021-10-29</th>\n      <td>4572.870117</td>\n      <td>4608.080078</td>\n      <td>4567.589844</td>\n      <td>4605.379883</td>\n      <td>4605.379883</td>\n      <td>3632260000</td>\n      <td>^GSPC</td>\n      <td>4569.918527</td>\n      <td>4460.707078</td>\n      <td>4403.970176</td>\n      <td>4459.314365</td>\n      <td>4486.848451</td>\n      <td>4534.792379</td>\n      <td>47.943928</td>\n      <td>4598.082351</td>\n      <td>4604.379883</td>\n      <td>4589.180664</td>\n      <td>4697.959961</td>\n      <td>0.000000</td>\n      <td>-92.580078</td>\n    </tr>\n    <tr>\n      <th>2021-11-01</th>\n      <td>4610.620117</td>\n      <td>4620.339844</td>\n      <td>4595.060059</td>\n      <td>4613.669922</td>\n      <td>4613.669922</td>\n      <td>2924000000</td>\n      <td>^GSPC</td>\n      <td>4579.045689</td>\n      <td>4472.927548</td>\n      <td>4407.715073</td>\n      <td>4462.754365</td>\n      <td>4496.242634</td>\n      <td>4546.927386</td>\n      <td>50.684752</td>\n      <td>4608.474065</td>\n      <td>4612.669922</td>\n      <td>4593.116699</td>\n      <td>4682.939941</td>\n      <td>0.000000</td>\n      <td>-69.270020</td>\n    </tr>\n    <tr>\n      <th>2021-11-02</th>\n      <td>4613.339844</td>\n      <td>4635.149902</td>\n      <td>4613.339844</td>\n      <td>4630.649902</td>\n      <td>4630.649902</td>\n      <td>3309690000</td>\n      <td>^GSPC</td>\n      <td>4591.295689</td>\n      <td>4488.650879</td>\n      <td>4411.547173</td>\n      <td>4465.776768</td>\n      <td>4506.198728</td>\n      <td>4559.807773</td>\n      <td>53.609045</td>\n      <td>4623.257957</td>\n      <td>4629.649902</td>\n      <td>4597.285645</td>\n      <td>4690.700195</td>\n      <td>0.000000</td>\n      <td>-60.050293</td>\n    </tr>\n    <tr>\n      <th>2021-11-03</th>\n      <td>4630.649902</td>\n      <td>4663.459961</td>\n      <td>4621.189941</td>\n      <td>4660.569824</td>\n      <td>4660.569824</td>\n      <td>3339440000</td>\n      <td>^GSPC</td>\n      <td>4604.737095</td>\n      <td>4503.643717</td>\n      <td>4415.601372</td>\n      <td>4469.263564</td>\n      <td>4517.633624</td>\n      <td>4575.309627</td>\n      <td>57.676003</td>\n      <td>4648.132535</td>\n      <td>4659.569824</td>\n      <td>4602.542969</td>\n      <td>4701.459961</td>\n      <td>0.000000</td>\n      <td>-40.890137</td>\n    </tr>\n    <tr>\n      <th>2021-11-04</th>\n      <td>4662.930176</td>\n      <td>4683.000000</td>\n      <td>4662.589844</td>\n      <td>4680.060059</td>\n      <td>4680.060059</td>\n      <td>3332940000</td>\n      <td>^GSPC</td>\n      <td>4619.775670</td>\n      <td>4518.715634</td>\n      <td>4419.936074</td>\n      <td>4472.940967</td>\n      <td>4529.665212</td>\n      <td>4591.425078</td>\n      <td>61.759866</td>\n      <td>4669.417551</td>\n      <td>4679.060059</td>\n      <td>4609.453125</td>\n      <td>4594.620117</td>\n      <td>0.000000</td>\n      <td>85.439941</td>\n    </tr>\n  </tbody>\n</table>\n</div>"
     },
     "execution_count": 115,
     "metadata": {},
     "output_type": "execute_result"
    }
   ],
   "source": [
    "final_df.tail(20)"
   ]
  },
  {
   "cell_type": "code",
   "execution_count": 116,
   "metadata": {
    "pycharm": {
     "name": "#%%\n"
    }
   },
   "outputs": [],
   "source": [
    "# save the final dataframe to csv-results folder\n",
    "csv_results_folder = \"csv-results\"\n",
    "if not os.path.isdir(csv_results_folder):\n",
    "    os.mkdir(csv_results_folder)\n",
    "csv_filename = os.path.join(csv_results_folder, model_name + \".csv\")\n",
    "final_df.to_csv(csv_filename)\n",
    "xlsx_filename = os.path.join(csv_results_folder, model_name + \".xlsx\")\n",
    "final_df.to_excel(xlsx_filename)"
   ]
  },
  {
   "cell_type": "code",
   "execution_count": 117,
   "metadata": {
    "pycharm": {
     "name": "#%%\n"
    }
   },
   "outputs": [],
   "source": [
    "candles = final_df\n",
    "import datetime\n",
    "candles.rename(columns={'close_15':'predict','true_close_15':'test'}, inplace=True)"
   ]
  },
  {
   "cell_type": "code",
   "execution_count": 121,
   "outputs": [],
   "source": [
    "# Рисует основной график\n",
    "def draw_candles(candles):\n",
    "    # Добавим на график несколько ЕМА-средних\n",
    "    # candles['ema100'] = pd.Series.ewm(candles['close'], span=100).mean()\n",
    "    # candles['ema50'] = pd.Series.ewm(candles['close'], span=50).mean()\n",
    "    # candles['ema20'] = pd.Series.ewm(candles['close'], span=20).mean()\n",
    "    # candles['26ema'] = pd.Series.ewm(candles['close'], span=26).mean()\n",
    "    # candles['12ema'] = pd.Series.ewm(candles['close'], span=12).mean()\n",
    "    # candles['MACD'] = (candles['12ema']-candles['26ema'])\n",
    "    plt.style.use('ggplot')  # 'seaborn-paper'\n",
    "    # Отображаем график по цене закрытия свечей и ЕМА-шки\n",
    "    fig = candles.plot(y=['test', 'predict','26ema','MACD','12ema'], figsize=(25, 16))\n",
    "    # Добавляем заголовок\n",
    "    fig.set_title('График ' + ticker)\n",
    "    # Рисуем шкалу с датами\n",
    "    PlotDatesX(fig, candles)\n",
    "\n",
    "# Определяет начальную и конечную позицию Х (по индексу свечей) для заданной даты. Пригодится при отрисовке ценовых уровней\n",
    "def DateX(date, candles):\n",
    "    # Цикл по датам в свечах, результат - список X-координат, соответствующих заданной дате\n",
    "    xpositions = [index for index, row in candles.iterrows() if row['date'].date() == date]\n",
    "    # Возвращает список - пару начальная координата Х и конечная координата Х для заданной даты на графике\n",
    "    if xpositions == []:\n",
    "        return [len(candles) - 1, len(candles)]  # На случай если за текущую дату нет еще свечей\n",
    "    return [xpositions[0], xpositions[-1]]\n",
    "\n",
    "\n",
    "# Рисует метки дат на оси Х\n",
    "def PlotDatesX(fig, candles):\n",
    "    # Составляем список дат (только уникальные даты) из столбца DT. Они будут метками на оси Х. Сортировка по датам\n",
    "    # обязательна, т.к. при создании множества(set) даже из отсортированного списка, множество может не сохранить порядок списка\n",
    "    dates = sorted(set(map(lambda dt: datetime.date(dt), candles['date'])))\n",
    "    # Создаем список координат Х для каждой метки (даты). Нам нужна только первая позиция - [0].\n",
    "    xlabel = [DateX(d, candles)[0] for d in dates]\n",
    "    # Рисуем ось Х, разделенную по датам\n",
    "    fig.set_xticklabels(dates)\n",
    "    fig.set_xticks(xlabel)\n",
    "    return dates, xlabel"
   ],
   "metadata": {
    "collapsed": false,
    "pycharm": {
     "name": "#%%\n"
    }
   }
  },
  {
   "cell_type": "code",
   "execution_count": 119,
   "outputs": [],
   "source": [
    "# candles.rename(columns={'close_15':'predict','true_close_15':'test'}, inplace=True)\n",
    "# candles['Date'] = candles.index\n",
    "# candles['ema100'] = pd.Series.ewm(candles['close'], span=100).mean()\n",
    "# candles['ema50'] = pd.Series.ewm(candles['close'], span=50).mean()\n",
    "# candles['ema20'] = pd.Series.ewm(candles['close'], span=20).mean()\n",
    "# candles['26ema'] = pd.Series.ewm(candles['close'], span=26).mean()\n",
    "# candles['12ema'] = pd.Series.ewm(candles['close'], span=12).mean()\n",
    "# candles['MACD'] = (candles['12ema']-candles['26ema'])\n",
    "# # candles['Date']= datetime.datetime.strptime(str(candles['Date']), '%Y-%m-%d').date()#pd.to_datetime(candles['Date'],format='%Y%m%d')\n",
    "# candles.tail(20)"
   ],
   "metadata": {
    "collapsed": false,
    "pycharm": {
     "name": "#%%\n"
    }
   }
  },
  {
   "cell_type": "code",
   "execution_count": 122,
   "outputs": [
    {
     "ename": "KeyError",
     "evalue": "'date'",
     "output_type": "error",
     "traceback": [
      "\u001B[1;31m---------------------------------------------------------------------------\u001B[0m",
      "\u001B[1;31mKeyError\u001B[0m                                  Traceback (most recent call last)",
      "\u001B[1;32mc:\\users\\sem\\pycharmprojects\\python.neural.market\\venv\\lib\\site-packages\\pandas\\core\\indexes\\base.py\u001B[0m in \u001B[0;36mget_loc\u001B[1;34m(self, key, method, tolerance)\u001B[0m\n\u001B[0;32m   3360\u001B[0m             \u001B[1;32mtry\u001B[0m\u001B[1;33m:\u001B[0m\u001B[1;33m\u001B[0m\u001B[1;33m\u001B[0m\u001B[0m\n\u001B[1;32m-> 3361\u001B[1;33m                 \u001B[1;32mreturn\u001B[0m \u001B[0mself\u001B[0m\u001B[1;33m.\u001B[0m\u001B[0m_engine\u001B[0m\u001B[1;33m.\u001B[0m\u001B[0mget_loc\u001B[0m\u001B[1;33m(\u001B[0m\u001B[0mcasted_key\u001B[0m\u001B[1;33m)\u001B[0m\u001B[1;33m\u001B[0m\u001B[1;33m\u001B[0m\u001B[0m\n\u001B[0m\u001B[0;32m   3362\u001B[0m             \u001B[1;32mexcept\u001B[0m \u001B[0mKeyError\u001B[0m \u001B[1;32mas\u001B[0m \u001B[0merr\u001B[0m\u001B[1;33m:\u001B[0m\u001B[1;33m\u001B[0m\u001B[1;33m\u001B[0m\u001B[0m\n",
      "\u001B[1;32mc:\\users\\sem\\pycharmprojects\\python.neural.market\\venv\\lib\\site-packages\\pandas\\_libs\\index.pyx\u001B[0m in \u001B[0;36mpandas._libs.index.IndexEngine.get_loc\u001B[1;34m()\u001B[0m\n",
      "\u001B[1;32mc:\\users\\sem\\pycharmprojects\\python.neural.market\\venv\\lib\\site-packages\\pandas\\_libs\\index.pyx\u001B[0m in \u001B[0;36mpandas._libs.index.IndexEngine.get_loc\u001B[1;34m()\u001B[0m\n",
      "\u001B[1;32mpandas\\_libs\\hashtable_class_helper.pxi\u001B[0m in \u001B[0;36mpandas._libs.hashtable.PyObjectHashTable.get_item\u001B[1;34m()\u001B[0m\n",
      "\u001B[1;32mpandas\\_libs\\hashtable_class_helper.pxi\u001B[0m in \u001B[0;36mpandas._libs.hashtable.PyObjectHashTable.get_item\u001B[1;34m()\u001B[0m\n",
      "\u001B[1;31mKeyError\u001B[0m: 'date'",
      "\nThe above exception was the direct cause of the following exception:\n",
      "\u001B[1;31mKeyError\u001B[0m                                  Traceback (most recent call last)",
      "\u001B[1;32m~\\AppData\\Local\\Temp/ipykernel_1376/1031423139.py\u001B[0m in \u001B[0;36m<module>\u001B[1;34m\u001B[0m\n\u001B[1;32m----> 1\u001B[1;33m \u001B[0mdraw_candles\u001B[0m\u001B[1;33m(\u001B[0m\u001B[0mcandles\u001B[0m\u001B[1;33m.\u001B[0m\u001B[0mtail\u001B[0m\u001B[1;33m(\u001B[0m\u001B[1;36m1000\u001B[0m\u001B[1;33m)\u001B[0m\u001B[1;33m)\u001B[0m\u001B[1;33m\u001B[0m\u001B[1;33m\u001B[0m\u001B[0m\n\u001B[0m",
      "\u001B[1;32m~\\AppData\\Local\\Temp/ipykernel_1376/297358766.py\u001B[0m in \u001B[0;36mdraw_candles\u001B[1;34m(candles)\u001B[0m\n\u001B[0;32m     14\u001B[0m     \u001B[0mfig\u001B[0m\u001B[1;33m.\u001B[0m\u001B[0mset_title\u001B[0m\u001B[1;33m(\u001B[0m\u001B[1;34m'График '\u001B[0m \u001B[1;33m+\u001B[0m \u001B[0mticker\u001B[0m\u001B[1;33m)\u001B[0m\u001B[1;33m\u001B[0m\u001B[1;33m\u001B[0m\u001B[0m\n\u001B[0;32m     15\u001B[0m     \u001B[1;31m# Рисуем шкалу с датами\u001B[0m\u001B[1;33m\u001B[0m\u001B[1;33m\u001B[0m\u001B[1;33m\u001B[0m\u001B[0m\n\u001B[1;32m---> 16\u001B[1;33m     \u001B[0mPlotDatesX\u001B[0m\u001B[1;33m(\u001B[0m\u001B[0mfig\u001B[0m\u001B[1;33m,\u001B[0m \u001B[0mcandles\u001B[0m\u001B[1;33m)\u001B[0m\u001B[1;33m\u001B[0m\u001B[1;33m\u001B[0m\u001B[0m\n\u001B[0m\u001B[0;32m     17\u001B[0m \u001B[1;33m\u001B[0m\u001B[0m\n\u001B[0;32m     18\u001B[0m \u001B[1;31m# Определяет начальную и конечную позицию Х (по индексу свечей) для заданной даты. Пригодится при отрисовке ценовых уровней\u001B[0m\u001B[1;33m\u001B[0m\u001B[1;33m\u001B[0m\u001B[1;33m\u001B[0m\u001B[0m\n",
      "\u001B[1;32m~\\AppData\\Local\\Temp/ipykernel_1376/297358766.py\u001B[0m in \u001B[0;36mPlotDatesX\u001B[1;34m(fig, candles)\u001B[0m\n\u001B[0;32m     30\u001B[0m     \u001B[1;31m# Составляем список дат (только уникальные даты) из столбца DT. Они будут метками на оси Х. Сортировка по датам\u001B[0m\u001B[1;33m\u001B[0m\u001B[1;33m\u001B[0m\u001B[1;33m\u001B[0m\u001B[0m\n\u001B[0;32m     31\u001B[0m     \u001B[1;31m# обязательна, т.к. при создании множества(set) даже из отсортированного списка, множество может не сохранить порядок списка\u001B[0m\u001B[1;33m\u001B[0m\u001B[1;33m\u001B[0m\u001B[1;33m\u001B[0m\u001B[0m\n\u001B[1;32m---> 32\u001B[1;33m     \u001B[0mdates\u001B[0m \u001B[1;33m=\u001B[0m \u001B[0msorted\u001B[0m\u001B[1;33m(\u001B[0m\u001B[0mset\u001B[0m\u001B[1;33m(\u001B[0m\u001B[0mmap\u001B[0m\u001B[1;33m(\u001B[0m\u001B[1;32mlambda\u001B[0m \u001B[0mdt\u001B[0m\u001B[1;33m:\u001B[0m \u001B[0mdatetime\u001B[0m\u001B[1;33m.\u001B[0m\u001B[0mdate\u001B[0m\u001B[1;33m(\u001B[0m\u001B[0mdt\u001B[0m\u001B[1;33m)\u001B[0m\u001B[1;33m,\u001B[0m \u001B[0mcandles\u001B[0m\u001B[1;33m[\u001B[0m\u001B[1;34m'date'\u001B[0m\u001B[1;33m]\u001B[0m\u001B[1;33m)\u001B[0m\u001B[1;33m)\u001B[0m\u001B[1;33m)\u001B[0m\u001B[1;33m\u001B[0m\u001B[1;33m\u001B[0m\u001B[0m\n\u001B[0m\u001B[0;32m     33\u001B[0m     \u001B[1;31m# Создаем список координат Х для каждой метки (даты). Нам нужна только первая позиция - [0].\u001B[0m\u001B[1;33m\u001B[0m\u001B[1;33m\u001B[0m\u001B[1;33m\u001B[0m\u001B[0m\n\u001B[0;32m     34\u001B[0m     \u001B[0mxlabel\u001B[0m \u001B[1;33m=\u001B[0m \u001B[1;33m[\u001B[0m\u001B[0mDateX\u001B[0m\u001B[1;33m(\u001B[0m\u001B[0md\u001B[0m\u001B[1;33m,\u001B[0m \u001B[0mcandles\u001B[0m\u001B[1;33m)\u001B[0m\u001B[1;33m[\u001B[0m\u001B[1;36m0\u001B[0m\u001B[1;33m]\u001B[0m \u001B[1;32mfor\u001B[0m \u001B[0md\u001B[0m \u001B[1;32min\u001B[0m \u001B[0mdates\u001B[0m\u001B[1;33m]\u001B[0m\u001B[1;33m\u001B[0m\u001B[1;33m\u001B[0m\u001B[0m\n",
      "\u001B[1;32mc:\\users\\sem\\pycharmprojects\\python.neural.market\\venv\\lib\\site-packages\\pandas\\core\\frame.py\u001B[0m in \u001B[0;36m__getitem__\u001B[1;34m(self, key)\u001B[0m\n\u001B[0;32m   3456\u001B[0m             \u001B[1;32mif\u001B[0m \u001B[0mself\u001B[0m\u001B[1;33m.\u001B[0m\u001B[0mcolumns\u001B[0m\u001B[1;33m.\u001B[0m\u001B[0mnlevels\u001B[0m \u001B[1;33m>\u001B[0m \u001B[1;36m1\u001B[0m\u001B[1;33m:\u001B[0m\u001B[1;33m\u001B[0m\u001B[1;33m\u001B[0m\u001B[0m\n\u001B[0;32m   3457\u001B[0m                 \u001B[1;32mreturn\u001B[0m \u001B[0mself\u001B[0m\u001B[1;33m.\u001B[0m\u001B[0m_getitem_multilevel\u001B[0m\u001B[1;33m(\u001B[0m\u001B[0mkey\u001B[0m\u001B[1;33m)\u001B[0m\u001B[1;33m\u001B[0m\u001B[1;33m\u001B[0m\u001B[0m\n\u001B[1;32m-> 3458\u001B[1;33m             \u001B[0mindexer\u001B[0m \u001B[1;33m=\u001B[0m \u001B[0mself\u001B[0m\u001B[1;33m.\u001B[0m\u001B[0mcolumns\u001B[0m\u001B[1;33m.\u001B[0m\u001B[0mget_loc\u001B[0m\u001B[1;33m(\u001B[0m\u001B[0mkey\u001B[0m\u001B[1;33m)\u001B[0m\u001B[1;33m\u001B[0m\u001B[1;33m\u001B[0m\u001B[0m\n\u001B[0m\u001B[0;32m   3459\u001B[0m             \u001B[1;32mif\u001B[0m \u001B[0mis_integer\u001B[0m\u001B[1;33m(\u001B[0m\u001B[0mindexer\u001B[0m\u001B[1;33m)\u001B[0m\u001B[1;33m:\u001B[0m\u001B[1;33m\u001B[0m\u001B[1;33m\u001B[0m\u001B[0m\n\u001B[0;32m   3460\u001B[0m                 \u001B[0mindexer\u001B[0m \u001B[1;33m=\u001B[0m \u001B[1;33m[\u001B[0m\u001B[0mindexer\u001B[0m\u001B[1;33m]\u001B[0m\u001B[1;33m\u001B[0m\u001B[1;33m\u001B[0m\u001B[0m\n",
      "\u001B[1;32mc:\\users\\sem\\pycharmprojects\\python.neural.market\\venv\\lib\\site-packages\\pandas\\core\\indexes\\base.py\u001B[0m in \u001B[0;36mget_loc\u001B[1;34m(self, key, method, tolerance)\u001B[0m\n\u001B[0;32m   3361\u001B[0m                 \u001B[1;32mreturn\u001B[0m \u001B[0mself\u001B[0m\u001B[1;33m.\u001B[0m\u001B[0m_engine\u001B[0m\u001B[1;33m.\u001B[0m\u001B[0mget_loc\u001B[0m\u001B[1;33m(\u001B[0m\u001B[0mcasted_key\u001B[0m\u001B[1;33m)\u001B[0m\u001B[1;33m\u001B[0m\u001B[1;33m\u001B[0m\u001B[0m\n\u001B[0;32m   3362\u001B[0m             \u001B[1;32mexcept\u001B[0m \u001B[0mKeyError\u001B[0m \u001B[1;32mas\u001B[0m \u001B[0merr\u001B[0m\u001B[1;33m:\u001B[0m\u001B[1;33m\u001B[0m\u001B[1;33m\u001B[0m\u001B[0m\n\u001B[1;32m-> 3363\u001B[1;33m                 \u001B[1;32mraise\u001B[0m \u001B[0mKeyError\u001B[0m\u001B[1;33m(\u001B[0m\u001B[0mkey\u001B[0m\u001B[1;33m)\u001B[0m \u001B[1;32mfrom\u001B[0m \u001B[0merr\u001B[0m\u001B[1;33m\u001B[0m\u001B[1;33m\u001B[0m\u001B[0m\n\u001B[0m\u001B[0;32m   3364\u001B[0m \u001B[1;33m\u001B[0m\u001B[0m\n\u001B[0;32m   3365\u001B[0m         \u001B[1;32mif\u001B[0m \u001B[0mis_scalar\u001B[0m\u001B[1;33m(\u001B[0m\u001B[0mkey\u001B[0m\u001B[1;33m)\u001B[0m \u001B[1;32mand\u001B[0m \u001B[0misna\u001B[0m\u001B[1;33m(\u001B[0m\u001B[0mkey\u001B[0m\u001B[1;33m)\u001B[0m \u001B[1;32mand\u001B[0m \u001B[1;32mnot\u001B[0m \u001B[0mself\u001B[0m\u001B[1;33m.\u001B[0m\u001B[0mhasnans\u001B[0m\u001B[1;33m:\u001B[0m\u001B[1;33m\u001B[0m\u001B[1;33m\u001B[0m\u001B[0m\n",
      "\u001B[1;31mKeyError\u001B[0m: 'date'"
     ]
    },
    {
     "data": {
      "text/plain": "<Figure size 1800x1152 with 1 Axes>",
      "image/png": "[encoded data removed]"
     },
     "metadata": {},
     "output_type": "display_data"
    }
   ],
   "source": [
    "\n",
    "draw_candles(candles.tail(1000))"
   ],
   "metadata": {
    "collapsed": false,
    "pycharm": {
     "name": "#%%\n"
    }
   }
  }
 ],
 "metadata": {
  "kernelspec": {
   "display_name": "Python 3",
   "language": "python",
   "name": "python3"
  },
  "language_info": {
   "codemirror_mode": {
    "name": "ipython",
    "version": 3
   },
   "file_extension": ".py",
   "mimetype": "text/x-python",
   "name": "python",
   "nbconvert_exporter": "python",
   "pygments_lexer": "ipython3",
   "version": "3.8.7"
  },
  "pycharm": {
   "stem_cell": {
    "cell_type": "raw",
    "source": [
     "### Источник\n",
     "### https://www.thepythoncode.com/article/stock-price-prediction-in-python-using-tensorflow-2-and-keras\n"
    ],
    "metadata": {
     "collapsed": false
    }
   }
  }
 },
 "nbformat": 4,
 "nbformat_minor": 4
}