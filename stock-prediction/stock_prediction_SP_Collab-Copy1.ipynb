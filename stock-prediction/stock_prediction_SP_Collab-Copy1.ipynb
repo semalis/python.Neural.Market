{
 "cells": [
  {
   "cell_type": "code",
   "execution_count": 1,
   "metadata": {
    "pycharm": {
     "name": "#%%\n"
    }
   },
   "outputs": [],
   "source": [
    "collab = False"
   ]
  },
  {
   "cell_type": "code",
   "execution_count": 2,
   "metadata": {
    "id": "xYGjzHPFp4j4",
    "pycharm": {
     "name": "#%%\n"
    }
   },
   "outputs": [],
   "source": [
    "if collab:\n",
    "    !pip3 install tensorflow pandas numpy matplotlib yahoo_fin sklearn fredapi openpyxl"
   ]
  },
  {
   "cell_type": "code",
   "execution_count": 3,
   "metadata": {
    "executionInfo": {
     "elapsed": 28,
     "status": "ok",
     "timestamp": 1638181329593,
     "user": {
      "displayName": "Сергей Мазеин",
      "photoUrl": "https://lh3.googleusercontent.com/a/default-user=s64",
      "userId": "18218808834952086757"
     },
     "user_tz": -180
    },
    "id": "9Bw7pGTHp4j8",
    "pycharm": {
     "name": "#%%\n"
    }
   },
   "outputs": [],
   "source": [
    "import tensorflow as tf\n",
    "from tensorflow.keras.models import Sequential\n",
    "from tensorflow.keras.layers import LSTM, Dense, Dropout, Bidirectional\n",
    "from tensorflow.keras.callbacks import ModelCheckpoint, TensorBoard\n",
    "from sklearn import preprocessing\n",
    "from sklearn.model_selection import train_test_split\n",
    "from yahoo_fin import stock_info as si\n",
    "from collections import deque\n",
    "\n",
    "import os\n",
    "import numpy as np\n",
    "import pandas as pd\n",
    "import random\n",
    "from fredapi import Fred\n",
    "\n",
    "from distutils.dir_util import copy_tree\n",
    "import shutil"
   ]
  },
  {
   "cell_type": "code",
   "execution_count": 4,
   "metadata": {},
   "outputs": [],
   "source": [
    "def create_folders(folders):\n",
    "    for dir in folders:\n",
    "        if not os.path.isdir(dir):\n",
    "            os.mkdir(dir)\n",
    "\n",
    "def delete_folders(folders):\n",
    "    for dir in folders:\n",
    "        if os.path.exists(dir):          \n",
    "            shutil.rmtree(dir, ignore_errors=True)\n",
    "            \n",
    "# delete_folders([\"2000_test2021_ema100\"])"
   ]
  },
  {
   "cell_type": "code",
   "execution_count": 5,
   "metadata": {},
   "outputs": [],
   "source": [
    "series_ids = [\n",
    "    'CHNCPIALLMINMEI','USACPIALLMINMEI','BRACPIALLMINMEI','INDCPIALLMINMEI','BRAPROINDMISMEI'\n",
    "    ,'USAPROINDMISMEI','PCUOMFGOMFG','RUSCPIALLMINMEI','PIEATI02RUM661N','RUSPROMANMISMEI'\n",
    "    ,'UNRATENSA','GS10','M2NS','INTDSRUSM193N','TOTALNSA','MABMM301USM189S','ALTSALES','RSXFSN'\n",
    "    ,'HTRUCKSSA','M2REAL','M1NS','BUSLOANS','MCOILWTICO','DAUPNSA','FRGSHPUSM649NCIS','PCU33443344'\n",
    "    ,'AISRSA' ,'M1REAL','TRUCKD11','RAILFRTCARLOADS','MNFCTRIRNSA','DAUTOSAAR'\n",
    "    ,'LTOTALNSA','MVMTD027MNFRBDAL','USEPUINDXM','CEU4348400001','CEU1021100001'\n",
    "    ,'IPG3361T3S','TRESEGUSM052N','LAUTONSA','WPU114','RSGASSN','CMRMT','NATURALGAS'\n",
    "    ,'EMVOVERALLEMV','PCU483111483111','WPU101706','GASREGCOVM','WPU11','PCU48214821'\n",
    "    ,'WPU1413','MRTSIR441USN','U36SNO','PCU21112111','IPB53122N','IPB54100N','EXUSEU'\n",
    "    ,'PCU4841214841212','GASDESM','EXCHUS','IPN213111N','PCU21212121','WPU012'\n",
    "    # ,'M1109BUSM293NNBR','PCU484484','IC131','JTU2300JOL','WPU801104','WPU3011','PCU33613361'\n",
    "]\n",
    "new_ticker = ['DX-Y.NYB']\n",
    "\n",
    "# KBE:SPX XLF:SPX IYT:XLU XLU:XLP DBC:TLT IGE:XLP GDL:TLT GDX:GLD GDX:SPY QQQ:IVM"
   ]
  },
  {
   "cell_type": "code",
   "execution_count": 6,
   "metadata": {
    "colab": {
     "base_uri": "https://localhost:8080/"
    },
    "executionInfo": {
     "elapsed": 27,
     "status": "ok",
     "timestamp": 1638181329593,
     "user": {
      "displayName": "Сергей Мазеин",
      "photoUrl": "https://lh3.googleusercontent.com/a/default-user=s64",
      "userId": "18218808834952086757"
     },
     "user_tz": -180
    },
    "id": "DByat8cXpHf8",
    "outputId": "5e391f55-82dd-4b58-c292-8c5ce15c40f6"
   },
   "outputs": [],
   "source": [
    "# 27%\n",
    "# new_results = \"2000_test2021_close_nstep100\"\n",
    "# FEATURE_COLUMNS = [\"close\"]\n",
    "\n",
    "# 26%\n",
    "# new_results = \"1976_test2021_ema100_nstep100\"\n",
    "# FEATURE_COLUMNS = [\"close\", \"volume\", \"open\", \"high\", \"low\",\"ma7\",\"ma21\",\"ma100\",\"ma50\",\"26ema\",\"12ema\",\"MACD\",\"ema\",\"momentum\"] \n",
    "\n",
    "\n",
    "# 20%\n",
    "# new_results = \"2000_test2021_close_nstep25\"\n",
    "# FEATURE_COLUMNS = [\"close\"]\n",
    "\n",
    "# 16%\n",
    "# new_results = \"2000_test2021_close_nstep10\"\n",
    "# FEATURE_COLUMNS = [\"close\"]\n",
    "\n",
    "# 22%\n",
    "# new_results = \"2000_test2021_close_nstep5\"\n",
    "# FEATURE_COLUMNS = [\"close\"]\n",
    "\n",
    "# 26%\n",
    "new_results = \"IBM_2000_test2021_close\"\n",
    "FEATURE_COLUMNS = [\"close\"]\n",
    "\n",
    "# 23%\n",
    "# new_results = \"2000_test2021_close_body\"\n",
    "# FEATURE_COLUMNS = [\"close\",\"body\"]\n",
    "\n",
    "# 19% интересный результат\n",
    "# new_results = \"2000_test2021_close_body_abs\"\n",
    "# FEATURE_COLUMNS = [\"close\",\"body_abs\"]\n",
    "\n",
    "# 24%\n",
    "# new_results = \"2000_test2021_candles\"\n",
    "# FEATURE_COLUMNS = [\"close\", \"volume\", \"open\", \"high\", \"low\"]\n",
    "\n",
    "# 30%\n",
    "# new_results = \"2000_test2021_ema100\"\n",
    "# FEATURE_COLUMNS = [\"close\", \"volume\", \"open\", \"high\", \"low\",\"ma7\",\"ma21\",\"ma100\",\"ma50\",\"26ema\",\"12ema\",\"MACD\",\"ema\",\"momentum\"]\n",
    "\n",
    "# 33%\n",
    "# delete_folders([\"2000_test2021_ema100_ep300\"])\n",
    "# new_results = \"2000_test2021_ema100_ep300\"\n",
    "# FEATURE_COLUMNS = [\"close\", \"volume\", \"open\", \"high\", \"low\",\"ma7\",\"ma21\",\"ma100\",\"ma50\",\"26ema\",\"12ema\",\"MACD\",\"ema\",\"momentum\"]\n",
    "\n",
    "# 26\n",
    "# delete_folders([\"2000_test2021_ema100_ep300_adds\"])\n",
    "# new_results = \"2000_test2021_ema100_ep300_adds\"\n",
    "# FEATURE_COLUMNS = [\"close\", \n",
    "#                    \"volume\", \n",
    "#                    \"open\", \"high\", \"low\",\"ma7\",\"ma21\",\"ma100\",\"ma50\",\"26ema\",\"12ema\",\"MACD\",\"ema\",\"momentum\"]\n",
    "# FEATURE_COLUMNS = FEATURE_COLUMNS + [\n",
    "# #                                     'KBE:^GSPC',\n",
    "#                                      'XLF:^GSPC',\n",
    "# #                                     'IYT:XLU',\n",
    "#                                     'XLU:XLP',\n",
    "# #                                     'DBC:TLT',\n",
    "# #                                     'IGE:XLP',\n",
    "# #                                     'GDL:TLT','GDX:^GSPC'\n",
    "#                                     ]\n",
    "\n",
    "# 23\n",
    "# new_results = \"2000_test2021_ema100_new_ticker\"\n",
    "# FEATURE_COLUMNS = [\"close\", \"volume\", \"open\", \"high\", \"low\",\"ma7\",\"ma21\",\"ma100\",\"ma50\",\"26ema\",\"12ema\",\"MACD\",\"ema\",\"momentum\"] + new_ticker \n",
    "\n",
    "\n",
    "# 27%\n",
    "# new_results = \"2000_test2021_ema50\"\n",
    "# FEATURE_COLUMNS = [\"close\", \"volume\", \"open\", \"high\", \"low\",\"ma7\",\"ma21\",\"ma50\",\"26ema\",\"12ema\",\"MACD\",\"ema\",\"momentum\"] \n",
    "\n",
    "\n",
    "# 29%\n",
    "# new_results = \"1976_test2021_ema100\"\n",
    "# FEATURE_COLUMNS = [\"close\", \"volume\", \"open\", \"high\", \"low\",\"ma7\",\"ma21\",\"ma100\",\"ma50\",\"26ema\",\"12ema\",\"MACD\",\"ema\",\"momentum\"] \n",
    "\n",
    "# 3year 83%\n",
    "# new_results = \"1976_test2019_ema100\"\n",
    "# FEATURE_COLUMNS = [\"close\", \"volume\", \"open\", \"high\", \"low\",\"ma7\",\"ma21\",\"ma100\",\"ma50\",\"26ema\",\"12ema\",\"MACD\",\"ema\",\"momentum\"] \n",
    "\n",
    "# 3 years 83%\n",
    "# new_results = \"1976_test2019_ema100_ep1500\"\n",
    "# FEATURE_COLUMNS = [\"close\", \"volume\", \"open\", \"high\", \"low\",\"ma7\",\"ma21\",\"ma100\",\"ma50\",\"26ema\",\"12ema\",\"MACD\",\"ema\",\"momentum\"] \n",
    "\n",
    "# 3 years 74%\n",
    "# new_results = \"1976_test2019_ema100_ep1500_Lookup_Stet10\"\n",
    "# FEATURE_COLUMNS = [\"close\", \"volume\", \"open\", \"high\", \"low\",\"ma7\",\"ma21\",\"ma100\",\"ma50\",\"26ema\",\"12ema\",\"MACD\",\"ema\",\"momentum\"] \n",
    "\n",
    "# 3 years -17%\n",
    "# new_results = \"1976_test2019_ema100_ep700_Lookup_Stet5\"\n",
    "# FEATURE_COLUMNS = [\"close\", \"volume\", \"open\", \"high\", \"low\",\"ma7\",\"ma21\",\"ma100\",\"ma50\",\"26ema\",\"12ema\",\"MACD\",\"ema\",\"momentum\"] \n",
    "\n",
    "# 3years 79%\n",
    "# new_results = \"1976_test2019_ema100_ep700_Lookup_Stet25\"\n",
    "# FEATURE_COLUMNS = [\"close\", \"volume\", \"open\", \"high\", \"low\",\"ma7\",\"ma21\",\"ma100\",\"ma50\",\"26ema\",\"12ema\",\"MACD\",\"ema\",\"momentum\"] \n",
    "\n",
    "\n",
    "# 3years 56%\n",
    "# new_results = \"1976_test2019_ema100_ep700_Lookup_Stet75\"\n",
    "# FEATURE_COLUMNS = [\"close\", \"volume\", \"open\", \"high\", \"low\",\"ma7\",\"ma21\",\"ma100\",\"ma50\",\"26ema\",\"12ema\",\"MACD\",\"ema\",\"momentum\"] \n",
    "\n",
    "# 3years 85%\n",
    "# new_results = \"1976_test2019_ema100_ep700_Lookup_Stet35\"\n",
    "# FEATURE_COLUMNS = [\"close\", \"volume\", \"open\", \"high\", \"low\",\"ma7\",\"ma21\",\"ma100\",\"ma50\",\"26ema\",\"12ema\",\"MACD\",\"ema\",\"momentum\"] \n",
    "\n",
    "# 3years 85%\n",
    "# delete_folders([\"1976_test2019_ema100_ep700_Lookup_Stet35\"])\n",
    "# new_results = \"1976_test2019_ema100_ep700_Lookup_Stet35\"\n",
    "# FEATURE_COLUMNS = [\"close\", \"volume\", \"open\", \"high\", \"low\",\"ma7\",\"ma21\",\"ma100\",\"ma50\",\"26ema\",\"12ema\",\"MACD\",\"ema\",\"momentum\"] \n",
    "\n",
    "\n",
    "# 3 years 79%\n",
    "# new_results = \"1976_test2019_ema100_ep700_Lookup_Stet45\"\n",
    "# FEATURE_COLUMNS = [\"close\", \"volume\", \"open\", \"high\", \"low\",\"ma7\",\"ma21\",\"ma100\",\"ma50\",\"26ema\",\"12ema\",\"MACD\",\"ema\",\"momentum\"] \n",
    "\n",
    "\n",
    "# 16%\n",
    "# new_results = \"1976_test2021_candles\"\n",
    "# FEATURE_COLUMNS = [\"close\", \"volume\", \"open\", \"high\", \"low\"]\n",
    "\n",
    "# 28%\n",
    "# new_results = \"1976_test2021_close\"\n",
    "# FEATURE_COLUMNS = [\"close\"]\n",
    "\n",
    "# 26% - интересно\n",
    "# new_results = \"1976_test2021_ema200\"\n",
    "# FEATURE_COLUMNS = [\"close\", \"volume\", \"open\", \"high\", \"low\",\"ma7\",\"ma21\",\"ma100\",\"ma200\",\"ma50\",\"26ema\",\"12ema\",\"MACD\",\"ema\",\"momentum\"] \n",
    "\n",
    "\n",
    "if collab:\n",
    "    # Для работы с google диском\n",
    "    from google.colab import drive\n",
    "    drive.mount('/content/gdrive')\n",
    "    import sys\n",
    "    sys.path.append('/content/gdrive/MyDrive/Python/Market/')\n",
    "    data_path = '/content/gdrive/MyDrive/Python/Market/Data/stock_predictions/'\n",
    "\n",
    "    data_path = data_path + new_results\n",
    "\n",
    "    create_folders([data_path, data_path + \"/results\", data_path + \"/logs\", data_path + \"/data\" ,data_path + \"/test-results\"])"
   ]
  },
  {
   "cell_type": "code",
   "execution_count": 7,
   "metadata": {
    "colab": {
     "base_uri": "https://localhost:8080/"
    },
    "executionInfo": {
     "elapsed": 25,
     "status": "ok",
     "timestamp": 1638181329594,
     "user": {
      "displayName": "Сергей Мазеин",
      "photoUrl": "https://lh3.googleusercontent.com/a/default-user=s64",
      "userId": "18218808834952086757"
     },
     "user_tz": -180
    },
    "id": "ImGDBs6yp4j9",
    "outputId": "0f9b9936-2713-47c2-982d-00e6c5d8a2de",
    "pycharm": {
     "name": "#%%\n"
    }
   },
   "outputs": [
    {
     "name": "stdout",
     "output_type": "stream",
     "text": [
      "Using device: cuda\n",
      "\n",
      "NVIDIA GeForce GT 730\n",
      "Memory Usage:\n",
      "Allocated: 0.0 GB\n",
      "Cached:    0.0 GB\n",
      "\n",
      "GPU работает\n",
      "[PhysicalDevice(name='/physical_device:GPU:0', device_type='GPU')]\n"
     ]
    },
    {
     "name": "stderr",
     "output_type": "stream",
     "text": [
      "c:\\users\\sem\\pycharmprojects\\python.neural.market\\venv\\lib\\site-packages\\torch\\cuda\\__init__.py:120: UserWarning: \n",
      "    Found GPU%d %s which is of cuda capability %d.%d.\n",
      "    PyTorch no longer supports this GPU because it is too old.\n",
      "    The minimum cuda capability supported by this library is %d.%d.\n",
      "    \n",
      "  warnings.warn(old_gpu_warn.format(d, name, major, minor, min_arch // 10, min_arch % 10))\n"
     ]
    }
   ],
   "source": [
    "if not collab:\n",
    "    '''\n",
    "    gpu_info = !nvidia-smi\n",
    "    gpu_info = '\\n'.join(gpu_info)\n",
    "    if gpu_info.find('failed') >= 0:\n",
    "      print('Select the Runtime → \"Change runtime type\" menu to enable a GPU accelerator, ')\n",
    "      print('and then re-execute this cell.')\n",
    "    else:\n",
    "      print(gpu_info)\n",
    "    '''\n",
    "    \n",
    "    # Активируем GPU\n",
    "    import torch\n",
    "\n",
    "    # setting device on GPU if available, else CPU\n",
    "    device = torch.device('cuda' if torch.cuda.is_available() else 'cpu')\n",
    "    print('Using device:', device)\n",
    "    print()\n",
    "\n",
    "    #Additional Info when using cuda\n",
    "    if device.type == 'cuda':\n",
    "        print(torch.cuda.get_device_name(0))\n",
    "        print('Memory Usage:')\n",
    "        print('Allocated:', round(torch.cuda.memory_allocated(0)/1024**3,1), 'GB')\n",
    "        print('Cached:   ', round(torch.cuda.memory_reserved(0)/1024**3,1), 'GB')\n",
    "\n",
    "    if tf.config.list_physical_devices('GPU'):\n",
    "        print()\n",
    "        print(\"GPU работает\")\n",
    "        print(tf.config.list_physical_devices('GPU'))\n",
    "    else:\n",
    "        print()\n",
    "        print(\"GPU не работает\")\n",
    "        sys.exit()"
   ]
  },
  {
   "cell_type": "code",
   "execution_count": 8,
   "metadata": {
    "executionInfo": {
     "elapsed": 10,
     "status": "ok",
     "timestamp": 1638181330081,
     "user": {
      "displayName": "Сергей Мазеин",
      "photoUrl": "https://lh3.googleusercontent.com/a/default-user=s64",
      "userId": "18218808834952086757"
     },
     "user_tz": -180
    },
    "id": "rBhT_-W6p4kE",
    "pycharm": {
     "name": "#%%\n"
    }
   },
   "outputs": [],
   "source": [
    "fred = Fred(api_key='39fa3bd07f8f55540a93e075a5f97cc1')"
   ]
  },
  {
   "cell_type": "code",
   "execution_count": 8,
   "metadata": {
    "executionInfo": {
     "elapsed": 11,
     "status": "ok",
     "timestamp": 1638181330082,
     "user": {
      "displayName": "Сергей Мазеин",
      "photoUrl": "https://lh3.googleusercontent.com/a/default-user=s64",
      "userId": "18218808834952086757"
     },
     "user_tz": -180
    },
    "id": "SkbXMnfUp4kE",
    "pycharm": {
     "name": "#%%\n"
    }
   },
   "outputs": [],
   "source": []
  },
  {
   "cell_type": "code",
   "execution_count": 9,
   "metadata": {
    "executionInfo": {
     "elapsed": 10,
     "status": "ok",
     "timestamp": 1638181330082,
     "user": {
      "displayName": "Сергей Мазеин",
      "photoUrl": "https://lh3.googleusercontent.com/a/default-user=s64",
      "userId": "18218808834952086757"
     },
     "user_tz": -180
    },
    "id": "fvEoObgNp4kF"
   },
   "outputs": [],
   "source": [
    "# set seed, so we can get the same results after rerunning several times\n",
    "np.random.seed(314)\n",
    "tf.random.set_seed(314)\n",
    "random.seed(314)"
   ]
  },
  {
   "cell_type": "code",
   "execution_count": 10,
   "metadata": {
    "executionInfo": {
     "elapsed": 11,
     "status": "ok",
     "timestamp": 1638181330083,
     "user": {
      "displayName": "Сергей Мазеин",
      "photoUrl": "https://lh3.googleusercontent.com/a/default-user=s64",
      "userId": "18218808834952086757"
     },
     "user_tz": -180
    },
    "id": "ZPSM5YrAp4kG"
   },
   "outputs": [],
   "source": [
    "import os\n",
    "import time\n",
    "from tensorflow.keras.layers import LSTM\n",
    "\n",
    "# def load_params():\n",
    "# Window size or the sequence length\n",
    "N_STEPS = 50\n",
    "# Lookup step, 1 is the next day\n",
    "LOOKUP_STEP = 15\n",
    "\n",
    "# whether to scale feature columns & output price as well\n",
    "SCALE = True\n",
    "scale_str = f\"sc-{int(SCALE)}\"\n",
    "# whether to shuffle the dataset\n",
    "SHUFFLE = True\n",
    "shuffle_str = f\"sh-{int(SHUFFLE)}\"\n",
    "# whether to split the training/testing set by date\n",
    "SPLIT_BY_DATE = True\n",
    "split_by_date_str = f\"sbd-{int(SPLIT_BY_DATE)}\"\n",
    "# test ratio size, 0.2 is 20%\n",
    "TEST_SIZE = 0.2\n",
    "# features to use\n",
    "# FEATURE_COLUMNS = [\"close\", \"volume\", \"open\", \"high\", \"low\",\"ema100\"] + series_ids \n",
    "\n",
    "# date now\n",
    "date_now = time.strftime(\"%Y-%m-%d\")\n",
    "\n",
    "### model parameters\n",
    "\n",
    "N_LAYERS = 2\n",
    "# LSTM cell\n",
    "CELL = LSTM\n",
    "# 256 LSTM neurons\n",
    "UNITS = 256\n",
    "# 40% dropout\n",
    "DROPOUT = 0.4\n",
    "# whether to use bidirectional RNNs\n",
    "BIDIRECTIONAL = False\n",
    "\n",
    "### training parameters\n",
    "\n",
    "# mean absolute error loss\n",
    "# LOSS = \"mae\"\n",
    "# huber loss\n",
    "LOSS = \"huber_loss\"\n",
    "OPTIMIZER = \"adam\"\n",
    "# OPTIMIZER = \"RMSProp\"\n",
    "BATCH_SIZE = 64\n",
    "EPOCHS = 100\n",
    "\n",
    "# Amazon stock market\n",
    "ticker = \"IBM\"\n",
    "ticker_data_filename = os.path.join(new_results + \"/data\", f\"{ticker}_{date_now}\")\n",
    "# model name to save, making it as unique as possible based on parameters\n",
    "model_name = f\"{date_now}_{ticker}-{shuffle_str}-{scale_str}-{split_by_date_str}-\\\n",
    "{LOSS}-{OPTIMIZER}-{CELL.__name__}-seq-{N_STEPS}-step-{LOOKUP_STEP}-layers-{N_LAYERS}-units-{UNITS}\"\n",
    "if BIDIRECTIONAL:\n",
    "    model_name += \"-b\"\n",
    "        \n",
    "# load_param()"
   ]
  },
  {
   "cell_type": "code",
   "execution_count": 11,
   "metadata": {
    "executionInfo": {
     "elapsed": 11,
     "status": "ok",
     "timestamp": 1638181330083,
     "user": {
      "displayName": "Сергей Мазеин",
      "photoUrl": "https://lh3.googleusercontent.com/a/default-user=s64",
      "userId": "18218808834952086757"
     },
     "user_tz": -180
    },
    "id": "EnnrUj4yp4kG"
   },
   "outputs": [],
   "source": [
    "def get_technical_indicators(dataset):\n",
    "    # Create 7 and 21 days Moving Average\n",
    "    dataset['ma7'] = dataset['close'].rolling(window=7).mean()\n",
    "    dataset['ma21'] = dataset['close'].rolling(window=21).mean()\n",
    "    \n",
    "    dataset['ma100'] = dataset['close'].rolling(window=100).mean()\n",
    "    dataset['ma200'] = dataset['close'].rolling(window=200).mean()\n",
    "    dataset['ma50'] = dataset['close'].rolling(window=50).mean()\n",
    "\n",
    "    # Create MACD\n",
    "    dataset['26ema'] = pd.Series.ewm(dataset['close'], span=26).mean()\n",
    "    dataset['12ema'] = pd.Series.ewm(dataset['close'], span=12).mean()\n",
    "    dataset['MACD'] = (dataset['12ema']-dataset['26ema'])\n",
    "\n",
    "    # Create Bollinger Bands\n",
    "    # dataset['20sd'] = pd.stats.moments.rolling_std(dataset['GS'],20)\n",
    "    # dataset['upper_band'] = dataset['ma21'] + (dataset['20sd']*2)\n",
    "    # dataset['lower_band'] = dataset['ma21'] - (dataset['20sd']*2)\n",
    "\n",
    "    # Create Exponential moving average\n",
    "    dataset['ema'] = dataset['close'].ewm(com=0.5).mean()\n",
    "\n",
    "    # Create Momentum\n",
    "    dataset['momentum'] = dataset['close']-1\n",
    "\n",
    "    dataset['body'] = dataset['close'] - dataset['open']\n",
    "    dataset['body_abs'] = abs(dataset['close'] - dataset['open'])\n",
    "\n",
    "    dataset.replace('', np.nan, inplace=True)\n",
    "    dataset = dataset.dropna()\n",
    "\n",
    "    return dataset"
   ]
  },
  {
   "cell_type": "code",
   "execution_count": 12,
   "metadata": {},
   "outputs": [],
   "source": [
    "def get_new_ticker(ticker_):\n",
    "#     new_ticker = pd.DataFrame()\n",
    "#     if not new_ticker.empty:\n",
    "#         new_ticker = new_ticker.iloc[0:0]\n",
    "    new_ticker = si.get_data(ticker_)\n",
    "    new_ticker.rename(columns={'close':ticker_}, inplace=True)\n",
    "    new_ticker.drop(['open', 'high','low','volume','ticker','adjclose'], axis='columns', inplace=True)\n",
    "#     dataset = pd.concat([new_ticker , dataset], axis=1)\n",
    "    \n",
    "#     dataset.replace('', np.nan, inplace=True)\n",
    "#     dataset = dataset.dropna()\n",
    "    \n",
    "    return new_ticker\n",
    "\n",
    "def ratio_tickers(tickers_list):\n",
    "    df_ticker = pd.DataFrame()\n",
    "    for tickers in tickers_list:\n",
    "        ticker = tickers.split(':')\n",
    "        \n",
    "        if not df_ticker.empty:\n",
    "            df_ticker = pd.concat([df_ticker, get_new_ticker(ticker[0])  , get_new_ticker(ticker[1]) ], axis=1)\n",
    "        else:\n",
    "            df_ticker = pd.concat([get_new_ticker(ticker[0])  , get_new_ticker(ticker[1]) ], axis=1)\n",
    "\n",
    "        df_ticker[tickers] = df_ticker[ticker[0]] / df_ticker[ticker[1]]   \n",
    "\n",
    "        df_ticker.drop([ticker[0], ticker[1]], axis='columns', inplace=True)\n",
    "#         if not sum_fickers.empty:\n",
    "#             sum_tickers = pd.concat([sum_tickers,df_ticker], axis=1)\n",
    "#         else:\n",
    "#         sum_tickers = df_ticker.copy(deep=True)\n",
    "#     df_ticker.to_excel(\"tickers.xlsx\")\n",
    "    \n",
    "#     print(df_ticker)\n",
    "    return df_ticker\n",
    "\n",
    "#     ratio_tickers(['KBE:^GSPC','XLF:^GSPC','IYT:XLU','XLU:XLP','DBC:TLT','IGE:XLP','GDL:TLT','GDX:^GSPC',\n",
    "# #                'QQQ:IVM'\n",
    "#               ])\n",
    "    \n",
    "\n",
    "\n",
    "# KBE:SPX XLF:SPX IYT:XLU XLU:XLP DBC:TLT IGE:XLP GDL:TLT GDX:GLD GDX:SPY QQQ:IVM\n",
    "    "
   ]
  },
  {
   "cell_type": "code",
   "execution_count": 13,
   "metadata": {},
   "outputs": [],
   "source": [
    "\n",
    "\n",
    "# df = si.get_data(ticker,start_date = '2000-01-01')\n",
    "# new_ticker = si.get_data(ticker)\n",
    "# new_ticker.rename(columns={'close':'close_'+ ticker}, inplace=True)\n",
    "# new_ticker.drop(['open', 'high','low','volume','ticker','adjclose'], axis='columns', inplace=True)\n",
    "# dataset = pd.concat([new_ticker , df], axis=1)\n",
    "# dataset.replace('', np.nan, inplace=True)\n",
    "# dataset = new_ticker.dropna()\n",
    "# for nT in new_ticker:\n",
    "#     df = get_new_ticker(df,nT)\n",
    "# dataset\n",
    "# df = get_technical_indicators(df)\n",
    "# print('KBE/^SPX'.split('/'))\n"
   ]
  },
  {
   "cell_type": "code",
   "execution_count": 14,
   "metadata": {},
   "outputs": [],
   "source": [
    "# dataset_4 = pd.DataFrame()\n",
    "# dt = get_new_ticker(dataset_4, 'KBE/^SPX')\n",
    "# dt"
   ]
  },
  {
   "cell_type": "code",
   "execution_count": 15,
   "metadata": {},
   "outputs": [],
   "source": [
    "# df"
   ]
  },
  {
   "cell_type": "code",
   "execution_count": 16,
   "metadata": {
    "executionInfo": {
     "elapsed": 11,
     "status": "ok",
     "timestamp": 1638181330084,
     "user": {
      "displayName": "Сергей Мазеин",
      "photoUrl": "https://lh3.googleusercontent.com/a/default-user=s64",
      "userId": "18218808834952086757"
     },
     "user_tz": -180
    },
    "id": "LAEXFedTp4kH",
    "pycharm": {
     "name": "#%%\n"
    }
   },
   "outputs": [],
   "source": [
    "def shuffle_in_unison(a, b):\n",
    "    # shuffle two arrays in the same way\n",
    "    state = np.random.get_state()\n",
    "    np.random.shuffle(a)\n",
    "    np.random.set_state(state)\n",
    "    np.random.shuffle(b)\n",
    "\n",
    "\n",
    "def load_data(ticker, n_steps=50, scale=True, shuffle=True, lookup_step=1, split_by_date=True,\n",
    "                test_size=0.2, feature_columns=['close', 'volume', 'open', 'high', 'low']):\n",
    "    \"\"\"\n",
    "    Loads data from Yahoo Finance source, as well as scaling, shuffling, normalizing and splitting.\n",
    "    Params:\n",
    "        ticker (str/pd.DataFrame): the ticker you want to load, examples include AAPL, TESL, etc.\n",
    "        n_steps (int): the historical sequence length (i.e window size) used to predict, default is 50\n",
    "        scale (bool): whether to scale prices from 0 to 1, default is True\n",
    "        shuffle (bool): whether to shuffle the dataset (both training & testing), default is True\n",
    "        lookup_step (int): the future lookup step to predict, default is 1 (e.g next day)\n",
    "        split_by_date (bool): whether we split the dataset into training/testing by date, setting it \n",
    "            to False will split datasets in a random way\n",
    "        test_size (float): ratio for test data, default is 0.2 (20% testing data)\n",
    "        feature_columns (list): the list of features to use to feed into the model, default is everything grabbed from yahoo_fin\n",
    "    \"\"\"\n",
    "    df = pd.DataFrame()\n",
    "    if not df.empty:\n",
    "        df = df.iloc[0:0]\n",
    "    # see if ticker is already a loaded stock from yahoo finance\n",
    "    if isinstance(ticker, str):\n",
    "        # load it from yahoo_fin library\n",
    "#         df = si.get_data(ticker)\n",
    "        df = si.get_data(ticker,start_date = '2000-01-01')\n",
    "#         df = si.get_data(ticker,start_date = '2000-01-01', end_date = None, index_as_date = True, interval= \"1mo\")\n",
    "#         df = si.get_data(ticker,start_date = '2000-01-01')\n",
    "        # get_data(ticker, start_date = None, end_date = None, index_as_date = True, interval = “1d”)\n",
    "    elif isinstance(ticker, pd.DataFrame):\n",
    "        # already loaded, use it directly\n",
    "        df = ticker\n",
    "    else:\n",
    "        raise TypeError(\"ticker can be either a str or a `pd.DataFrame` instances\")\n",
    "    \n",
    "#     for nT in new_ticker:\n",
    "#         df = get_new_ticker(df,nT)\n",
    "#     df_ratio = ratio_tickers(['KBE:^GSPC','XLF:^GSPC','IYT:XLU','XLU:XLP','DBC:TLT','IGE:XLP','GDL:TLT','GDX:^GSPC',\n",
    "# #                'QQQ:IVM'\n",
    "#               ])\n",
    "    \n",
    "#     df = pd.concat([ df_ratio  , df ], axis=1)\n",
    "    \n",
    "    df = get_technical_indicators(df)\n",
    "    \n",
    "#     df_fred = get_fred()\n",
    "#     df = pd.concat([df_fred , df], axis=1)\n",
    "\n",
    "    df.replace('', np.nan, inplace=True)\n",
    "    df = df.dropna()\n",
    "\n",
    "    # print(df.tail)\n",
    "    # this will contain all the elements we want to return from this function\n",
    "    result = {}\n",
    "    # we will also return the original dataframe itself\n",
    "    result['df'] = df.copy()\n",
    "\n",
    "    # make sure that the passed feature_columns exist in the dataframe\n",
    "    for col in feature_columns:\n",
    "        assert col in df.columns, f\"'{col}' does not exist in the dataframe.\"\n",
    "\n",
    "    # add date as a column\n",
    "    if \"date\" not in df.columns:\n",
    "        df[\"date\"] = df.index\n",
    "\n",
    "    if scale:\n",
    "        column_scaler = {}\n",
    "        # scale the data (prices) from 0 to 1\n",
    "        for column in feature_columns:\n",
    "            scaler = preprocessing.MinMaxScaler()\n",
    "            df[column] = scaler.fit_transform(np.expand_dims(df[column].values, axis=1))\n",
    "            column_scaler[column] = scaler\n",
    "\n",
    "        # add the MinMaxScaler instances to the result returned\n",
    "        result[\"column_scaler\"] = column_scaler\n",
    "\n",
    "    # add the target column (label) by shifting by `lookup_step`\n",
    "    df['future'] = df['close'].shift(-lookup_step)\n",
    "\n",
    "    # last `lookup_step` columns contains NaN in future column\n",
    "    # get them before droping NaNs\n",
    "    last_sequence = np.array(df[feature_columns].tail(lookup_step))\n",
    "    \n",
    "    # drop NaNs\n",
    "    df.dropna(inplace=True)\n",
    "\n",
    "    sequence_data = []\n",
    "    sequences = deque(maxlen=n_steps)\n",
    "\n",
    "    for entry, target in zip(df[feature_columns + [\"date\"]].values, df['future'].values):\n",
    "        sequences.append(entry)\n",
    "        if len(sequences) == n_steps:\n",
    "            sequence_data.append([np.array(sequences), target])\n",
    "\n",
    "    # get the last sequence by appending the last `n_step` sequence with `lookup_step` sequence\n",
    "    # for instance, if n_steps=50 and lookup_step=10, last_sequence should be of 60 (that is 50+10) length\n",
    "    # this last_sequence will be used to predict future stock prices that are not available in the dataset\n",
    "    last_sequence = list([s[:len(feature_columns)] for s in sequences]) + list(last_sequence)\n",
    "    last_sequence = np.array(last_sequence).astype(np.float32)\n",
    "    # add to result\n",
    "    result['last_sequence'] = last_sequence\n",
    "    \n",
    "    # construct the X's and y's\n",
    "    X, y = [], []\n",
    "    for seq, target in sequence_data:\n",
    "        X.append(seq)\n",
    "        y.append(target)\n",
    "\n",
    "    # convert to numpy arrays\n",
    "    X = np.array(X)\n",
    "    y = np.array(y)\n",
    "\n",
    "    if split_by_date:\n",
    "        # split the dataset into training & testing sets by date (not randomly splitting)\n",
    "        # train_samples = int((1 - test_size) * len(X))\n",
    "        train_samples = len(X) - len(result['df'].loc['2021-01-01':])\n",
    "        result[\"X_train\"] = X[:train_samples]\n",
    "        result[\"y_train\"] = y[:train_samples]\n",
    "        result[\"X_test\"]  = X[train_samples:]\n",
    "        result[\"y_test\"]  = y[train_samples:]\n",
    "        if shuffle:\n",
    "            # shuffle the datasets for training (if shuffle parameter is set)\n",
    "            shuffle_in_unison(result[\"X_train\"], result[\"y_train\"])\n",
    "            shuffle_in_unison(result[\"X_test\"], result[\"y_test\"])\n",
    "    else:    \n",
    "        # split the dataset randomly\n",
    "        result[\"X_train\"], result[\"X_test\"], result[\"y_train\"], result[\"y_test\"] = train_test_split(X, y, \n",
    "                                                                                test_size=test_size, shuffle=shuffle)\n",
    "\n",
    "    # get the list of test set dates\n",
    "    dates = result[\"X_test\"][:, -1, -1]\n",
    "    # retrieve test features from the original dataframe\n",
    "    result[\"test_df\"] = result[\"df\"].loc[dates]\n",
    "    # remove duplicated dates in the testing dataframe\n",
    "    result[\"test_df\"] = result[\"test_df\"][~result[\"test_df\"].index.duplicated(keep='first')]\n",
    "    # remove dates from the training/testing sets & convert to float32\n",
    "    result[\"X_train\"] = result[\"X_train\"][:, :, :len(feature_columns)].astype(np.float32)\n",
    "    result[\"X_test\"] = result[\"X_test\"][:, :, :len(feature_columns)].astype(np.float32)\n",
    "\n",
    "    return result"
   ]
  },
  {
   "cell_type": "code",
   "execution_count": 17,
   "metadata": {
    "executionInfo": {
     "elapsed": 11,
     "status": "ok",
     "timestamp": 1638181330084,
     "user": {
      "displayName": "Сергей Мазеин",
      "photoUrl": "https://lh3.googleusercontent.com/a/default-user=s64",
      "userId": "18218808834952086757"
     },
     "user_tz": -180
    },
    "id": "QtLaz_wsp4kI",
    "pycharm": {
     "name": "#%%\n"
    }
   },
   "outputs": [],
   "source": [
    "def get_fred():\n",
    "    data_ = {}\n",
    "    for series_id in series_ids:\n",
    "        data_[series_id] = fred.get_series(series_id, observation_start='1/1/2000')\n",
    "    dataset_ = pd.concat(data_, axis=1)\n",
    "\n",
    "    # заполняем\n",
    "    dataset_.replace('', np.nan, inplace=True)\n",
    "\n",
    "    # заполняем пропуски в данных средним значением за последние 10 периодов\n",
    "    dataset_=dataset_.fillna(dataset_[-10:].mean())\n",
    "    return dataset_"
   ]
  },
  {
   "cell_type": "code",
   "execution_count": 18,
   "metadata": {
    "executionInfo": {
     "elapsed": 5,
     "status": "ok",
     "timestamp": 1638181330327,
     "user": {
      "displayName": "Сергей Мазеин",
      "photoUrl": "https://lh3.googleusercontent.com/a/default-user=s64",
      "userId": "18218808834952086757"
     },
     "user_tz": -180
    },
    "id": "pXBjQ_oKp4kL",
    "pycharm": {
     "name": "#%%\n"
    }
   },
   "outputs": [],
   "source": [
    "def create_model(sequence_length, n_features, units=256, cell=LSTM, n_layers=2, dropout=0.3,\n",
    "                loss=\"mean_absolute_error\", optimizer=\"rmsprop\", bidirectional=False):\n",
    "    model = Sequential()\n",
    "    for i in range(n_layers):\n",
    "        if i == 0:\n",
    "            # first layer\n",
    "            if bidirectional:\n",
    "                model.add(Bidirectional(cell(units, return_sequences=True), batch_input_shape=(None, sequence_length, n_features)))\n",
    "            else:\n",
    "                model.add(cell(units, return_sequences=True, batch_input_shape=(None, sequence_length, n_features)))\n",
    "        elif i == n_layers - 1:\n",
    "            # last layer\n",
    "            if bidirectional:\n",
    "                model.add(Bidirectional(cell(units, return_sequences=False)))\n",
    "            else:\n",
    "                model.add(cell(units, return_sequences=False))\n",
    "        else:\n",
    "            # hidden layers\n",
    "            if bidirectional:\n",
    "                model.add(Bidirectional(cell(units, return_sequences=True)))\n",
    "            else:\n",
    "                model.add(cell(units, return_sequences=True))\n",
    "        # add dropout after each layer\n",
    "        model.add(Dropout(dropout))\n",
    "    model.add(Dense(1, activation=\"linear\"))\n",
    "    model.compile(loss=loss, metrics=[\"mean_absolute_error\"], optimizer=optimizer)\n",
    "    return model"
   ]
  },
  {
   "cell_type": "code",
   "execution_count": 19,
   "metadata": {
    "executionInfo": {
     "elapsed": 4983,
     "status": "ok",
     "timestamp": 1638181335305,
     "user": {
      "displayName": "Сергей Мазеин",
      "photoUrl": "https://lh3.googleusercontent.com/a/default-user=s64",
      "userId": "18218808834952086757"
     },
     "user_tz": -180
    },
    "id": "bvWXUYX9p4kL",
    "tags": [
     "outputPrepend"
    ]
   },
   "outputs": [],
   "source": [
    "# def compile_model():\n",
    "# create these folders if they does not exist\n",
    "create_folders([new_results, new_results + \"/results\", new_results + \"/logs\", new_results + \"/data\", new_results + \"/test-results\"])\n",
    "\n",
    "# load the data\n",
    "data = pd.DataFrame()\n",
    "if not data.empty:\n",
    "    data = data.iloc[0:0]\n",
    "data = load_data(ticker, N_STEPS, scale=SCALE, split_by_date=SPLIT_BY_DATE, \n",
    "                shuffle=SHUFFLE, lookup_step=LOOKUP_STEP, test_size=TEST_SIZE, \n",
    "                feature_columns=FEATURE_COLUMNS)\n",
    "\n",
    "# save the dataframe\n",
    "data[\"df\"].to_csv(ticker_data_filename + \".csv\")\n",
    "# data[\"df\"].to_excel(\"view.xlsx\")\n",
    "data[\"df\"].to_excel(ticker_data_filename + \".xlsx\")\n",
    "\n",
    "# construct the model\n",
    "model = create_model(N_STEPS, len(FEATURE_COLUMNS), loss=LOSS, units=UNITS, cell=CELL, n_layers=N_LAYERS,\n",
    "                    dropout=DROPOUT, optimizer=OPTIMIZER, bidirectional=BIDIRECTIONAL)\n"
   ]
  },
  {
   "cell_type": "code",
   "execution_count": 20,
   "metadata": {},
   "outputs": [],
   "source": [
    "# data\n"
   ]
  },
  {
   "cell_type": "code",
   "execution_count": 21,
   "metadata": {
    "executionInfo": {
     "elapsed": 2670,
     "status": "ok",
     "timestamp": 1638181337962,
     "user": {
      "displayName": "Сергей Мазеин",
      "photoUrl": "https://lh3.googleusercontent.com/a/default-user=s64",
      "userId": "18218808834952086757"
     },
     "user_tz": -180
    },
    "id": "QWsK_pe6p4kM",
    "pycharm": {
     "name": "#%%\n"
    }
   },
   "outputs": [],
   "source": [
    "# data[\"df\"].to_excel(\"view_start.xlsx\")"
   ]
  },
  {
   "cell_type": "code",
   "execution_count": 22,
   "metadata": {
    "colab": {
     "base_uri": "https://localhost:8080/"
    },
    "executionInfo": {
     "elapsed": 2005743,
     "status": "ok",
     "timestamp": 1638183343691,
     "user": {
      "displayName": "Сергей Мазеин",
      "photoUrl": "https://lh3.googleusercontent.com/a/default-user=s64",
      "userId": "18218808834952086757"
     },
     "user_tz": -180
    },
    "id": "9Bsl1LKup4kM",
    "outputId": "af9586eb-5c94-4629-e9b7-c3095e59d31e"
   },
   "outputs": [
    {
     "name": "stdout",
     "output_type": "stream",
     "text": [
      "Создаем новую модельIBM_2000_test2021_close\n",
      "Epoch 1/100\n",
      "79/79 [==============================] - ETA: 0s - loss: 0.0052 - mean_absolute_error: 0.0662\n",
      "Epoch 00001: val_loss improved from inf to 0.00094, saving model to IBM_2000_test2021_close/results\\2021-12-08_IBM-sh-1-sc-1-sbd-1-huber_loss-adam-LSTM-seq-50-step-15-layers-2-units-256.h5\n",
      "79/79 [==============================] - 23s 189ms/step - loss: 0.0052 - mean_absolute_error: 0.0662 - val_loss: 9.3751e-04 - val_mean_absolute_error: 0.0354\n",
      "Epoch 2/100\n",
      "79/79 [==============================] - ETA: 0s - loss: 0.0019 - mean_absolute_error: 0.0467\n",
      "Epoch 00002: val_loss did not improve from 0.00094\n",
      "79/79 [==============================] - 13s 170ms/step - loss: 0.0019 - mean_absolute_error: 0.0467 - val_loss: 9.9385e-04 - val_mean_absolute_error: 0.0361\n",
      "Epoch 3/100\n",
      "79/79 [==============================] - ETA: 0s - loss: 0.0020 - mean_absolute_error: 0.0472\n",
      "Epoch 00003: val_loss did not improve from 0.00094\n",
      "79/79 [==============================] - 14s 171ms/step - loss: 0.0020 - mean_absolute_error: 0.0472 - val_loss: 9.4279e-04 - val_mean_absolute_error: 0.0358\n",
      "Epoch 4/100\n",
      "79/79 [==============================] - ETA: 0s - loss: 0.0019 - mean_absolute_error: 0.0456\n",
      "Epoch 00004: val_loss did not improve from 0.00094\n",
      "79/79 [==============================] - 14s 181ms/step - loss: 0.0019 - mean_absolute_error: 0.0456 - val_loss: 9.6824e-04 - val_mean_absolute_error: 0.0361\n",
      "Epoch 5/100\n",
      "79/79 [==============================] - ETA: 0s - loss: 0.0019 - mean_absolute_error: 0.0458\n",
      "Epoch 00005: val_loss did not improve from 0.00094\n",
      "79/79 [==============================] - 14s 172ms/step - loss: 0.0019 - mean_absolute_error: 0.0458 - val_loss: 0.0015 - val_mean_absolute_error: 0.0438\n",
      "Epoch 6/100\n",
      "79/79 [==============================] - ETA: 0s - loss: 0.0019 - mean_absolute_error: 0.0464\n",
      "Epoch 00006: val_loss improved from 0.00094 to 0.00091, saving model to IBM_2000_test2021_close/results\\2021-12-08_IBM-sh-1-sc-1-sbd-1-huber_loss-adam-LSTM-seq-50-step-15-layers-2-units-256.h5\n",
      "79/79 [==============================] - 14s 181ms/step - loss: 0.0019 - mean_absolute_error: 0.0464 - val_loss: 9.0684e-04 - val_mean_absolute_error: 0.0347\n",
      "Epoch 7/100\n",
      "79/79 [==============================] - ETA: 0s - loss: 0.0017 - mean_absolute_error: 0.0440\n",
      "Epoch 00007: val_loss did not improve from 0.00091\n",
      "79/79 [==============================] - 14s 174ms/step - loss: 0.0017 - mean_absolute_error: 0.0440 - val_loss: 9.1218e-04 - val_mean_absolute_error: 0.0347\n",
      "Epoch 8/100\n",
      "79/79 [==============================] - ETA: 0s - loss: 0.0018 - mean_absolute_error: 0.0446\n",
      "Epoch 00008: val_loss improved from 0.00091 to 0.00090, saving model to IBM_2000_test2021_close/results\\2021-12-08_IBM-sh-1-sc-1-sbd-1-huber_loss-adam-LSTM-seq-50-step-15-layers-2-units-256.h5\n",
      "79/79 [==============================] - 14s 179ms/step - loss: 0.0018 - mean_absolute_error: 0.0446 - val_loss: 8.9819e-04 - val_mean_absolute_error: 0.0346\n",
      "Epoch 9/100\n",
      "79/79 [==============================] - ETA: 0s - loss: 0.0017 - mean_absolute_error: 0.0432\n",
      "Epoch 00009: val_loss did not improve from 0.00090\n",
      "79/79 [==============================] - 14s 177ms/step - loss: 0.0017 - mean_absolute_error: 0.0432 - val_loss: 0.0011 - val_mean_absolute_error: 0.0374\n",
      "Epoch 10/100\n",
      "79/79 [==============================] - ETA: 0s - loss: 0.0017 - mean_absolute_error: 0.0435\n",
      "Epoch 00010: val_loss did not improve from 0.00090\n",
      "79/79 [==============================] - 14s 173ms/step - loss: 0.0017 - mean_absolute_error: 0.0435 - val_loss: 0.0014 - val_mean_absolute_error: 0.0415\n",
      "Epoch 11/100\n",
      "79/79 [==============================] - ETA: 0s - loss: 0.0017 - mean_absolute_error: 0.0434\n",
      "Epoch 00011: val_loss did not improve from 0.00090\n",
      "79/79 [==============================] - 15s 185ms/step - loss: 0.0017 - mean_absolute_error: 0.0434 - val_loss: 9.6007e-04 - val_mean_absolute_error: 0.0357\n",
      "Epoch 12/100\n",
      "79/79 [==============================] - ETA: 0s - loss: 0.0017 - mean_absolute_error: 0.0433\n",
      "Epoch 00012: val_loss did not improve from 0.00090\n",
      "79/79 [==============================] - 14s 177ms/step - loss: 0.0017 - mean_absolute_error: 0.0433 - val_loss: 0.0011 - val_mean_absolute_error: 0.0385\n",
      "Epoch 13/100\n",
      "79/79 [==============================] - ETA: 0s - loss: 0.0017 - mean_absolute_error: 0.0433\n",
      "Epoch 00013: val_loss did not improve from 0.00090\n",
      "79/79 [==============================] - 14s 173ms/step - loss: 0.0017 - mean_absolute_error: 0.0433 - val_loss: 9.0267e-04 - val_mean_absolute_error: 0.0342\n",
      "Epoch 14/100\n",
      "79/79 [==============================] - ETA: 0s - loss: 0.0016 - mean_absolute_error: 0.0417\n",
      "Epoch 00014: val_loss did not improve from 0.00090\n",
      "79/79 [==============================] - 14s 177ms/step - loss: 0.0016 - mean_absolute_error: 0.0417 - val_loss: 0.0010 - val_mean_absolute_error: 0.0360\n",
      "Epoch 15/100\n",
      "79/79 [==============================] - ETA: 0s - loss: 0.0017 - mean_absolute_error: 0.0435\n",
      "Epoch 00015: val_loss did not improve from 0.00090\n",
      "79/79 [==============================] - 13s 167ms/step - loss: 0.0017 - mean_absolute_error: 0.0435 - val_loss: 9.7275e-04 - val_mean_absolute_error: 0.0351\n",
      "Epoch 16/100\n",
      "79/79 [==============================] - ETA: 0s - loss: 0.0015 - mean_absolute_error: 0.0412\n",
      "Epoch 00016: val_loss did not improve from 0.00090\n",
      "79/79 [==============================] - 15s 189ms/step - loss: 0.0015 - mean_absolute_error: 0.0412 - val_loss: 0.0010 - val_mean_absolute_error: 0.0364\n",
      "Epoch 17/100\n",
      "79/79 [==============================] - ETA: 0s - loss: 0.0015 - mean_absolute_error: 0.0408\n",
      "Epoch 00017: val_loss improved from 0.00090 to 0.00088, saving model to IBM_2000_test2021_close/results\\2021-12-08_IBM-sh-1-sc-1-sbd-1-huber_loss-adam-LSTM-seq-50-step-15-layers-2-units-256.h5\n",
      "79/79 [==============================] - 14s 179ms/step - loss: 0.0015 - mean_absolute_error: 0.0408 - val_loss: 8.7705e-04 - val_mean_absolute_error: 0.0337\n",
      "Epoch 18/100\n",
      "79/79 [==============================] - ETA: 0s - loss: 0.0016 - mean_absolute_error: 0.0411\n",
      "Epoch 00018: val_loss did not improve from 0.00088\n",
      "79/79 [==============================] - 14s 173ms/step - loss: 0.0016 - mean_absolute_error: 0.0411 - val_loss: 9.0293e-04 - val_mean_absolute_error: 0.0343\n",
      "Epoch 19/100\n",
      "79/79 [==============================] - ETA: 0s - loss: 0.0016 - mean_absolute_error: 0.0411\n",
      "Epoch 00019: val_loss did not improve from 0.00088\n",
      "79/79 [==============================] - 14s 177ms/step - loss: 0.0016 - mean_absolute_error: 0.0411 - val_loss: 9.6623e-04 - val_mean_absolute_error: 0.0355\n",
      "Epoch 20/100\n",
      "79/79 [==============================] - ETA: 0s - loss: 0.0015 - mean_absolute_error: 0.0411\n",
      "Epoch 00020: val_loss did not improve from 0.00088\n",
      "79/79 [==============================] - 14s 175ms/step - loss: 0.0015 - mean_absolute_error: 0.0411 - val_loss: 9.8322e-04 - val_mean_absolute_error: 0.0352\n",
      "Epoch 21/100\n",
      "79/79 [==============================] - ETA: 0s - loss: 0.0015 - mean_absolute_error: 0.0403\n",
      "Epoch 00021: val_loss improved from 0.00088 to 0.00087, saving model to IBM_2000_test2021_close/results\\2021-12-08_IBM-sh-1-sc-1-sbd-1-huber_loss-adam-LSTM-seq-50-step-15-layers-2-units-256.h5\n",
      "79/79 [==============================] - 14s 174ms/step - loss: 0.0015 - mean_absolute_error: 0.0403 - val_loss: 8.6603e-04 - val_mean_absolute_error: 0.0336\n",
      "Epoch 22/100\n",
      "79/79 [==============================] - ETA: 0s - loss: 0.0015 - mean_absolute_error: 0.0406\n",
      "Epoch 00022: val_loss did not improve from 0.00087\n",
      "79/79 [==============================] - 14s 174ms/step - loss: 0.0015 - mean_absolute_error: 0.0406 - val_loss: 8.8643e-04 - val_mean_absolute_error: 0.0339\n",
      "Epoch 23/100\n",
      "79/79 [==============================] - ETA: 0s - loss: 0.0015 - mean_absolute_error: 0.0402\n",
      "Epoch 00023: val_loss did not improve from 0.00087\n",
      "79/79 [==============================] - 16s 197ms/step - loss: 0.0015 - mean_absolute_error: 0.0402 - val_loss: 8.8176e-04 - val_mean_absolute_error: 0.0338\n",
      "Epoch 24/100\n",
      "79/79 [==============================] - ETA: 0s - loss: 0.0014 - mean_absolute_error: 0.0398\n",
      "Epoch 00024: val_loss did not improve from 0.00087\n",
      "79/79 [==============================] - 14s 173ms/step - loss: 0.0014 - mean_absolute_error: 0.0398 - val_loss: 9.6065e-04 - val_mean_absolute_error: 0.0348\n",
      "Epoch 25/100\n",
      "79/79 [==============================] - ETA: 0s - loss: 0.0014 - mean_absolute_error: 0.0402\n",
      "Epoch 00025: val_loss did not improve from 0.00087\n",
      "79/79 [==============================] - 14s 173ms/step - loss: 0.0014 - mean_absolute_error: 0.0402 - val_loss: 9.3714e-04 - val_mean_absolute_error: 0.0347\n",
      "Epoch 26/100\n",
      "79/79 [==============================] - ETA: 0s - loss: 0.0015 - mean_absolute_error: 0.0406\n",
      "Epoch 00026: val_loss did not improve from 0.00087\n",
      "79/79 [==============================] - 14s 172ms/step - loss: 0.0015 - mean_absolute_error: 0.0406 - val_loss: 9.0204e-04 - val_mean_absolute_error: 0.0342\n",
      "Epoch 27/100\n",
      "79/79 [==============================] - ETA: 0s - loss: 0.0015 - mean_absolute_error: 0.0401\n",
      "Epoch 00027: val_loss did not improve from 0.00087\n",
      "79/79 [==============================] - 14s 172ms/step - loss: 0.0015 - mean_absolute_error: 0.0401 - val_loss: 0.0011 - val_mean_absolute_error: 0.0365\n",
      "Epoch 28/100\n",
      "79/79 [==============================] - ETA: 0s - loss: 0.0014 - mean_absolute_error: 0.0394\n",
      "Epoch 00028: val_loss did not improve from 0.00087\n",
      "79/79 [==============================] - 14s 180ms/step - loss: 0.0014 - mean_absolute_error: 0.0394 - val_loss: 9.4104e-04 - val_mean_absolute_error: 0.0348\n",
      "Epoch 29/100\n",
      "79/79 [==============================] - ETA: 0s - loss: 0.0014 - mean_absolute_error: 0.0389\n",
      "Epoch 00029: val_loss did not improve from 0.00087\n",
      "79/79 [==============================] - 14s 171ms/step - loss: 0.0014 - mean_absolute_error: 0.0389 - val_loss: 9.3212e-04 - val_mean_absolute_error: 0.0346\n",
      "Epoch 30/100\n",
      "79/79 [==============================] - ETA: 0s - loss: 0.0014 - mean_absolute_error: 0.0392\n",
      "Epoch 00030: val_loss did not improve from 0.00087\n",
      "79/79 [==============================] - 13s 170ms/step - loss: 0.0014 - mean_absolute_error: 0.0392 - val_loss: 8.9530e-04 - val_mean_absolute_error: 0.0340\n",
      "Epoch 31/100\n",
      "79/79 [==============================] - ETA: 0s - loss: 0.0014 - mean_absolute_error: 0.0395\n",
      "Epoch 00031: val_loss did not improve from 0.00087\n",
      "79/79 [==============================] - 14s 172ms/step - loss: 0.0014 - mean_absolute_error: 0.0395 - val_loss: 9.7708e-04 - val_mean_absolute_error: 0.0351\n",
      "Epoch 32/100\n",
      "79/79 [==============================] - ETA: 0s - loss: 0.0014 - mean_absolute_error: 0.0397\n",
      "Epoch 00032: val_loss did not improve from 0.00087\n",
      "79/79 [==============================] - 13s 169ms/step - loss: 0.0014 - mean_absolute_error: 0.0397 - val_loss: 9.1787e-04 - val_mean_absolute_error: 0.0343\n",
      "Epoch 33/100\n",
      "79/79 [==============================] - ETA: 0s - loss: 0.0014 - mean_absolute_error: 0.0388\n",
      "Epoch 00033: val_loss did not improve from 0.00087\n",
      "79/79 [==============================] - 14s 172ms/step - loss: 0.0014 - mean_absolute_error: 0.0388 - val_loss: 0.0011 - val_mean_absolute_error: 0.0374\n",
      "Epoch 34/100\n",
      "79/79 [==============================] - ETA: 0s - loss: 0.0014 - mean_absolute_error: 0.0391\n",
      "Epoch 00034: val_loss did not improve from 0.00087\n",
      "79/79 [==============================] - 14s 173ms/step - loss: 0.0014 - mean_absolute_error: 0.0391 - val_loss: 9.3774e-04 - val_mean_absolute_error: 0.0343\n",
      "Epoch 35/100\n",
      "79/79 [==============================] - ETA: 0s - loss: 0.0014 - mean_absolute_error: 0.0393\n",
      "Epoch 00035: val_loss did not improve from 0.00087\n",
      "79/79 [==============================] - 14s 174ms/step - loss: 0.0014 - mean_absolute_error: 0.0393 - val_loss: 9.3668e-04 - val_mean_absolute_error: 0.0350\n",
      "Epoch 36/100\n",
      "79/79 [==============================] - ETA: 0s - loss: 0.0014 - mean_absolute_error: 0.0392\n",
      "Epoch 00036: val_loss did not improve from 0.00087\n",
      "79/79 [==============================] - 13s 169ms/step - loss: 0.0014 - mean_absolute_error: 0.0392 - val_loss: 9.3004e-04 - val_mean_absolute_error: 0.0346\n",
      "Epoch 37/100\n",
      "79/79 [==============================] - ETA: 0s - loss: 0.0013 - mean_absolute_error: 0.0381\n",
      "Epoch 00037: val_loss did not improve from 0.00087\n",
      "79/79 [==============================] - 13s 170ms/step - loss: 0.0013 - mean_absolute_error: 0.0381 - val_loss: 8.7590e-04 - val_mean_absolute_error: 0.0335\n",
      "Epoch 38/100\n",
      "79/79 [==============================] - ETA: 0s - loss: 0.0013 - mean_absolute_error: 0.0385\n",
      "Epoch 00038: val_loss did not improve from 0.00087\n",
      "79/79 [==============================] - 13s 167ms/step - loss: 0.0013 - mean_absolute_error: 0.0385 - val_loss: 9.1536e-04 - val_mean_absolute_error: 0.0344\n",
      "Epoch 39/100\n",
      "79/79 [==============================] - ETA: 0s - loss: 0.0013 - mean_absolute_error: 0.0381\n",
      "Epoch 00039: val_loss did not improve from 0.00087\n",
      "79/79 [==============================] - 13s 167ms/step - loss: 0.0013 - mean_absolute_error: 0.0381 - val_loss: 0.0011 - val_mean_absolute_error: 0.0370\n",
      "Epoch 40/100\n",
      "79/79 [==============================] - ETA: 0s - loss: 0.0014 - mean_absolute_error: 0.0390\n",
      "Epoch 00040: val_loss did not improve from 0.00087\n",
      "79/79 [==============================] - 13s 168ms/step - loss: 0.0014 - mean_absolute_error: 0.0390 - val_loss: 9.2356e-04 - val_mean_absolute_error: 0.0344\n",
      "Epoch 41/100\n",
      "79/79 [==============================] - ETA: 0s - loss: 0.0014 - mean_absolute_error: 0.0394\n",
      "Epoch 00041: val_loss did not improve from 0.00087\n",
      "79/79 [==============================] - 13s 168ms/step - loss: 0.0014 - mean_absolute_error: 0.0394 - val_loss: 9.5957e-04 - val_mean_absolute_error: 0.0351\n",
      "Epoch 42/100\n",
      "79/79 [==============================] - ETA: 0s - loss: 0.0014 - mean_absolute_error: 0.0390\n",
      "Epoch 00042: val_loss did not improve from 0.00087\n",
      "79/79 [==============================] - 13s 169ms/step - loss: 0.0014 - mean_absolute_error: 0.0390 - val_loss: 8.7765e-04 - val_mean_absolute_error: 0.0336\n",
      "Epoch 43/100\n",
      "79/79 [==============================] - ETA: 0s - loss: 0.0013 - mean_absolute_error: 0.0379\n",
      "Epoch 00043: val_loss did not improve from 0.00087\n",
      "79/79 [==============================] - 13s 168ms/step - loss: 0.0013 - mean_absolute_error: 0.0379 - val_loss: 0.0014 - val_mean_absolute_error: 0.0419\n",
      "Epoch 44/100\n",
      "79/79 [==============================] - ETA: 0s - loss: 0.0014 - mean_absolute_error: 0.0389\n",
      "Epoch 00044: val_loss did not improve from 0.00087\n",
      "79/79 [==============================] - 13s 169ms/step - loss: 0.0014 - mean_absolute_error: 0.0389 - val_loss: 9.0481e-04 - val_mean_absolute_error: 0.0341\n",
      "Epoch 45/100\n",
      "79/79 [==============================] - ETA: 0s - loss: 0.0013 - mean_absolute_error: 0.0383\n",
      "Epoch 00045: val_loss did not improve from 0.00087\n",
      "79/79 [==============================] - 13s 169ms/step - loss: 0.0013 - mean_absolute_error: 0.0383 - val_loss: 9.9159e-04 - val_mean_absolute_error: 0.0353\n",
      "Epoch 46/100\n",
      "79/79 [==============================] - ETA: 0s - loss: 0.0013 - mean_absolute_error: 0.0384\n",
      "Epoch 00046: val_loss did not improve from 0.00087\n",
      "79/79 [==============================] - 13s 168ms/step - loss: 0.0013 - mean_absolute_error: 0.0384 - val_loss: 9.8217e-04 - val_mean_absolute_error: 0.0353\n",
      "Epoch 47/100\n",
      "79/79 [==============================] - ETA: 0s - loss: 0.0013 - mean_absolute_error: 0.0387\n",
      "Epoch 00047: val_loss did not improve from 0.00087\n",
      "79/79 [==============================] - 13s 168ms/step - loss: 0.0013 - mean_absolute_error: 0.0387 - val_loss: 9.1352e-04 - val_mean_absolute_error: 0.0341\n",
      "Epoch 48/100\n",
      "79/79 [==============================] - ETA: 0s - loss: 0.0013 - mean_absolute_error: 0.0378\n",
      "Epoch 00048: val_loss did not improve from 0.00087\n",
      "79/79 [==============================] - 13s 169ms/step - loss: 0.0013 - mean_absolute_error: 0.0378 - val_loss: 9.2596e-04 - val_mean_absolute_error: 0.0346\n",
      "Epoch 49/100\n",
      "79/79 [==============================] - ETA: 0s - loss: 0.0014 - mean_absolute_error: 0.0394\n",
      "Epoch 00049: val_loss did not improve from 0.00087\n",
      "79/79 [==============================] - 14s 172ms/step - loss: 0.0014 - mean_absolute_error: 0.0394 - val_loss: 8.9447e-04 - val_mean_absolute_error: 0.0339\n",
      "Epoch 50/100\n",
      "79/79 [==============================] - ETA: 0s - loss: 0.0013 - mean_absolute_error: 0.0381\n",
      "Epoch 00050: val_loss did not improve from 0.00087\n",
      "79/79 [==============================] - 13s 170ms/step - loss: 0.0013 - mean_absolute_error: 0.0381 - val_loss: 8.8456e-04 - val_mean_absolute_error: 0.0335\n",
      "Epoch 51/100\n",
      "79/79 [==============================] - ETA: 0s - loss: 0.0013 - mean_absolute_error: 0.0379\n",
      "Epoch 00051: val_loss did not improve from 0.00087\n",
      "79/79 [==============================] - 14s 175ms/step - loss: 0.0013 - mean_absolute_error: 0.0379 - val_loss: 8.9067e-04 - val_mean_absolute_error: 0.0336\n",
      "Epoch 52/100\n",
      "79/79 [==============================] - ETA: 0s - loss: 0.0013 - mean_absolute_error: 0.0380\n",
      "Epoch 00052: val_loss did not improve from 0.00087\n",
      "79/79 [==============================] - 14s 175ms/step - loss: 0.0013 - mean_absolute_error: 0.0380 - val_loss: 9.2358e-04 - val_mean_absolute_error: 0.0339\n",
      "Epoch 53/100\n",
      "79/79 [==============================] - ETA: 0s - loss: 0.0013 - mean_absolute_error: 0.0378\n",
      "Epoch 00053: val_loss did not improve from 0.00087\n",
      "79/79 [==============================] - 14s 184ms/step - loss: 0.0013 - mean_absolute_error: 0.0378 - val_loss: 9.4651e-04 - val_mean_absolute_error: 0.0348\n",
      "Epoch 54/100\n",
      "79/79 [==============================] - ETA: 0s - loss: 0.0013 - mean_absolute_error: 0.0379\n",
      "Epoch 00054: val_loss did not improve from 0.00087\n",
      "79/79 [==============================] - 14s 173ms/step - loss: 0.0013 - mean_absolute_error: 0.0379 - val_loss: 8.9601e-04 - val_mean_absolute_error: 0.0338\n",
      "Epoch 55/100\n",
      "79/79 [==============================] - ETA: 0s - loss: 0.0013 - mean_absolute_error: 0.0376\n",
      "Epoch 00055: val_loss did not improve from 0.00087\n",
      "79/79 [==============================] - 14s 174ms/step - loss: 0.0013 - mean_absolute_error: 0.0376 - val_loss: 0.0011 - val_mean_absolute_error: 0.0364\n",
      "Epoch 56/100\n",
      "79/79 [==============================] - ETA: 0s - loss: 0.0013 - mean_absolute_error: 0.0376\n",
      "Epoch 00056: val_loss did not improve from 0.00087\n",
      "79/79 [==============================] - 14s 174ms/step - loss: 0.0013 - mean_absolute_error: 0.0376 - val_loss: 8.7999e-04 - val_mean_absolute_error: 0.0334\n",
      "Epoch 57/100\n",
      "79/79 [==============================] - ETA: 0s - loss: 0.0013 - mean_absolute_error: 0.0377\n",
      "Epoch 00057: val_loss did not improve from 0.00087\n",
      "79/79 [==============================] - 14s 174ms/step - loss: 0.0013 - mean_absolute_error: 0.0377 - val_loss: 8.9041e-04 - val_mean_absolute_error: 0.0336\n",
      "Epoch 58/100\n",
      "79/79 [==============================] - ETA: 0s - loss: 0.0013 - mean_absolute_error: 0.0375\n",
      "Epoch 00058: val_loss did not improve from 0.00087\n",
      "79/79 [==============================] - 14s 174ms/step - loss: 0.0013 - mean_absolute_error: 0.0375 - val_loss: 8.7258e-04 - val_mean_absolute_error: 0.0334\n",
      "Epoch 59/100\n",
      "79/79 [==============================] - ETA: 0s - loss: 0.0012 - mean_absolute_error: 0.0374\n",
      "Epoch 00059: val_loss did not improve from 0.00087\n",
      "79/79 [==============================] - 14s 173ms/step - loss: 0.0012 - mean_absolute_error: 0.0374 - val_loss: 9.1086e-04 - val_mean_absolute_error: 0.0339\n",
      "Epoch 60/100\n",
      "79/79 [==============================] - ETA: 0s - loss: 0.0013 - mean_absolute_error: 0.0374\n",
      "Epoch 00060: val_loss did not improve from 0.00087\n",
      "79/79 [==============================] - 14s 174ms/step - loss: 0.0013 - mean_absolute_error: 0.0374 - val_loss: 9.3141e-04 - val_mean_absolute_error: 0.0345\n",
      "Epoch 61/100\n",
      "79/79 [==============================] - ETA: 0s - loss: 0.0012 - mean_absolute_error: 0.0369\n",
      "Epoch 00061: val_loss did not improve from 0.00087\n",
      "79/79 [==============================] - 14s 174ms/step - loss: 0.0012 - mean_absolute_error: 0.0369 - val_loss: 9.1611e-04 - val_mean_absolute_error: 0.0341\n",
      "Epoch 62/100\n",
      "79/79 [==============================] - ETA: 0s - loss: 0.0012 - mean_absolute_error: 0.0373\n",
      "Epoch 00062: val_loss did not improve from 0.00087\n",
      "79/79 [==============================] - 14s 175ms/step - loss: 0.0012 - mean_absolute_error: 0.0373 - val_loss: 9.2555e-04 - val_mean_absolute_error: 0.0343\n",
      "Epoch 63/100\n",
      "79/79 [==============================] - ETA: 0s - loss: 0.0012 - mean_absolute_error: 0.0375\n",
      "Epoch 00063: val_loss did not improve from 0.00087\n",
      "79/79 [==============================] - 14s 175ms/step - loss: 0.0012 - mean_absolute_error: 0.0375 - val_loss: 9.3832e-04 - val_mean_absolute_error: 0.0346\n",
      "Epoch 64/100\n",
      "79/79 [==============================] - ETA: 0s - loss: 0.0012 - mean_absolute_error: 0.0374\n",
      "Epoch 00064: val_loss did not improve from 0.00087\n",
      "79/79 [==============================] - 14s 174ms/step - loss: 0.0012 - mean_absolute_error: 0.0374 - val_loss: 8.9934e-04 - val_mean_absolute_error: 0.0337\n",
      "Epoch 65/100\n",
      "79/79 [==============================] - ETA: 0s - loss: 0.0012 - mean_absolute_error: 0.0373\n",
      "Epoch 00065: val_loss did not improve from 0.00087\n",
      "79/79 [==============================] - 14s 174ms/step - loss: 0.0012 - mean_absolute_error: 0.0373 - val_loss: 9.6617e-04 - val_mean_absolute_error: 0.0351\n",
      "Epoch 66/100\n",
      "79/79 [==============================] - ETA: 0s - loss: 0.0012 - mean_absolute_error: 0.0372\n",
      "Epoch 00066: val_loss did not improve from 0.00087\n",
      "79/79 [==============================] - 14s 174ms/step - loss: 0.0012 - mean_absolute_error: 0.0372 - val_loss: 9.3996e-04 - val_mean_absolute_error: 0.0347\n",
      "Epoch 67/100\n",
      "79/79 [==============================] - ETA: 0s - loss: 0.0013 - mean_absolute_error: 0.0377\n",
      "Epoch 00067: val_loss improved from 0.00087 to 0.00086, saving model to IBM_2000_test2021_close/results\\2021-12-08_IBM-sh-1-sc-1-sbd-1-huber_loss-adam-LSTM-seq-50-step-15-layers-2-units-256.h5\n",
      "79/79 [==============================] - 14s 175ms/step - loss: 0.0013 - mean_absolute_error: 0.0377 - val_loss: 8.6372e-04 - val_mean_absolute_error: 0.0331\n",
      "Epoch 68/100\n",
      "79/79 [==============================] - ETA: 0s - loss: 0.0012 - mean_absolute_error: 0.0372\n",
      "Epoch 00068: val_loss improved from 0.00086 to 0.00085, saving model to IBM_2000_test2021_close/results\\2021-12-08_IBM-sh-1-sc-1-sbd-1-huber_loss-adam-LSTM-seq-50-step-15-layers-2-units-256.h5\n",
      "79/79 [==============================] - 14s 176ms/step - loss: 0.0012 - mean_absolute_error: 0.0372 - val_loss: 8.4764e-04 - val_mean_absolute_error: 0.0330\n",
      "Epoch 69/100\n",
      "79/79 [==============================] - ETA: 0s - loss: 0.0013 - mean_absolute_error: 0.0375\n",
      "Epoch 00069: val_loss did not improve from 0.00085\n",
      "79/79 [==============================] - 14s 174ms/step - loss: 0.0013 - mean_absolute_error: 0.0375 - val_loss: 9.0408e-04 - val_mean_absolute_error: 0.0339\n",
      "Epoch 70/100\n",
      "79/79 [==============================] - ETA: 0s - loss: 0.0012 - mean_absolute_error: 0.0370\n",
      "Epoch 00070: val_loss did not improve from 0.00085\n",
      "79/79 [==============================] - 14s 174ms/step - loss: 0.0012 - mean_absolute_error: 0.0370 - val_loss: 8.9686e-04 - val_mean_absolute_error: 0.0339\n",
      "Epoch 71/100\n",
      "79/79 [==============================] - ETA: 0s - loss: 0.0013 - mean_absolute_error: 0.0376\n",
      "Epoch 00071: val_loss did not improve from 0.00085\n",
      "79/79 [==============================] - 14s 174ms/step - loss: 0.0013 - mean_absolute_error: 0.0376 - val_loss: 8.8514e-04 - val_mean_absolute_error: 0.0334\n",
      "Epoch 72/100\n",
      "79/79 [==============================] - ETA: 0s - loss: 0.0012 - mean_absolute_error: 0.0371\n",
      "Epoch 00072: val_loss did not improve from 0.00085\n",
      "79/79 [==============================] - 14s 174ms/step - loss: 0.0012 - mean_absolute_error: 0.0371 - val_loss: 0.0010 - val_mean_absolute_error: 0.0353\n",
      "Epoch 73/100\n",
      "79/79 [==============================] - ETA: 0s - loss: 0.0013 - mean_absolute_error: 0.0375\n",
      "Epoch 00073: val_loss did not improve from 0.00085\n",
      "79/79 [==============================] - 14s 174ms/step - loss: 0.0013 - mean_absolute_error: 0.0375 - val_loss: 9.5738e-04 - val_mean_absolute_error: 0.0348\n",
      "Epoch 74/100\n",
      "79/79 [==============================] - ETA: 0s - loss: 0.0012 - mean_absolute_error: 0.0369\n",
      "Epoch 00074: val_loss did not improve from 0.00085\n",
      "79/79 [==============================] - 14s 175ms/step - loss: 0.0012 - mean_absolute_error: 0.0369 - val_loss: 9.2667e-04 - val_mean_absolute_error: 0.0344\n",
      "Epoch 75/100\n",
      "79/79 [==============================] - ETA: 0s - loss: 0.0013 - mean_absolute_error: 0.0377\n",
      "Epoch 00075: val_loss did not improve from 0.00085\n",
      "79/79 [==============================] - 14s 175ms/step - loss: 0.0013 - mean_absolute_error: 0.0377 - val_loss: 8.7229e-04 - val_mean_absolute_error: 0.0334\n",
      "Epoch 76/100\n",
      "79/79 [==============================] - ETA: 0s - loss: 0.0012 - mean_absolute_error: 0.0367\n",
      "Epoch 00076: val_loss did not improve from 0.00085\n",
      "79/79 [==============================] - 14s 178ms/step - loss: 0.0012 - mean_absolute_error: 0.0367 - val_loss: 9.4484e-04 - val_mean_absolute_error: 0.0348\n",
      "Epoch 77/100\n",
      "79/79 [==============================] - ETA: 0s - loss: 0.0012 - mean_absolute_error: 0.0370\n",
      "Epoch 00077: val_loss did not improve from 0.00085\n",
      "79/79 [==============================] - 14s 182ms/step - loss: 0.0012 - mean_absolute_error: 0.0370 - val_loss: 8.7845e-04 - val_mean_absolute_error: 0.0335\n",
      "Epoch 78/100\n",
      "79/79 [==============================] - ETA: 0s - loss: 0.0012 - mean_absolute_error: 0.0367\n",
      "Epoch 00078: val_loss did not improve from 0.00085\n",
      "79/79 [==============================] - 14s 173ms/step - loss: 0.0012 - mean_absolute_error: 0.0367 - val_loss: 0.0010 - val_mean_absolute_error: 0.0361\n",
      "Epoch 79/100\n",
      "79/79 [==============================] - ETA: 0s - loss: 0.0012 - mean_absolute_error: 0.0372\n",
      "Epoch 00079: val_loss did not improve from 0.00085\n",
      "79/79 [==============================] - 13s 168ms/step - loss: 0.0012 - mean_absolute_error: 0.0372 - val_loss: 8.7516e-04 - val_mean_absolute_error: 0.0334\n",
      "Epoch 80/100\n",
      "79/79 [==============================] - ETA: 0s - loss: 0.0012 - mean_absolute_error: 0.0371\n",
      "Epoch 00080: val_loss improved from 0.00085 to 0.00084, saving model to IBM_2000_test2021_close/results\\2021-12-08_IBM-sh-1-sc-1-sbd-1-huber_loss-adam-LSTM-seq-50-step-15-layers-2-units-256.h5\n",
      "79/79 [==============================] - 14s 171ms/step - loss: 0.0012 - mean_absolute_error: 0.0371 - val_loss: 8.3736e-04 - val_mean_absolute_error: 0.0326\n",
      "Epoch 81/100\n",
      "79/79 [==============================] - ETA: 0s - loss: 0.0012 - mean_absolute_error: 0.0369\n",
      "Epoch 00081: val_loss did not improve from 0.00084\n",
      "79/79 [==============================] - 13s 170ms/step - loss: 0.0012 - mean_absolute_error: 0.0369 - val_loss: 9.7371e-04 - val_mean_absolute_error: 0.0347\n",
      "Epoch 82/100\n",
      "79/79 [==============================] - ETA: 0s - loss: 0.0013 - mean_absolute_error: 0.0378\n",
      "Epoch 00082: val_loss did not improve from 0.00084\n",
      "79/79 [==============================] - 14s 182ms/step - loss: 0.0013 - mean_absolute_error: 0.0378 - val_loss: 8.8152e-04 - val_mean_absolute_error: 0.0335\n",
      "Epoch 83/100\n",
      "79/79 [==============================] - ETA: 0s - loss: 0.0012 - mean_absolute_error: 0.0369\n",
      "Epoch 00083: val_loss did not improve from 0.00084\n",
      "79/79 [==============================] - 14s 175ms/step - loss: 0.0012 - mean_absolute_error: 0.0369 - val_loss: 8.8184e-04 - val_mean_absolute_error: 0.0331\n",
      "Epoch 84/100\n",
      "79/79 [==============================] - ETA: 0s - loss: 0.0012 - mean_absolute_error: 0.0369\n",
      "Epoch 00084: val_loss did not improve from 0.00084\n",
      "79/79 [==============================] - 15s 184ms/step - loss: 0.0012 - mean_absolute_error: 0.0369 - val_loss: 9.3544e-04 - val_mean_absolute_error: 0.0345\n",
      "Epoch 85/100\n",
      "79/79 [==============================] - ETA: 0s - loss: 0.0012 - mean_absolute_error: 0.0367\n",
      "Epoch 00085: val_loss improved from 0.00084 to 0.00084, saving model to IBM_2000_test2021_close/results\\2021-12-08_IBM-sh-1-sc-1-sbd-1-huber_loss-adam-LSTM-seq-50-step-15-layers-2-units-256.h5\n",
      "79/79 [==============================] - 14s 180ms/step - loss: 0.0012 - mean_absolute_error: 0.0367 - val_loss: 8.3734e-04 - val_mean_absolute_error: 0.0328\n",
      "Epoch 86/100\n",
      "79/79 [==============================] - ETA: 0s - loss: 0.0012 - mean_absolute_error: 0.0366\n",
      "Epoch 00086: val_loss did not improve from 0.00084\n",
      "79/79 [==============================] - 14s 179ms/step - loss: 0.0012 - mean_absolute_error: 0.0366 - val_loss: 9.6079e-04 - val_mean_absolute_error: 0.0349\n",
      "Epoch 87/100\n",
      "79/79 [==============================] - ETA: 0s - loss: 0.0012 - mean_absolute_error: 0.0368\n",
      "Epoch 00087: val_loss did not improve from 0.00084\n",
      "79/79 [==============================] - 15s 190ms/step - loss: 0.0012 - mean_absolute_error: 0.0368 - val_loss: 9.6258e-04 - val_mean_absolute_error: 0.0351\n",
      "Epoch 88/100\n",
      "79/79 [==============================] - ETA: 0s - loss: 0.0012 - mean_absolute_error: 0.0368\n",
      "Epoch 00088: val_loss did not improve from 0.00084\n",
      "79/79 [==============================] - 16s 198ms/step - loss: 0.0012 - mean_absolute_error: 0.0368 - val_loss: 8.6527e-04 - val_mean_absolute_error: 0.0331\n",
      "Epoch 89/100\n",
      "79/79 [==============================] - ETA: 0s - loss: 0.0012 - mean_absolute_error: 0.0364\n",
      "Epoch 00089: val_loss did not improve from 0.00084\n",
      "79/79 [==============================] - 14s 179ms/step - loss: 0.0012 - mean_absolute_error: 0.0364 - val_loss: 9.1689e-04 - val_mean_absolute_error: 0.0342\n",
      "Epoch 90/100\n",
      "79/79 [==============================] - ETA: 0s - loss: 0.0012 - mean_absolute_error: 0.0366\n",
      "Epoch 00090: val_loss did not improve from 0.00084\n",
      "79/79 [==============================] - 14s 178ms/step - loss: 0.0012 - mean_absolute_error: 0.0366 - val_loss: 8.6451e-04 - val_mean_absolute_error: 0.0331\n",
      "Epoch 91/100\n",
      "79/79 [==============================] - ETA: 0s - loss: 0.0012 - mean_absolute_error: 0.0362\n",
      "Epoch 00091: val_loss did not improve from 0.00084\n",
      "79/79 [==============================] - 14s 179ms/step - loss: 0.0012 - mean_absolute_error: 0.0362 - val_loss: 9.0334e-04 - val_mean_absolute_error: 0.0335\n",
      "Epoch 92/100\n",
      "79/79 [==============================] - ETA: 0s - loss: 0.0012 - mean_absolute_error: 0.0365\n",
      "Epoch 00092: val_loss did not improve from 0.00084\n",
      "79/79 [==============================] - 15s 196ms/step - loss: 0.0012 - mean_absolute_error: 0.0365 - val_loss: 9.0321e-04 - val_mean_absolute_error: 0.0338\n",
      "Epoch 93/100\n",
      "79/79 [==============================] - ETA: 0s - loss: 0.0012 - mean_absolute_error: 0.0372\n",
      "Epoch 00093: val_loss did not improve from 0.00084\n",
      "79/79 [==============================] - 19s 237ms/step - loss: 0.0012 - mean_absolute_error: 0.0372 - val_loss: 8.8595e-04 - val_mean_absolute_error: 0.0334\n",
      "Epoch 94/100\n",
      "79/79 [==============================] - ETA: 0s - loss: 0.0012 - mean_absolute_error: 0.0365\n",
      "Epoch 00094: val_loss did not improve from 0.00084\n",
      "79/79 [==============================] - 14s 179ms/step - loss: 0.0012 - mean_absolute_error: 0.0365 - val_loss: 8.5335e-04 - val_mean_absolute_error: 0.0329\n",
      "Epoch 95/100\n",
      "79/79 [==============================] - ETA: 0s - loss: 0.0012 - mean_absolute_error: 0.0364\n",
      "Epoch 00095: val_loss did not improve from 0.00084\n",
      "79/79 [==============================] - 14s 175ms/step - loss: 0.0012 - mean_absolute_error: 0.0364 - val_loss: 8.5108e-04 - val_mean_absolute_error: 0.0329\n",
      "Epoch 96/100\n",
      "79/79 [==============================] - ETA: 0s - loss: 0.0012 - mean_absolute_error: 0.0361\n",
      "Epoch 00096: val_loss did not improve from 0.00084\n",
      "79/79 [==============================] - 14s 175ms/step - loss: 0.0012 - mean_absolute_error: 0.0361 - val_loss: 8.6381e-04 - val_mean_absolute_error: 0.0330\n",
      "Epoch 97/100\n",
      "79/79 [==============================] - ETA: 0s - loss: 0.0012 - mean_absolute_error: 0.0365\n",
      "Epoch 00097: val_loss did not improve from 0.00084\n",
      "79/79 [==============================] - 14s 175ms/step - loss: 0.0012 - mean_absolute_error: 0.0365 - val_loss: 9.0002e-04 - val_mean_absolute_error: 0.0334\n",
      "Epoch 98/100\n",
      "79/79 [==============================] - ETA: 0s - loss: 0.0012 - mean_absolute_error: 0.0368\n",
      "Epoch 00098: val_loss did not improve from 0.00084\n",
      "79/79 [==============================] - 14s 174ms/step - loss: 0.0012 - mean_absolute_error: 0.0368 - val_loss: 8.7392e-04 - val_mean_absolute_error: 0.0333\n",
      "Epoch 99/100\n",
      "79/79 [==============================] - ETA: 0s - loss: 0.0012 - mean_absolute_error: 0.0366\n",
      "Epoch 00099: val_loss did not improve from 0.00084\n",
      "79/79 [==============================] - 14s 175ms/step - loss: 0.0012 - mean_absolute_error: 0.0366 - val_loss: 8.5802e-04 - val_mean_absolute_error: 0.0331\n",
      "Epoch 100/100\n",
      "79/79 [==============================] - ETA: 0s - loss: 0.0012 - mean_absolute_error: 0.0363\n",
      "Epoch 00100: val_loss did not improve from 0.00084\n",
      "79/79 [==============================] - 14s 176ms/step - loss: 0.0012 - mean_absolute_error: 0.0363 - val_loss: 8.7062e-04 - val_mean_absolute_error: 0.0331\n"
     ]
    }
   ],
   "source": [
    "# def fit_model():\n",
    "if not collab and os.path.exists(os.path.join(new_results + \"/results\", model_name + \".h5\")):\n",
    "    print(\"Модель уже просчитана, загружаем модель\")\n",
    "else:\n",
    "    if tf.config.list_physical_devices('GPU'):\n",
    "        print(\"Создаем новую модель\" + new_results)\n",
    "        # some tensorflow callbacks\n",
    "        checkpointer = ModelCheckpoint(os.path.join(new_results + \"/results\", model_name + \".h5\"), save_weights_only=True, save_best_only=True, verbose=1)\n",
    "        tensorboard = TensorBoard(log_dir=os.path.join(new_results + \"/logs\", model_name))\n",
    "        # train the model and save the weights whenever we see\n",
    "        # a new optimal model using ModelCheckpoint\n",
    "        history = model.fit(data[\"X_train\"], data[\"y_train\"],\n",
    "                          batch_size=BATCH_SIZE,\n",
    "                          epochs=EPOCHS,\n",
    "                          validation_data=(data[\"X_test\"], data[\"y_test\"]),\n",
    "                          callbacks=[checkpointer, tensorboard],\n",
    "                          verbose=1)\n",
    "    else:\n",
    "        print(\"GPU не подключен\")\n",
    "        copy_tree(data_path + \"/results\",  new_results + \"/results\" )\n",
    "        copy_tree(data_path + \"/logs\",  new_results + \"/logs\")\n",
    "        copy_tree(data_path + \"/data\", new_results + \"/data\")\n",
    "        copy_tree(data_path + \"/test-results\", new_results + \"/test-results\")"
   ]
  },
  {
   "cell_type": "code",
   "execution_count": 23,
   "metadata": {},
   "outputs": [],
   "source": [
    "# EPOCHS = 10\n",
    "# delete_folders([f\"del__2000_test2021_close_ep{EPOCHS}\",f\"del__2000_test2021_close_body_ep{EPOCHS}\"])"
   ]
  },
  {
   "cell_type": "code",
   "execution_count": 24,
   "metadata": {},
   "outputs": [],
   "source": [
    "# compile_model()\n",
    "# fit_model()\n",
    "# load_params()\n",
    "# EPOCHS = 10\n",
    "# new_results = f\"del__2000_test2021_close_ep{EPOCHS}\"\n",
    "# FEATURE_COLUMNS = [\"close\"]\n",
    "# compile_model()\n",
    "# fit_model()\n",
    "\n",
    "# load_params()\n",
    "# EPOCHS = 10\n",
    "# new_results = f\"del__2000_test2021_close_body_ep{EPOCHS}\"\n",
    "# FEATURE_COLUMNS = [\"close\",\"body\"]\n",
    "# compile_model()\n",
    "# fit_model()\n",
    "\n",
    "\n",
    "\n",
    "# new_results = \"2000_test2021_close_body_abs\"\n",
    "# FEATURE_COLUMNS = [\"close\",\"body_abs\"]\n",
    "# load_params()\n",
    "# fit_model()\n",
    "\n",
    "# new_results = \"2000_test2021_candles\"\n",
    "# FEATURE_COLUMNS = [\"close\", \"volume\", \"open\", \"high\", \"low\"]\n",
    "# load_params()\n",
    "# fit_model()\n",
    "\n",
    "# new_results = \"2000_test2021_ema100\"\n",
    "# FEATURE_COLUMNS = [\"close\", \"volume\", \"open\", \"high\", \"low\",\"ma7\",\"ma21\",\"ma100\",\"ma50\",\"26ema\",\"12ema\",\"MACD\",\"ema\",\"momentum\"] \n",
    "# load_params()\n",
    "# fit_model()\n",
    "\n",
    "# new_results = \"1976_test2021_ema100\"\n",
    "# FEATURE_COLUMNS = [\"close\", \"volume\", \"open\", \"high\", \"low\",\"ma7\",\"ma21\",\"ma100\",\"ma50\",\"26ema\",\"12ema\",\"MACD\",\"ema\",\"momentum\"] \n",
    "# load_params()\n",
    "# fit_model()"
   ]
  },
  {
   "cell_type": "code",
   "execution_count": 25,
   "metadata": {
    "executionInfo": {
     "elapsed": 7,
     "status": "ok",
     "timestamp": 1638183343694,
     "user": {
      "displayName": "Сергей Мазеин",
      "photoUrl": "https://lh3.googleusercontent.com/a/default-user=s64",
      "userId": "18218808834952086757"
     },
     "user_tz": -180
    },
    "id": "jZLCykmNp4kN"
   },
   "outputs": [],
   "source": [
    "import matplotlib.pyplot as plt\n",
    "\n",
    "def plot_graph(test_df):\n",
    "    \"\"\"\n",
    "    This function plots true close price along with predicted close price\n",
    "    with blue and red colors respectively\n",
    "    \"\"\"\n",
    "    plt.plot(test_df[f'true_close_{LOOKUP_STEP}'], c='b')\n",
    "    plt.plot(test_df[f'close_{LOOKUP_STEP}'], c='r')\n",
    "    plt.xlabel(\"Days\")\n",
    "    plt.ylabel(\"Price\")\n",
    "    plt.legend([\"Actual Price\", \"Predicted Price\"])\n",
    "    plt.show()"
   ]
  },
  {
   "cell_type": "code",
   "execution_count": 26,
   "metadata": {
    "executionInfo": {
     "elapsed": 6,
     "status": "ok",
     "timestamp": 1638183343694,
     "user": {
      "displayName": "Сергей Мазеин",
      "photoUrl": "https://lh3.googleusercontent.com/a/default-user=s64",
      "userId": "18218808834952086757"
     },
     "user_tz": -180
    },
    "id": "l3p5ydmzp4kN"
   },
   "outputs": [],
   "source": [
    "def get_final_df(model, data):\n",
    "    \"\"\"\n",
    "    This function takes the `model` and `data` dict to \n",
    "    construct a final dataframe that includes the features along \n",
    "    with true and predicted prices of the testing dataset\n",
    "    \"\"\"\n",
    "    # if predicted future price is higher than the current, \n",
    "    # then calculate the true future price minus the current price, to get the buy profit\n",
    "    buy_profit  = lambda current, pred_future, true_future: true_future - current if pred_future > current else 0\n",
    "    # if the predicted future price is lower than the current price,\n",
    "    # then subtract the true future price from the current price\n",
    "    sell_profit = lambda current, pred_future, true_future: current - true_future if pred_future < current else 0\n",
    "    X_test = data[\"X_test\"]\n",
    "    y_test = data[\"y_test\"]\n",
    "    # perform prediction and get prices\n",
    "    y_pred = model.predict(X_test)\n",
    "    if SCALE:\n",
    "        y_test = np.squeeze(data[\"column_scaler\"][\"close\"].inverse_transform(np.expand_dims(y_test, axis=0)))\n",
    "        y_pred = np.squeeze(data[\"column_scaler\"][\"close\"].inverse_transform(y_pred))\n",
    "    test_df = data[\"test_df\"]\n",
    "    # add predicted future prices to the dataframe\n",
    "    test_df[f\"close_{LOOKUP_STEP}\"] = y_pred\n",
    "    # add true future prices to the dataframe\n",
    "    test_df[f\"true_close_{LOOKUP_STEP}\"] = y_test\n",
    "    # sort the dataframe by date\n",
    "    test_df.sort_index(inplace=True)\n",
    "    final_df = test_df\n",
    "    # add the buy profit column\n",
    "    final_df[\"buy_profit\"] = list(map(buy_profit, \n",
    "                                    final_df[\"close\"],\n",
    "                                    final_df[f\"close_{LOOKUP_STEP}\"],\n",
    "                                    final_df[f\"true_close_{LOOKUP_STEP}\"])\n",
    "                                    # since we don't have profit for last sequence, add 0's\n",
    "                                    )\n",
    "    # add the sell profit column\n",
    "    final_df[\"sell_profit\"] = list(map(sell_profit, \n",
    "                                    final_df[\"close\"],\n",
    "                                    final_df[f\"close_{LOOKUP_STEP}\"],\n",
    "                                    final_df[f\"true_close_{LOOKUP_STEP}\"])\n",
    "                                    # since we don't have profit for last sequence, add 0's\n",
    "                                    )\n",
    "    return final_df"
   ]
  },
  {
   "cell_type": "code",
   "execution_count": 27,
   "metadata": {
    "executionInfo": {
     "elapsed": 6,
     "status": "ok",
     "timestamp": 1638183343694,
     "user": {
      "displayName": "Сергей Мазеин",
      "photoUrl": "https://lh3.googleusercontent.com/a/default-user=s64",
      "userId": "18218808834952086757"
     },
     "user_tz": -180
    },
    "id": "3F86VAfyp4kN"
   },
   "outputs": [],
   "source": [
    "def predict(model, data):\n",
    "    # retrieve the last sequence from data\n",
    "    last_sequence = data[\"last_sequence\"][-N_STEPS:]\n",
    "    # expand dimension\n",
    "    last_sequence = np.expand_dims(last_sequence, axis=0)\n",
    "    # get the prediction (scaled from 0 to 1)\n",
    "    prediction = model.predict(last_sequence)\n",
    "    # get the price (by inverting the scaling)\n",
    "    if SCALE:\n",
    "        predicted_price = data[\"column_scaler\"][\"close\"].inverse_transform(prediction)[0][0]\n",
    "    else:\n",
    "        predicted_price = prediction[0][0]\n",
    "    return predicted_price"
   ]
  },
  {
   "cell_type": "code",
   "execution_count": 28,
   "metadata": {
    "executionInfo": {
     "elapsed": 6,
     "status": "ok",
     "timestamp": 1638183343695,
     "user": {
      "displayName": "Сергей Мазеин",
      "photoUrl": "https://lh3.googleusercontent.com/a/default-user=s64",
      "userId": "18218808834952086757"
     },
     "user_tz": -180
    },
    "id": "hHljZFoSp4kO"
   },
   "outputs": [],
   "source": [
    "# load optimal model weights from results folder\n",
    "model_path = os.path.join(new_results + \"/results\", model_name) + \".h5\"\n",
    "model.load_weights(model_path)"
   ]
  },
  {
   "cell_type": "code",
   "execution_count": 29,
   "metadata": {
    "executionInfo": {
     "elapsed": 753,
     "status": "ok",
     "timestamp": 1638183344442,
     "user": {
      "displayName": "Сергей Мазеин",
      "photoUrl": "https://lh3.googleusercontent.com/a/default-user=s64",
      "userId": "18218808834952086757"
     },
     "user_tz": -180
    },
    "id": "X-4aAmgSp4kO"
   },
   "outputs": [],
   "source": [
    "# evaluate the model\n",
    "loss, mae = model.evaluate(data[\"X_test\"], data[\"y_test\"], verbose=0)\n",
    "# calculate the mean absolute error (inverse scaling)\n",
    "if SCALE:\n",
    "    mean_absolute_error = data[\"column_scaler\"][\"close\"].inverse_transform([[mae]])[0][0]\n",
    "else:\n",
    "    mean_absolute_error = mae"
   ]
  },
  {
   "cell_type": "code",
   "execution_count": 30,
   "metadata": {
    "executionInfo": {
     "elapsed": 1306,
     "status": "ok",
     "timestamp": 1638183345745,
     "user": {
      "displayName": "Сергей Мазеин",
      "photoUrl": "https://lh3.googleusercontent.com/a/default-user=s64",
      "userId": "18218808834952086757"
     },
     "user_tz": -180
    },
    "id": "zNzvlBbFp4kO"
   },
   "outputs": [],
   "source": [
    "# get the final dataframe for the testing set\n",
    "final_df = pd.DataFrame()\n",
    "if not final_df.empty:\n",
    "    final_df = final_df.iloc[0:0]\n",
    "\n",
    "final_df = get_final_df(model, data)"
   ]
  },
  {
   "cell_type": "code",
   "execution_count": 31,
   "metadata": {
    "executionInfo": {
     "elapsed": 9,
     "status": "ok",
     "timestamp": 1638183345746,
     "user": {
      "displayName": "Сергей Мазеин",
      "photoUrl": "https://lh3.googleusercontent.com/a/default-user=s64",
      "userId": "18218808834952086757"
     },
     "user_tz": -180
    },
    "id": "FrEBklEup4kO"
   },
   "outputs": [],
   "source": [
    "# predict the future price\n",
    "future_price = predict(model, data)"
   ]
  },
  {
   "cell_type": "code",
   "execution_count": 32,
   "metadata": {
    "colab": {
     "base_uri": "https://localhost:8080/"
    },
    "executionInfo": {
     "elapsed": 8,
     "status": "ok",
     "timestamp": 1638183345746,
     "user": {
      "displayName": "Сергей Мазеин",
      "photoUrl": "https://lh3.googleusercontent.com/a/default-user=s64",
      "userId": "18218808834952086757"
     },
     "user_tz": -180
    },
    "id": "mlw-UgZPp4kO",
    "outputId": "b633c88c-c6d7-444b-af55-b244dc761a81",
    "pycharm": {
     "name": "#%%\n"
    }
   },
   "outputs": [
    {
     "data": {
      "text/plain": "120.99749"
     },
     "execution_count": 32,
     "metadata": {},
     "output_type": "execute_result"
    }
   ],
   "source": [
    "future_price"
   ]
  },
  {
   "cell_type": "code",
   "execution_count": 33,
   "metadata": {
    "executionInfo": {
     "elapsed": 7,
     "status": "ok",
     "timestamp": 1638183345746,
     "user": {
      "displayName": "Сергей Мазеин",
      "photoUrl": "https://lh3.googleusercontent.com/a/default-user=s64",
      "userId": "18218808834952086757"
     },
     "user_tz": -180
    },
    "id": "5fhA5Djwp4kP"
   },
   "outputs": [],
   "source": [
    "# we calculate the accuracy by counting the number of positive profits\n",
    "accuracy_score = (len(final_df[final_df['sell_profit'] > 0]) + len(final_df[final_df['buy_profit'] > 0])) / len(final_df)\n",
    "# calculating total buy & sell profit\n",
    "total_buy_profit  = final_df[\"buy_profit\"].sum()\n",
    "total_sell_profit = final_df[\"sell_profit\"].sum()\n",
    "# total profit by adding sell & buy together\n",
    "total_profit = total_buy_profit + total_sell_profit\n",
    "# dividing total profit by number of testing samples (number of trades)\n",
    "profit_per_trade = total_profit / len(final_df)"
   ]
  },
  {
   "cell_type": "code",
   "execution_count": 34,
   "metadata": {
    "colab": {
     "base_uri": "https://localhost:8080/"
    },
    "executionInfo": {
     "elapsed": 7,
     "status": "ok",
     "timestamp": 1638183345747,
     "user": {
      "displayName": "Сергей Мазеин",
      "photoUrl": "https://lh3.googleusercontent.com/a/default-user=s64",
      "userId": "18218808834952086757"
     },
     "user_tz": -180
    },
    "id": "bmGMNpBgp4kP",
    "outputId": "2e58096c-0348-4cb8-b167-e4d3d1504a66"
   },
   "outputs": [
    {
     "name": "stdout",
     "output_type": "stream",
     "text": [
      "IBM_2000_test2021_close  ['close']\n",
      "\n",
      "Future price after 15 days is 121.00$\n",
      "huber_loss loss: 0.0008373439777642488\n",
      "Mean Absolute Error: 57.687978922713796\n",
      "Accuracy score: 0.5574468085106383\n",
      "Total buy profit: 142.2645263671875\n",
      "Total sell profit: 165.35434722900396\n",
      "Total profit: 307.61887359619146\n",
      "Profit per trade: 1.3090164833880489\n",
      "\n"
     ]
    }
   ],
   "source": [
    "# printing metrics\n",
    "f = open(os.path.join(new_results + \"/test-results\", \"result.txt\"), 'w')\n",
    "print(new_results + \"  \" + str(FEATURE_COLUMNS) ,file=f)\n",
    "print(\"\", file=f)\n",
    "print(f\"Future price after {LOOKUP_STEP} days is {future_price:.2f}$\",file=f)\n",
    "print(f\"{LOSS} loss:\", loss,file=f)\n",
    "print(\"Mean Absolute Error:\", mean_absolute_error,file=f)\n",
    "print(\"Accuracy score:\", accuracy_score,file=f)\n",
    "print(\"Total buy profit:\", total_buy_profit,file=f)\n",
    "print(\"Total sell profit:\", total_sell_profit,file=f)\n",
    "print(\"Total profit:\", total_profit,file=f)\n",
    "print(\"Profit per trade:\", profit_per_trade,file=f)\n",
    "f.close()\n",
    "\n",
    "result_file = open(os.path.join(new_results + \"/test-results\", \"result.txt\"),\"r\")\n",
    "print(result_file.read())"
   ]
  },
  {
   "cell_type": "code",
   "execution_count": 35,
   "metadata": {
    "colab": {
     "base_uri": "https://localhost:8080/",
     "height": 282
    },
    "executionInfo": {
     "elapsed": 619,
     "status": "ok",
     "timestamp": 1638183346361,
     "user": {
      "displayName": "Сергей Мазеин",
      "photoUrl": "https://lh3.googleusercontent.com/a/default-user=s64",
      "userId": "18218808834952086757"
     },
     "user_tz": -180
    },
    "id": "lliJ8Ss8p4kP",
    "outputId": "37a1e6ee-f46b-47d5-cfda-e6ff28264004"
   },
   "outputs": [
    {
     "data": {
      "text/plain": "<Figure size 432x288 with 1 Axes>",
      "image/png": "[encoded data removed]"
     },
     "metadata": {
      "needs_background": "light"
     },
     "output_type": "display_data"
    }
   ],
   "source": [
    "# plot true/pred prices graph\n",
    "plot_graph(final_df)"
   ]
  },
  {
   "cell_type": "code",
   "execution_count": 36,
   "metadata": {
    "colab": {
     "base_uri": "https://localhost:8080/",
     "height": 1000
    },
    "executionInfo": {
     "elapsed": 7,
     "status": "ok",
     "timestamp": 1638183346362,
     "user": {
      "displayName": "Сергей Мазеин",
      "photoUrl": "https://lh3.googleusercontent.com/a/default-user=s64",
      "userId": "18218808834952086757"
     },
     "user_tz": -180
    },
    "id": "6b2_fk7up4kP",
    "outputId": "b69ee47e-8604-4727-e495-f4e87289f366"
   },
   "outputs": [
    {
     "data": {
      "text/plain": "                  open        high         low       close    adjclose  \\\n2020-12-10  120.793503  121.347992  119.445503  119.464630  113.741898   \n2020-12-11  118.623329  119.990440  118.173996  118.804970  113.113831   \n2020-12-14  119.808792  120.688339  118.040154  118.097511  112.440254   \n2020-12-15  118.919693  120.391968  118.011475  120.391968  114.624809   \n2020-12-16  120.391968  121.003822  119.780113  120.028679  114.278923   \n2020-12-17  120.535370  120.544930  119.416824  120.028679  114.278923   \n2020-12-18  120.066925  120.841301  119.474190  120.315491  114.551994   \n2020-12-21  118.518166  118.718925  116.367111  117.963669  112.312828   \n2020-12-22  117.887192  118.757172  117.026772  118.173996  112.513077   \n2020-12-23  118.432121  119.703636  118.298279  118.451241  112.777046   \n\n             volume ticker         ma7        ma21       ma100  ...  \\\n2020-12-10  5024147    IBM  119.856597  116.217336  116.455449  ...   \n2020-12-11  4687544    IBM  119.808795  116.539197  116.413384  ...   \n2020-12-14  5282300    IBM  119.797869  116.950287  116.377055  ...   \n2020-12-15  4556585    IBM  119.624419  117.363653  116.378394  ...   \n2020-12-16  4738485    IBM  119.740507  117.690977  116.372084  ...   \n2020-12-17  3962248    IBM  119.718655  118.048347  116.382409  ...   \n2020-12-18  7900229    IBM  119.590275  118.461714  116.387476  ...   \n2020-12-21  6397022    IBM  119.375852  118.744423  116.392160  ...   \n2020-12-22  4535561    IBM  119.285713  119.048074  116.398566  ...   \n2020-12-23  2817819    IBM  119.336246  119.221524  116.394646  ...   \n\n                 12ema      MACD         ema    momentum      body  body_abs  \\\n2020-12-10  118.597528  2.135147  119.913469  118.464630 -1.328873  1.328873   \n2020-12-11  118.629442  1.993536  119.174470  117.804970  0.181641  0.181641   \n2020-12-14  118.547607  1.803433  118.456497  117.097511 -1.711281  1.711281   \n2020-12-15  118.831355  1.816974  119.746811  119.391968  1.472275  1.472275   \n2020-12-16  119.015558  1.777896  119.934723  119.028679 -0.363289  0.363289   \n2020-12-17  119.171423  1.727019  119.997360  119.028679 -0.506691  0.506691   \n2020-12-18  119.347434  1.690356  120.209447  119.315491  0.248566  0.248566   \n2020-12-21  119.134547  1.454759  118.712262  116.963669 -0.554497  0.554497   \n2020-12-22  118.986770  1.270374  118.353418  117.173996  0.286804  0.286804   \n2020-12-23  118.904381  1.133552  118.418633  117.451241  0.019119  0.019119   \n\n              close_15  true_close_15  buy_profit  sell_profit  \n2020-12-10  119.542801     118.489487   -0.975143     0.000000  \n2020-12-11  118.717003     120.592735    0.000000    -1.787766  \n2020-12-14  117.890991     123.604210    0.000000    -5.506699  \n2020-12-15  118.724297     123.317398    0.000000    -2.925430  \n2020-12-16  119.247482     122.877632    0.000000    -2.848953  \n2020-12-17  119.481903     122.925430    0.000000    -2.896751  \n2020-12-18  119.721901     123.527725    0.000000    -3.212234  \n2020-12-21  118.628098     121.338432    3.374763     0.000000  \n2020-12-22  118.010796     123.298279    0.000000    -5.124283  \n2020-12-23  117.974426     122.743790    0.000000    -4.292549  \n\n[10 rows x 23 columns]",
      "text/html": "<div>\n<style scoped>\n    .dataframe tbody tr th:only-of-type {\n        vertical-align: middle;\n    }\n\n    .dataframe tbody tr th {\n        vertical-align: top;\n    }\n\n    .dataframe thead th {\n        text-align: right;\n    }\n</style>\n<table border=\"1\" class=\"dataframe\">\n  <thead>\n    <tr style=\"text-align: right;\">\n      <th></th>\n      <th>open</th>\n      <th>high</th>\n      <th>low</th>\n      <th>close</th>\n      <th>adjclose</th>\n      <th>volume</th>\n      <th>ticker</th>\n      <th>ma7</th>\n      <th>ma21</th>\n      <th>ma100</th>\n      <th>...</th>\n      <th>12ema</th>\n      <th>MACD</th>\n      <th>ema</th>\n      <th>momentum</th>\n      <th>body</th>\n      <th>body_abs</th>\n      <th>close_15</th>\n      <th>true_close_15</th>\n      <th>buy_profit</th>\n      <th>sell_profit</th>\n    </tr>\n  </thead>\n  <tbody>\n    <tr>\n      <th>2020-12-10</th>\n      <td>120.793503</td>\n      <td>121.347992</td>\n      <td>119.445503</td>\n      <td>119.464630</td>\n      <td>113.741898</td>\n      <td>5024147</td>\n      <td>IBM</td>\n      <td>119.856597</td>\n      <td>116.217336</td>\n      <td>116.455449</td>\n      <td>...</td>\n      <td>118.597528</td>\n      <td>2.135147</td>\n      <td>119.913469</td>\n      <td>118.464630</td>\n      <td>-1.328873</td>\n      <td>1.328873</td>\n      <td>119.542801</td>\n      <td>118.489487</td>\n      <td>-0.975143</td>\n      <td>0.000000</td>\n    </tr>\n    <tr>\n      <th>2020-12-11</th>\n      <td>118.623329</td>\n      <td>119.990440</td>\n      <td>118.173996</td>\n      <td>118.804970</td>\n      <td>113.113831</td>\n      <td>4687544</td>\n      <td>IBM</td>\n      <td>119.808795</td>\n      <td>116.539197</td>\n      <td>116.413384</td>\n      <td>...</td>\n      <td>118.629442</td>\n      <td>1.993536</td>\n      <td>119.174470</td>\n      <td>117.804970</td>\n      <td>0.181641</td>\n      <td>0.181641</td>\n      <td>118.717003</td>\n      <td>120.592735</td>\n      <td>0.000000</td>\n      <td>-1.787766</td>\n    </tr>\n    <tr>\n      <th>2020-12-14</th>\n      <td>119.808792</td>\n      <td>120.688339</td>\n      <td>118.040154</td>\n      <td>118.097511</td>\n      <td>112.440254</td>\n      <td>5282300</td>\n      <td>IBM</td>\n      <td>119.797869</td>\n      <td>116.950287</td>\n      <td>116.377055</td>\n      <td>...</td>\n      <td>118.547607</td>\n      <td>1.803433</td>\n      <td>118.456497</td>\n      <td>117.097511</td>\n      <td>-1.711281</td>\n      <td>1.711281</td>\n      <td>117.890991</td>\n      <td>123.604210</td>\n      <td>0.000000</td>\n      <td>-5.506699</td>\n    </tr>\n    <tr>\n      <th>2020-12-15</th>\n      <td>118.919693</td>\n      <td>120.391968</td>\n      <td>118.011475</td>\n      <td>120.391968</td>\n      <td>114.624809</td>\n      <td>4556585</td>\n      <td>IBM</td>\n      <td>119.624419</td>\n      <td>117.363653</td>\n      <td>116.378394</td>\n      <td>...</td>\n      <td>118.831355</td>\n      <td>1.816974</td>\n      <td>119.746811</td>\n      <td>119.391968</td>\n      <td>1.472275</td>\n      <td>1.472275</td>\n      <td>118.724297</td>\n      <td>123.317398</td>\n      <td>0.000000</td>\n      <td>-2.925430</td>\n    </tr>\n    <tr>\n      <th>2020-12-16</th>\n      <td>120.391968</td>\n      <td>121.003822</td>\n      <td>119.780113</td>\n      <td>120.028679</td>\n      <td>114.278923</td>\n      <td>4738485</td>\n      <td>IBM</td>\n      <td>119.740507</td>\n      <td>117.690977</td>\n      <td>116.372084</td>\n      <td>...</td>\n      <td>119.015558</td>\n      <td>1.777896</td>\n      <td>119.934723</td>\n      <td>119.028679</td>\n      <td>-0.363289</td>\n      <td>0.363289</td>\n      <td>119.247482</td>\n      <td>122.877632</td>\n      <td>0.000000</td>\n      <td>-2.848953</td>\n    </tr>\n    <tr>\n      <th>2020-12-17</th>\n      <td>120.535370</td>\n      <td>120.544930</td>\n      <td>119.416824</td>\n      <td>120.028679</td>\n      <td>114.278923</td>\n      <td>3962248</td>\n      <td>IBM</td>\n      <td>119.718655</td>\n      <td>118.048347</td>\n      <td>116.382409</td>\n      <td>...</td>\n      <td>119.171423</td>\n      <td>1.727019</td>\n      <td>119.997360</td>\n      <td>119.028679</td>\n      <td>-0.506691</td>\n      <td>0.506691</td>\n      <td>119.481903</td>\n      <td>122.925430</td>\n      <td>0.000000</td>\n      <td>-2.896751</td>\n    </tr>\n    <tr>\n      <th>2020-12-18</th>\n      <td>120.066925</td>\n      <td>120.841301</td>\n      <td>119.474190</td>\n      <td>120.315491</td>\n      <td>114.551994</td>\n      <td>7900229</td>\n      <td>IBM</td>\n      <td>119.590275</td>\n      <td>118.461714</td>\n      <td>116.387476</td>\n      <td>...</td>\n      <td>119.347434</td>\n      <td>1.690356</td>\n      <td>120.209447</td>\n      <td>119.315491</td>\n      <td>0.248566</td>\n      <td>0.248566</td>\n      <td>119.721901</td>\n      <td>123.527725</td>\n      <td>0.000000</td>\n      <td>-3.212234</td>\n    </tr>\n    <tr>\n      <th>2020-12-21</th>\n      <td>118.518166</td>\n      <td>118.718925</td>\n      <td>116.367111</td>\n      <td>117.963669</td>\n      <td>112.312828</td>\n      <td>6397022</td>\n      <td>IBM</td>\n      <td>119.375852</td>\n      <td>118.744423</td>\n      <td>116.392160</td>\n      <td>...</td>\n      <td>119.134547</td>\n      <td>1.454759</td>\n      <td>118.712262</td>\n      <td>116.963669</td>\n      <td>-0.554497</td>\n      <td>0.554497</td>\n      <td>118.628098</td>\n      <td>121.338432</td>\n      <td>3.374763</td>\n      <td>0.000000</td>\n    </tr>\n    <tr>\n      <th>2020-12-22</th>\n      <td>117.887192</td>\n      <td>118.757172</td>\n      <td>117.026772</td>\n      <td>118.173996</td>\n      <td>112.513077</td>\n      <td>4535561</td>\n      <td>IBM</td>\n      <td>119.285713</td>\n      <td>119.048074</td>\n      <td>116.398566</td>\n      <td>...</td>\n      <td>118.986770</td>\n      <td>1.270374</td>\n      <td>118.353418</td>\n      <td>117.173996</td>\n      <td>0.286804</td>\n      <td>0.286804</td>\n      <td>118.010796</td>\n      <td>123.298279</td>\n      <td>0.000000</td>\n      <td>-5.124283</td>\n    </tr>\n    <tr>\n      <th>2020-12-23</th>\n      <td>118.432121</td>\n      <td>119.703636</td>\n      <td>118.298279</td>\n      <td>118.451241</td>\n      <td>112.777046</td>\n      <td>2817819</td>\n      <td>IBM</td>\n      <td>119.336246</td>\n      <td>119.221524</td>\n      <td>116.394646</td>\n      <td>...</td>\n      <td>118.904381</td>\n      <td>1.133552</td>\n      <td>118.418633</td>\n      <td>117.451241</td>\n      <td>0.019119</td>\n      <td>0.019119</td>\n      <td>117.974426</td>\n      <td>122.743790</td>\n      <td>0.000000</td>\n      <td>-4.292549</td>\n    </tr>\n  </tbody>\n</table>\n<p>10 rows × 23 columns</p>\n</div>"
     },
     "execution_count": 36,
     "metadata": {},
     "output_type": "execute_result"
    }
   ],
   "source": [
    "final_df.head(10)"
   ]
  },
  {
   "cell_type": "code",
   "execution_count": 37,
   "metadata": {
    "colab": {
     "base_uri": "https://localhost:8080/",
     "height": 1000
    },
    "executionInfo": {
     "elapsed": 502,
     "status": "ok",
     "timestamp": 1638183346859,
     "user": {
      "displayName": "Сергей Мазеин",
      "photoUrl": "https://lh3.googleusercontent.com/a/default-user=s64",
      "userId": "18218808834952086757"
     },
     "user_tz": -180
    },
    "id": "4FyFT9Eip4kP",
    "outputId": "aa0df2da-7256-4002-9de6-cc512f478f34"
   },
   "outputs": [],
   "source": [
    "# final_df.tail(10)"
   ]
  },
  {
   "cell_type": "code",
   "execution_count": 38,
   "metadata": {
    "executionInfo": {
     "elapsed": 10,
     "status": "ok",
     "timestamp": 1638183346860,
     "user": {
      "displayName": "Сергей Мазеин",
      "photoUrl": "https://lh3.googleusercontent.com/a/default-user=s64",
      "userId": "18218808834952086757"
     },
     "user_tz": -180
    },
    "id": "3-cxuOzBp4kP"
   },
   "outputs": [],
   "source": [
    "# save the final dataframe to csv-results folder\n",
    "# csv_filename = os.path.join(\"test_results\", model_name + \".csv\")\n",
    "final_df.to_csv(os.path.join(new_results + \"/test-results\", model_name + \".csv\"))\n",
    "# xls_filename = os.path.join(\"test_results\", model_name + \".xlsx\")\n",
    "final_df.to_excel(os.path.join(new_results + \"/test-results\", model_name + \".xlsx\"))"
   ]
  },
  {
   "cell_type": "code",
   "execution_count": 39,
   "metadata": {
    "executionInfo": {
     "elapsed": 9,
     "status": "ok",
     "timestamp": 1638183346860,
     "user": {
      "displayName": "Сергей Мазеин",
      "photoUrl": "https://lh3.googleusercontent.com/a/default-user=s64",
      "userId": "18218808834952086757"
     },
     "user_tz": -180
    },
    "id": "ZLNZwZ8fp4kQ"
   },
   "outputs": [],
   "source": [
    "candles = final_df\n",
    "import datetime\n",
    "candles.rename(columns={f'close_{LOOKUP_STEP}':'predict',f'true_close_{LOOKUP_STEP}':'test'}, inplace=True)"
   ]
  },
  {
   "cell_type": "code",
   "execution_count": 40,
   "metadata": {},
   "outputs": [
    {
     "name": "stdout",
     "output_type": "stream",
     "text": [
      "2020/12/10 long 119\n",
      "2020/12/11 short 119 Profit: -1\n",
      "2020/12/21 long 118 Profit: 1\n",
      "2020/12/22 short 118 Profit: 0\n",
      "2020/12/29 long 118 Profit: 0\n",
      "2020/12/30 short 119 Profit: 1\n",
      "2021/01/04 long 118 Profit: 0\n",
      "2021/01/05 short 121 Profit: 2\n",
      "2021/01/08 long 123 Profit: -2\n",
      "2021/01/12 short 124 Profit: 1\n",
      "2021/01/13 long 121 Profit: 2\n",
      "2021/01/14 short 123 Profit: 2\n",
      "2021/01/22 long 113 Profit: 10\n",
      "2021/01/26 short 117 Profit: 4\n",
      "2021/01/28 long 115 Profit: 2\n",
      "2021/02/01 short 115 Profit: 0\n",
      "2021/02/02 long 114 Profit: 1\n",
      "2021/02/04 short 116 Profit: 2\n",
      "2021/02/05 long 116 Profit: -1\n",
      "2021/02/08 short 118 Profit: 2\n",
      "2021/02/09 long 117 Profit: 1\n",
      "2021/02/22 short 116 Profit: -1\n",
      "2021/02/23 long 115 Profit: 0\n",
      "2021/02/24 short 118 Profit: 2\n",
      "2021/02/25 long 117 Profit: 1\n",
      "2021/03/03 short 117 Profit: 0\n",
      "2021/03/04 long 115 Profit: 2\n",
      "2021/03/05 short 117 Profit: 3\n",
      "2021/03/09 long 119 Profit: -1\n",
      "2021/03/10 short 122 Profit: 4\n",
      "2021/03/11 long 122 Profit: 1\n",
      "2021/03/15 short 123 Profit: 1\n",
      "2021/03/19 long 123 Profit: 0\n",
      "2021/03/22 short 125 Profit: 2\n",
      "2021/03/31 long 127 Profit: -3\n",
      "2021/04/01 short 127 Profit: 0\n",
      "2021/04/13 long 125 Profit: 2\n",
      "2021/04/14 short 127 Profit: 1\n",
      "2021/05/12 long 135 Profit: -8\n",
      "2021/05/13 short 138 Profit: 3\n",
      "2021/06/17 long 139 Profit: -1\n",
      "2021/06/21 short 140 Profit: 1\n",
      "2021/07/02 long 134 Profit: 6\n",
      "2021/07/07 short 134 Profit: 0\n",
      "2021/07/16 long 133 Profit: 1\n",
      "2021/07/20 short 134 Profit: 1\n",
      "2021/08/09 long 135 Profit: -1\n",
      "2021/08/10 short 135 Profit: 0\n",
      "2021/08/18 long 133 Profit: 2\n",
      "2021/08/20 short 133 Profit: 0\n",
      "2021/09/07 long 132 Profit: 1\n",
      "2021/09/08 short 133 Profit: 1\n",
      "2021/09/10 long 131 Profit: 2\n",
      "2021/09/13 short 132 Profit: 1\n",
      "2021/09/14 long 130 Profit: 2\n",
      "2021/09/15 short 131 Profit: 1\n",
      "2021/09/17 long 129 Profit: 2\n",
      "2021/09/22 short 129 Profit: -1\n",
      "2021/09/28 long 131 Profit: -3\n",
      "2021/09/29 short 133 Profit: 2\n",
      "2021/10/21 long 123 Profit: 10\n",
      "2021/10/25 short 122 Profit: -1\n",
      "2021/10/27 long 120 Profit: 2\n",
      "2021/10/28 short 120 Profit: 1\n",
      "2021/10/29 long 120 Profit: 1\n",
      "2021/11/01 short 121 Profit: 1\n",
      "2021/11/02 long 121 Profit: 0\n",
      "2021/11/05 short 124 Profit: 3\n",
      "2021/11/08 long 125 Profit: -1\n",
      "\n",
      "2021/11/15 125 119  -=-=-= Close long\n",
      "\n",
      "Trade: long Poz: 125\n",
      "Profit: 61 51 %\n",
      "235\n"
     ]
    }
   ],
   "source": [
    "i = 0\n",
    "poz = 0\n",
    "trade = \"\" \n",
    "profit = 0\n",
    "year = ''\n",
    "# typeTrade = 'long'\n",
    "# typeTrade = 'short'\n",
    "typeTrade = 'short_long'\n",
    "\n",
    "\n",
    "\n",
    "\n",
    "profit_y = pd.DataFrame\n",
    "for index, row in final_df.iterrows():\n",
    "    i = i + 1\n",
    "    \n",
    "    if i == 1:\n",
    "        openPrice = row['close']\n",
    "        \n",
    "    closePrice = row['close']\n",
    "    \n",
    "    if (typeTrade == 'long' or typeTrade == 'short_long') and poz == 0 and row['close'] < row['predict']:\n",
    "        poz = row['close']\n",
    "        trade = \"long\"\n",
    "        print(index.strftime(\"%Y/%m/%d\"), trade, round(poz))\n",
    "        year =  index.year\n",
    "        continue\n",
    "    \n",
    "    if (typeTrade == 'short' or typeTrade == 'short_long') and poz == 0 and row['close'] > row['predict']:\n",
    "        poz = row['close']\n",
    "        trade = \"short\"\n",
    "        print(index.strftime(\"%Y/%m/%d\"), trade, round(poz))\n",
    "        year =  index.year\n",
    "        continue    \n",
    "    \n",
    "    if  (typeTrade == 'long'  or typeTrade == 'short_long') and trade == 'long' and row['close'] > row['predict']:\n",
    "        trade = \"short\"\n",
    "        profit = profit + row['close'] - poz\n",
    "#         print(index.strftime(\"%Y/%m/%d\"), trade, round(row['close']) , \"Profit:\", round(row['close'] - poz))\n",
    "        if typeTrade == 'short_long':            \n",
    "            print(index.strftime(\"%Y/%m/%d\"), trade, round(row['close']) , \"Profit:\", round(row['close'] - poz))\n",
    "            poz = row['close']\n",
    "        if typeTrade == 'long':\n",
    "            print(index.strftime(\"%Y/%m/%d\"), 'Close', round(row['close']) , \"Profit:\", round(row['close'] - poz))\n",
    "            poz = 0\n",
    "        continue  \n",
    "        \n",
    "        \n",
    "    if  (typeTrade == 'short' or typeTrade == 'short_long') and trade == 'short' and row['close'] < row['predict']:\n",
    "        trade = \"long\"\n",
    "        profit = profit + poz - row['close']\n",
    "        \n",
    "#         poz = row['close']\n",
    "        if (typeTrade == 'short_long'):            \n",
    "            print(index.strftime(\"%Y/%m/%d\"), trade, round(row['close']) , \"Profit:\", round(poz - row['close']))\n",
    "            poz = row['close']\n",
    "        if typeTrade == 'short':            \n",
    "            print(index.strftime(\"%Y/%m/%d\"), 'Close', round(row['close']) , \"Profit:\", round(poz - row['close']))\n",
    "            poz = 0\n",
    "        continue  \n",
    "        \n",
    "#     if trade == 'long' and row['close'] > row['predict']:\n",
    "#         trade = \"short\"\n",
    "#         profit = profit + row['close'] - poz\n",
    "#         print(index.strftime(\"%Y/%m/%d\"), trade, round(row['close']) , \"Profit:\", round(row['close'] - poz))\n",
    "#         #poz = row['close']\n",
    "#         if (typeTrade == 'short' or typeTrade == 'short_long'):\n",
    "#             poz = row['close']\n",
    "#         else:\n",
    "#             poz = 0\n",
    "#             trade = \"short\"\n",
    "#         continue  \n",
    "            \n",
    "                \n",
    "    \n",
    "    \n",
    "#     if year != index.year:\n",
    "#         profit_y.year = profit\n",
    "        \n",
    "    \n",
    "\n",
    "print()\n",
    "\n",
    "if trade == 'long' :\n",
    "    profit = profit + closePrice - poz\n",
    "\n",
    "if trade == 'short':\n",
    "    profit = profit + poz - closePrice\n",
    "\n",
    "print(index.strftime(\"%Y/%m/%d\"), round(poz) , round(closePrice), \" -=-=-= Close\",trade)       \n",
    "print()\n",
    "print('Trade:',trade,'Poz:',round(poz))        \n",
    "print('Profit:', round(profit),round(profit/openPrice*100),\"%\")   \n",
    "\n",
    "# pprofit_y\n",
    "# for py in profit_y:\n",
    "#     print(py)\n",
    "\n",
    "print(i)"
   ]
  },
  {
   "cell_type": "code",
   "execution_count": 41,
   "metadata": {
    "executionInfo": {
     "elapsed": 609,
     "status": "ok",
     "timestamp": 1638183462504,
     "user": {
      "displayName": "Сергей Мазеин",
      "photoUrl": "https://lh3.googleusercontent.com/a/default-user=s64",
      "userId": "18218808834952086757"
     },
     "user_tz": -180
    },
    "id": "BPeAa2uIp4kQ",
    "pycharm": {
     "name": "#%%\n"
    }
   },
   "outputs": [],
   "source": [
    "# Рисует основной график\n",
    "def draw_candles(candles):\n",
    "    # Добавим на график несколько ЕМА-средних\n",
    "    # candles['ema100'] = pd.Series.ewm(candles['close'], span=100).mean()\n",
    "    # candles['ema50'] = pd.Series.ewm(candles['close'], span=50).mean()\n",
    "    # candles['ema20'] = pd.Series.ewm(candles['close'], span=20).mean()\n",
    "    # candles['26ema'] = pd.Series.ewm(candles['close'], span=26).mean()\n",
    "    # candles['12ema'] = pd.Series.ewm(candles['close'], span=12).mean()\n",
    "    # candles['MACD'] = (candles['12ema']-candles['26ema'])\n",
    "    plt.style.use('ggplot')  # 'seaborn-paper'\n",
    "    # Отображаем график по цене закрытия свечей и ЕМА-шки\n",
    "    fig = candles.plot(y=['test', 'predict','close'], figsize=(25, 16))\n",
    "    # Добавляем заголовок\n",
    "    fig.set_title('График ' + ticker)\n",
    "    # Рисуем шкалу с датами\n",
    "    PlotDatesX(fig, candles)\n",
    "\n",
    "# Определяет начальную и конечную позицию Х (по индексу свечей) для заданной даты. Пригодится при отрисовке ценовых уровней\n",
    "def DateX(date, candles):\n",
    "    # Цикл по датам в свечах, результат - список X-координат, соответствующих заданной дате\n",
    "    xpositions = [index for index, row in candles.iterrows() if row['date'].date() == date]\n",
    "    # Возвращает список - пару начальная координата Х и конечная координата Х для заданной даты на графике\n",
    "    if xpositions == []:\n",
    "        return [len(candles) - 1, len(candles)]  # На случай если за текущую дату нет еще свечей\n",
    "    return [xpositions[0], xpositions[-1]]\n",
    "\n",
    "\n",
    "# Рисует метки дат на оси Х\n",
    "def PlotDatesX(fig, candles):\n",
    "    # Составляем список дат (только уникальные даты) из столбца DT. Они будут метками на оси Х. Сортировка по датам\n",
    "    # обязательна, т.к. при создании множества(set) даже из отсортированного списка, множество может не сохранить порядок списка\n",
    "    dates = sorted(set(map(lambda dt: datetime.date(dt), candles['date'])))\n",
    "    # Создаем список координат Х для каждой метки (даты). Нам нужна только первая позиция - [0].\n",
    "    xlabel = [DateX(d, candles)[0] for d in dates]\n",
    "    # Рисуем ось Х, разделенную по датам\n",
    "    fig.set_xticklabels(dates)\n",
    "    fig.set_xticks(xlabel)\n",
    "    return dates, xlabel"
   ]
  },
  {
   "cell_type": "code",
   "execution_count": 42,
   "metadata": {
    "colab": {
     "base_uri": "https://localhost:8080/"
    },
    "executionInfo": {
     "elapsed": 8,
     "status": "ok",
     "timestamp": 1638183346862,
     "user": {
      "displayName": "Сергей Мазеин",
      "photoUrl": "https://lh3.googleusercontent.com/a/default-user=s64",
      "userId": "18218808834952086757"
     },
     "user_tz": -180
    },
    "id": "lH67P0bOoaQr",
    "outputId": "a6742048-3e7f-43de-8019-00334a2fd488"
   },
   "outputs": [
    {
     "data": {
      "text/plain": "'C:\\\\Users\\\\sem\\\\PycharmProjects\\\\python.Neural.Market\\\\stock-prediction\\\\IBM_2000_test2021_close.zip'"
     },
     "execution_count": 42,
     "metadata": {},
     "output_type": "execute_result"
    }
   ],
   "source": [
    "if collab:\n",
    "    copy_tree(new_results + \"/results\", data_path + \"/results\" )\n",
    "    copy_tree(new_results + \"/logs\", data_path + \"/logs\")\n",
    "    copy_tree(new_results + \"/data\", data_path + \"/data\")\n",
    "    copy_tree(new_results + \"/test-results\", data_path + \"/test-results\")\n",
    "# Arc folders with results\n",
    "shutil.make_archive(new_results, 'zip', new_results)"
   ]
  },
  {
   "cell_type": "code",
   "execution_count": 43,
   "metadata": {
    "colab": {
     "base_uri": "https://localhost:8080/",
     "height": 1000
    },
    "executionInfo": {
     "elapsed": 1454,
     "status": "error",
     "timestamp": 1638183467560,
     "user": {
      "displayName": "Сергей Мазеин",
      "photoUrl": "https://lh3.googleusercontent.com/a/default-user=s64",
      "userId": "18218808834952086757"
     },
     "user_tz": -180
    },
    "id": "sRTeywM6p4kQ",
    "outputId": "689439a8-0b58-497d-ce28-41e9f4249d8d",
    "pycharm": {
     "name": "#%%\n"
    }
   },
   "outputs": [
    {
     "ename": "KeyError",
     "evalue": "'date'",
     "output_type": "error",
     "traceback": [
      "\u001B[1;31m---------------------------------------------------------------------------\u001B[0m",
      "\u001B[1;31mKeyError\u001B[0m                                  Traceback (most recent call last)",
      "\u001B[1;32mc:\\users\\sem\\pycharmprojects\\python.neural.market\\venv\\lib\\site-packages\\pandas\\core\\indexes\\base.py\u001B[0m in \u001B[0;36mget_loc\u001B[1;34m(self, key, method, tolerance)\u001B[0m\n\u001B[0;32m   3360\u001B[0m             \u001B[1;32mtry\u001B[0m\u001B[1;33m:\u001B[0m\u001B[1;33m\u001B[0m\u001B[1;33m\u001B[0m\u001B[0m\n\u001B[1;32m-> 3361\u001B[1;33m                 \u001B[1;32mreturn\u001B[0m \u001B[0mself\u001B[0m\u001B[1;33m.\u001B[0m\u001B[0m_engine\u001B[0m\u001B[1;33m.\u001B[0m\u001B[0mget_loc\u001B[0m\u001B[1;33m(\u001B[0m\u001B[0mcasted_key\u001B[0m\u001B[1;33m)\u001B[0m\u001B[1;33m\u001B[0m\u001B[1;33m\u001B[0m\u001B[0m\n\u001B[0m\u001B[0;32m   3362\u001B[0m             \u001B[1;32mexcept\u001B[0m \u001B[0mKeyError\u001B[0m \u001B[1;32mas\u001B[0m \u001B[0merr\u001B[0m\u001B[1;33m:\u001B[0m\u001B[1;33m\u001B[0m\u001B[1;33m\u001B[0m\u001B[0m\n",
      "\u001B[1;32mc:\\users\\sem\\pycharmprojects\\python.neural.market\\venv\\lib\\site-packages\\pandas\\_libs\\index.pyx\u001B[0m in \u001B[0;36mpandas._libs.index.IndexEngine.get_loc\u001B[1;34m()\u001B[0m\n",
      "\u001B[1;32mc:\\users\\sem\\pycharmprojects\\python.neural.market\\venv\\lib\\site-packages\\pandas\\_libs\\index.pyx\u001B[0m in \u001B[0;36mpandas._libs.index.IndexEngine.get_loc\u001B[1;34m()\u001B[0m\n",
      "\u001B[1;32mpandas\\_libs\\hashtable_class_helper.pxi\u001B[0m in \u001B[0;36mpandas._libs.hashtable.PyObjectHashTable.get_item\u001B[1;34m()\u001B[0m\n",
      "\u001B[1;32mpandas\\_libs\\hashtable_class_helper.pxi\u001B[0m in \u001B[0;36mpandas._libs.hashtable.PyObjectHashTable.get_item\u001B[1;34m()\u001B[0m\n",
      "\u001B[1;31mKeyError\u001B[0m: 'date'",
      "\nThe above exception was the direct cause of the following exception:\n",
      "\u001B[1;31mKeyError\u001B[0m                                  Traceback (most recent call last)",
      "\u001B[1;32m~\\AppData\\Local\\Temp/ipykernel_6344/1297879658.py\u001B[0m in \u001B[0;36m<module>\u001B[1;34m\u001B[0m\n\u001B[1;32m----> 1\u001B[1;33m \u001B[0mdraw_candles\u001B[0m\u001B[1;33m(\u001B[0m\u001B[0mcandles\u001B[0m\u001B[1;33m.\u001B[0m\u001B[0mtail\u001B[0m\u001B[1;33m(\u001B[0m\u001B[1;36m1000\u001B[0m\u001B[1;33m)\u001B[0m\u001B[1;33m)\u001B[0m\u001B[1;33m\u001B[0m\u001B[1;33m\u001B[0m\u001B[0m\n\u001B[0m",
      "\u001B[1;32m~\\AppData\\Local\\Temp/ipykernel_6344/1634142927.py\u001B[0m in \u001B[0;36mdraw_candles\u001B[1;34m(candles)\u001B[0m\n\u001B[0;32m     14\u001B[0m     \u001B[0mfig\u001B[0m\u001B[1;33m.\u001B[0m\u001B[0mset_title\u001B[0m\u001B[1;33m(\u001B[0m\u001B[1;34m'График '\u001B[0m \u001B[1;33m+\u001B[0m \u001B[0mticker\u001B[0m\u001B[1;33m)\u001B[0m\u001B[1;33m\u001B[0m\u001B[1;33m\u001B[0m\u001B[0m\n\u001B[0;32m     15\u001B[0m     \u001B[1;31m# Рисуем шкалу с датами\u001B[0m\u001B[1;33m\u001B[0m\u001B[1;33m\u001B[0m\u001B[1;33m\u001B[0m\u001B[0m\n\u001B[1;32m---> 16\u001B[1;33m     \u001B[0mPlotDatesX\u001B[0m\u001B[1;33m(\u001B[0m\u001B[0mfig\u001B[0m\u001B[1;33m,\u001B[0m \u001B[0mcandles\u001B[0m\u001B[1;33m)\u001B[0m\u001B[1;33m\u001B[0m\u001B[1;33m\u001B[0m\u001B[0m\n\u001B[0m\u001B[0;32m     17\u001B[0m \u001B[1;33m\u001B[0m\u001B[0m\n\u001B[0;32m     18\u001B[0m \u001B[1;31m# Определяет начальную и конечную позицию Х (по индексу свечей) для заданной даты. Пригодится при отрисовке ценовых уровней\u001B[0m\u001B[1;33m\u001B[0m\u001B[1;33m\u001B[0m\u001B[1;33m\u001B[0m\u001B[0m\n",
      "\u001B[1;32m~\\AppData\\Local\\Temp/ipykernel_6344/1634142927.py\u001B[0m in \u001B[0;36mPlotDatesX\u001B[1;34m(fig, candles)\u001B[0m\n\u001B[0;32m     30\u001B[0m     \u001B[1;31m# Составляем список дат (только уникальные даты) из столбца DT. Они будут метками на оси Х. Сортировка по датам\u001B[0m\u001B[1;33m\u001B[0m\u001B[1;33m\u001B[0m\u001B[1;33m\u001B[0m\u001B[0m\n\u001B[0;32m     31\u001B[0m     \u001B[1;31m# обязательна, т.к. при создании множества(set) даже из отсортированного списка, множество может не сохранить порядок списка\u001B[0m\u001B[1;33m\u001B[0m\u001B[1;33m\u001B[0m\u001B[1;33m\u001B[0m\u001B[0m\n\u001B[1;32m---> 32\u001B[1;33m     \u001B[0mdates\u001B[0m \u001B[1;33m=\u001B[0m \u001B[0msorted\u001B[0m\u001B[1;33m(\u001B[0m\u001B[0mset\u001B[0m\u001B[1;33m(\u001B[0m\u001B[0mmap\u001B[0m\u001B[1;33m(\u001B[0m\u001B[1;32mlambda\u001B[0m \u001B[0mdt\u001B[0m\u001B[1;33m:\u001B[0m \u001B[0mdatetime\u001B[0m\u001B[1;33m.\u001B[0m\u001B[0mdate\u001B[0m\u001B[1;33m(\u001B[0m\u001B[0mdt\u001B[0m\u001B[1;33m)\u001B[0m\u001B[1;33m,\u001B[0m \u001B[0mcandles\u001B[0m\u001B[1;33m[\u001B[0m\u001B[1;34m'date'\u001B[0m\u001B[1;33m]\u001B[0m\u001B[1;33m)\u001B[0m\u001B[1;33m)\u001B[0m\u001B[1;33m)\u001B[0m\u001B[1;33m\u001B[0m\u001B[1;33m\u001B[0m\u001B[0m\n\u001B[0m\u001B[0;32m     33\u001B[0m     \u001B[1;31m# Создаем список координат Х для каждой метки (даты). Нам нужна только первая позиция - [0].\u001B[0m\u001B[1;33m\u001B[0m\u001B[1;33m\u001B[0m\u001B[1;33m\u001B[0m\u001B[0m\n\u001B[0;32m     34\u001B[0m     \u001B[0mxlabel\u001B[0m \u001B[1;33m=\u001B[0m \u001B[1;33m[\u001B[0m\u001B[0mDateX\u001B[0m\u001B[1;33m(\u001B[0m\u001B[0md\u001B[0m\u001B[1;33m,\u001B[0m \u001B[0mcandles\u001B[0m\u001B[1;33m)\u001B[0m\u001B[1;33m[\u001B[0m\u001B[1;36m0\u001B[0m\u001B[1;33m]\u001B[0m \u001B[1;32mfor\u001B[0m \u001B[0md\u001B[0m \u001B[1;32min\u001B[0m \u001B[0mdates\u001B[0m\u001B[1;33m]\u001B[0m\u001B[1;33m\u001B[0m\u001B[1;33m\u001B[0m\u001B[0m\n",
      "\u001B[1;32mc:\\users\\sem\\pycharmprojects\\python.neural.market\\venv\\lib\\site-packages\\pandas\\core\\frame.py\u001B[0m in \u001B[0;36m__getitem__\u001B[1;34m(self, key)\u001B[0m\n\u001B[0;32m   3456\u001B[0m             \u001B[1;32mif\u001B[0m \u001B[0mself\u001B[0m\u001B[1;33m.\u001B[0m\u001B[0mcolumns\u001B[0m\u001B[1;33m.\u001B[0m\u001B[0mnlevels\u001B[0m \u001B[1;33m>\u001B[0m \u001B[1;36m1\u001B[0m\u001B[1;33m:\u001B[0m\u001B[1;33m\u001B[0m\u001B[1;33m\u001B[0m\u001B[0m\n\u001B[0;32m   3457\u001B[0m                 \u001B[1;32mreturn\u001B[0m \u001B[0mself\u001B[0m\u001B[1;33m.\u001B[0m\u001B[0m_getitem_multilevel\u001B[0m\u001B[1;33m(\u001B[0m\u001B[0mkey\u001B[0m\u001B[1;33m)\u001B[0m\u001B[1;33m\u001B[0m\u001B[1;33m\u001B[0m\u001B[0m\n\u001B[1;32m-> 3458\u001B[1;33m             \u001B[0mindexer\u001B[0m \u001B[1;33m=\u001B[0m \u001B[0mself\u001B[0m\u001B[1;33m.\u001B[0m\u001B[0mcolumns\u001B[0m\u001B[1;33m.\u001B[0m\u001B[0mget_loc\u001B[0m\u001B[1;33m(\u001B[0m\u001B[0mkey\u001B[0m\u001B[1;33m)\u001B[0m\u001B[1;33m\u001B[0m\u001B[1;33m\u001B[0m\u001B[0m\n\u001B[0m\u001B[0;32m   3459\u001B[0m             \u001B[1;32mif\u001B[0m \u001B[0mis_integer\u001B[0m\u001B[1;33m(\u001B[0m\u001B[0mindexer\u001B[0m\u001B[1;33m)\u001B[0m\u001B[1;33m:\u001B[0m\u001B[1;33m\u001B[0m\u001B[1;33m\u001B[0m\u001B[0m\n\u001B[0;32m   3460\u001B[0m                 \u001B[0mindexer\u001B[0m \u001B[1;33m=\u001B[0m \u001B[1;33m[\u001B[0m\u001B[0mindexer\u001B[0m\u001B[1;33m]\u001B[0m\u001B[1;33m\u001B[0m\u001B[1;33m\u001B[0m\u001B[0m\n",
      "\u001B[1;32mc:\\users\\sem\\pycharmprojects\\python.neural.market\\venv\\lib\\site-packages\\pandas\\core\\indexes\\base.py\u001B[0m in \u001B[0;36mget_loc\u001B[1;34m(self, key, method, tolerance)\u001B[0m\n\u001B[0;32m   3361\u001B[0m                 \u001B[1;32mreturn\u001B[0m \u001B[0mself\u001B[0m\u001B[1;33m.\u001B[0m\u001B[0m_engine\u001B[0m\u001B[1;33m.\u001B[0m\u001B[0mget_loc\u001B[0m\u001B[1;33m(\u001B[0m\u001B[0mcasted_key\u001B[0m\u001B[1;33m)\u001B[0m\u001B[1;33m\u001B[0m\u001B[1;33m\u001B[0m\u001B[0m\n\u001B[0;32m   3362\u001B[0m             \u001B[1;32mexcept\u001B[0m \u001B[0mKeyError\u001B[0m \u001B[1;32mas\u001B[0m \u001B[0merr\u001B[0m\u001B[1;33m:\u001B[0m\u001B[1;33m\u001B[0m\u001B[1;33m\u001B[0m\u001B[0m\n\u001B[1;32m-> 3363\u001B[1;33m                 \u001B[1;32mraise\u001B[0m \u001B[0mKeyError\u001B[0m\u001B[1;33m(\u001B[0m\u001B[0mkey\u001B[0m\u001B[1;33m)\u001B[0m \u001B[1;32mfrom\u001B[0m \u001B[0merr\u001B[0m\u001B[1;33m\u001B[0m\u001B[1;33m\u001B[0m\u001B[0m\n\u001B[0m\u001B[0;32m   3364\u001B[0m \u001B[1;33m\u001B[0m\u001B[0m\n\u001B[0;32m   3365\u001B[0m         \u001B[1;32mif\u001B[0m \u001B[0mis_scalar\u001B[0m\u001B[1;33m(\u001B[0m\u001B[0mkey\u001B[0m\u001B[1;33m)\u001B[0m \u001B[1;32mand\u001B[0m \u001B[0misna\u001B[0m\u001B[1;33m(\u001B[0m\u001B[0mkey\u001B[0m\u001B[1;33m)\u001B[0m \u001B[1;32mand\u001B[0m \u001B[1;32mnot\u001B[0m \u001B[0mself\u001B[0m\u001B[1;33m.\u001B[0m\u001B[0mhasnans\u001B[0m\u001B[1;33m:\u001B[0m\u001B[1;33m\u001B[0m\u001B[1;33m\u001B[0m\u001B[0m\n",
      "\u001B[1;31mKeyError\u001B[0m: 'date'"
     ]
    },
    {
     "data": {
      "text/plain": "<Figure size 1800x1152 with 1 Axes>",
      "image/png": "[encoded data removed]"
     },
     "metadata": {},
     "output_type": "display_data"
    }
   ],
   "source": [
    "draw_candles(candles.tail(1000))"
   ]
  },
  {
   "cell_type": "code",
   "execution_count": null,
   "metadata": {},
   "outputs": [],
   "source": []
  }
 ],
 "metadata": {
  "colab": {
   "name": "stock_prediction_2_SP_work_GPU.ipynb",
   "provenance": []
  },
  "kernelspec": {
   "display_name": "Python 3 (ipykernel)",
   "language": "python",
   "name": "python3"
  },
  "language_info": {
   "codemirror_mode": {
    "name": "ipython",
    "version": 3
   },
   "file_extension": ".py",
   "mimetype": "text/x-python",
   "name": "python",
   "nbconvert_exporter": "python",
   "pygments_lexer": "ipython3",
   "version": "3.9.5"
  }
 },
 "nbformat": 4,
 "nbformat_minor": 1
}